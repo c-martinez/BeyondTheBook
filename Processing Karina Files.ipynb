{
 "metadata": {
  "name": "",
  "signature": "sha256:9b4367b69e1dbb3b6f5848b7f9c487e1de24354d62f5ef84f3872d266951e820"
 },
 "nbformat": 3,
 "nbformat_minor": 0,
 "worksheets": [
  {
   "cells": [
    {
     "cell_type": "code",
     "collapsed": false,
     "input": [
      "from __future__ import division\n",
      "\n",
      "import BeautifulSoup\n",
      "import numpy as np\n",
      "import itertools\n",
      "import mwclient\n",
      "import pandas as pd\n",
      "\n",
      "import pickle\n",
      "\n",
      "import btb.utils.tools as btbtools\n",
      "import btb.utils.wikiquery as wq"
     ],
     "language": "python",
     "metadata": {},
     "outputs": [],
     "prompt_number": 1
    },
    {
     "cell_type": "code",
     "collapsed": false,
     "input": [
      "wikiNL = mwclient.Site('nl.wikipedia.org')\n",
      "wikiEN = mwclient.Site('en.wikipedia.org')\n",
      "bots = wq.getAllBots(wikiEN)"
     ],
     "language": "python",
     "metadata": {},
     "outputs": [
      {
       "output_type": "stream",
       "stream": "stdout",
       "text": [
        "{'augroup': 'bot'}\n"
       ]
      }
     ],
     "prompt_number": 2
    },
    {
     "cell_type": "code",
     "collapsed": false,
     "input": [
      "__NAME_CACHE = {}\n",
      "__INTEREST_CACHE = {}\n",
      "\n",
      "def getFromGlobalNameCache(name):\n",
      "    try:\n",
      "        return __NAME_CACHE[name]\n",
      "    except:\n",
      "        return None\n",
      "\n",
      "def saveToGlobalNameCache(name, value):\n",
      "    __NAME_CACHE[name] = value\n",
      "\n",
      "def getFromGlobalInterestCache(name):\n",
      "    try:\n",
      "        return __INTEREST_CACHE[name]\n",
      "    except:\n",
      "        return None\n",
      "\n",
      "def saveToGlobalInterestCache(name, value):\n",
      "    __INTEREST_CACHE[name] = value\n",
      "\n",
      "def syncCaches():\n",
      "    global __NAME_CACHE\n",
      "    global __INTEREST_CACHE\n",
      "    try:\n",
      "        nameCacheFile = pickle.load(open('NAME_CACHE.pkl','r'))\n",
      "        __NAME_CACHE = dict(__NAME_CACHE.items() + nameCacheFile.items())\n",
      "        \n",
      "        sizePre = len(nameCacheFile)\n",
      "        sizePost = len(__NAME_CACHE)\n",
      "        if sizePre!=sizePost:\n",
      "            print 'Cache grew by: ',(sizePost - sizePre)\n",
      "    except:\n",
      "        pass\n",
      "    \n",
      "    try:\n",
      "        interestCacheFile = pickle.load(open('INTEREST_CACHE.pkl','r'))\n",
      "        __INTEREST_CACHE = dict(__INTEREST_CACHE.items() + interestCacheFile.items())\n",
      "        \n",
      "        sizePre = len(interestCacheFile)\n",
      "        sizePost = len(__INTEREST_CACHE)\n",
      "        if sizePre!=sizePost:\n",
      "            print 'Cache 2 grew by: ',(sizePost - sizePre)\n",
      "    except:\n",
      "        pass\n",
      "\n",
      "    pickle.dump(__NAME_CACHE, open('NAME_CACHE.pkl', 'w'))\n",
      "    pickle.dump(__INTEREST_CACHE, open('INTEREST_CACHE.pkl', 'w'))\n"
     ],
     "language": "python",
     "metadata": {},
     "outputs": [],
     "prompt_number": 3
    },
    {
     "cell_type": "code",
     "collapsed": false,
     "input": [
      "def getName(nym_xml):\n",
      "    forms = nym_xml.findAll('form', {'type': 'nym'})\n",
      "    if len(forms)==1:\n",
      "        return forms[0].getText()\n",
      "    else:\n",
      "        print '!!! getName(nym_xml) -- length = ',len(forms)\n",
      "        return None\n",
      "\n",
      "def getNymData(nym_xml):\n",
      "    '''\n",
      "    Returns:\n",
      "      freq    The frequency of term on any form it was observed\n",
      "      name    The normalized way in which the text has been observed\n",
      "      nstype  Namescape type of entity: person, location, etc.\n",
      "    '''\n",
      "    freqs = nym_xml.findAll('usg', { 'type': 'frequency' })\n",
      "    freq = np.array([ int(f.getText()) for f in freqs]).max()\n",
      "    name = getName(nym_xml)\n",
      "    nstype = nym_xml.get('ns:type')\n",
      "    \n",
      "    return freq, name, nstype\n",
      "\n",
      "def getLangTitle(sourceWiki, title, targetLang='en'):\n",
      "    page = sourceWiki.Pages[title]\n",
      "    page = page.resolve_redirect()\n",
      "\n",
      "    for lang,langTitle in page.langlinks():\n",
      "        if lang==targetLang:\n",
      "            return langTitle\n",
      "    return None\n",
      "\n",
      "def getAllTitleOptions(title):\n",
      "    words = title.split(' ')\n",
      "    cases = range(2) # [ 0 1 ] ==> 0 lower, 1 title case\n",
      "    nWords = len(words)\n",
      "    titleOpts = []\n",
      "    for x in itertools.product(cases, repeat=nWords):\n",
      "        title =  [ words[i].lower() if x[i]==0 else words[i].title() for i in range(nWords) ]\n",
      "        titleOpts.append(' '.join(title))\n",
      "    return titleOpts\n",
      "\n",
      "def findFirstTitleMatch(sourceWiki, origTitle, targetLang='en', debug=False):\n",
      "    cached = getFromGlobalNameCache(origTitle)\n",
      "#    if cached is not None:\n",
      "#        print 'Cached saved time!'\n",
      "#        return cached\n",
      "    \n",
      "    titles = getAllTitleOptions(origTitle)\n",
      "    for title in titles:\n",
      "        title = mwclient.page.Page.normalize_title(title)\n",
      "        candidate = getLangTitle(sourceWiki, title, targetLang=targetLang)\n",
      "        \n",
      "        if debug:\n",
      "            print title,'-->',candidate\n",
      "        \n",
      "        if candidate is not None:\n",
      "            saveToGlobalNameCache(origTitle, candidate)\n",
      "            return candidate\n",
      "    return None # No translation was found !\n",
      "\n",
      "def wikiCountryInterest(wiki, pageTitle):\n",
      "    cached = getFromGlobalInterestCache(pageTitle)\n",
      "#    if cached is not None:\n",
      "#        print 'Cached saved time 2!'\n",
      "#        return cached\n",
      "    try:\n",
      "        ips, usrs, nrevs = wq.getContributionsForPage(wiki, pageTitle)\n",
      "        knwRevs, conf, nIP, nUsr, nBot, nUnkn = btbtools.prepareData(ips, usrs, bots)\n",
      "        expEdits = wq.getTotalContributions()\n",
      "\n",
      "        cmpEdits = btbtools.compareEdits(expEdits, knwRevs)\n",
      "\n",
      "        nl_e, nl_o, nl_m = cmpEdits['NL']\n",
      "        ca_e, ca_o, ca_m = cmpEdits['CA']\n",
      "\n",
      "        saveToGlobalInterestCache(pageTitle, (nl_o, ca_o, conf))\n",
      "        return (nl_o, ca_o, conf)\n",
      "    except Exception as err:\n",
      "        print 'PATCH IT! Error for word \"'+pageTitle+'\":',err.__class__,' ->',err\n",
      "        return None,None,None"
     ],
     "language": "python",
     "metadata": {},
     "outputs": [],
     "prompt_number": 4
    },
    {
     "cell_type": "code",
     "collapsed": false,
     "input": [
      "# karinaFile = '../data/corpus.karina.nerINL.2012-10-26/nl.ns.d.9789020417159.k.xml'\n",
      "karinaFile = '../data/corpus.karina.nerINL.2012-10-26/nl.ns.d.9789044301717.k.xml'\n"
     ],
     "language": "python",
     "metadata": {},
     "outputs": [],
     "prompt_number": 15
    },
    {
     "cell_type": "code",
     "collapsed": false,
     "input": [
      "tei = open(karinaFile).read()\n",
      "teiSoup = BeautifulSoup.BeautifulSoup(tei)"
     ],
     "language": "python",
     "metadata": {},
     "outputs": [],
     "prompt_number": 17
    },
    {
     "cell_type": "code",
     "collapsed": false,
     "input": [
      "nymList = teiSoup.findAll('nym')\n",
      "nymData = [getNymData(nym) for nym in nymList]"
     ],
     "language": "python",
     "metadata": {},
     "outputs": [],
     "prompt_number": 18
    },
    {
     "cell_type": "code",
     "collapsed": false,
     "input": [
      "dataEn = []\n",
      "\n",
      "for freq,name,nstype in nymData:\n",
      "    try:\n",
      "        match = findFirstTitleMatch(wikiNL, name, targetLang='en')\n",
      "        if match is not None:\n",
      "            dataEn.append((name,match,nstype,freq))\n",
      "    except Exception as err:\n",
      "        print 'Error for word \"'+name+'\":',err.__class__,' ->',err\n",
      "    "
     ],
     "language": "python",
     "metadata": {},
     "outputs": []
    },
    {
     "cell_type": "code",
     "collapsed": false,
     "input": [
      "data = pd.DataFrame(dataEn, columns=['OrigWord','Word','Type','Count'])"
     ],
     "language": "python",
     "metadata": {},
     "outputs": [],
     "prompt_number": 83
    },
    {
     "cell_type": "code",
     "collapsed": false,
     "input": [
      "data['TEMP'] = data['Word'].apply(lambda x: wikiCountryInterest(wikiEN, x))\n",
      "data['NLO'] = data['TEMP'].apply(lambda x: x[0])\n",
      "data['CAO'] = data['TEMP'].apply(lambda x: x[1])\n",
      "data['Conf'] = data['TEMP'].apply(lambda x: x[2])\n",
      "del data['TEMP']"
     ],
     "language": "python",
     "metadata": {},
     "outputs": [],
     "prompt_number": 85
    },
    {
     "cell_type": "code",
     "collapsed": false,
     "input": [
      "expEdits = wq.getTotalContributions()\n",
      "NLE = expEdits['NL']\n",
      "CAE = expEdits['CA']\n",
      "\n",
      "data['Interest-NL'] = data.apply(lambda x: btbtools.relativeInterest(NLE, x['NLO']), axis=1)\n",
      "data['Interest-CA'] = data.apply(lambda x: btbtools.relativeInterest(CAE, x['CAO']), axis=1)"
     ],
     "language": "python",
     "metadata": {},
     "outputs": [],
     "prompt_number": 88
    },
    {
     "cell_type": "code",
     "collapsed": false,
     "input": [
      "nItems = data['Count'].sum()\n",
      "data['Total-NL'] = data.apply(lambda x: 100 * x['Count'] / nItems * x['Conf'] * x['Interest-NL'],axis=1)\n",
      "data['Total-CA'] = data.apply(lambda x: 100 * x['Count'] / nItems * x['Conf'] * x['Interest-CA'],axis=1)"
     ],
     "language": "python",
     "metadata": {},
     "outputs": [],
     "prompt_number": 89
    },
    {
     "cell_type": "code",
     "collapsed": false,
     "input": [
      "data.to_pickle('data-karina.tmp.pkl')"
     ],
     "language": "python",
     "metadata": {},
     "outputs": [],
     "prompt_number": 34
    },
    {
     "cell_type": "code",
     "collapsed": false,
     "input": [
      "def processKarinaFile(inFile_XML, outFile_PKL):\n",
      "    syncCaches()\n",
      "    tei = open(inFile_XML).read()\n",
      "    teiSoup = BeautifulSoup.BeautifulSoup(tei)\n",
      "\n",
      "    nymList = teiSoup.findAll('nym')\n",
      "    nymData = [getNymData(nym) for nym in nymList]\n",
      "\n",
      "    dataEn = []\n",
      "\n",
      "    for freq,name,nstype in nymData:\n",
      "        try:\n",
      "            match = findFirstTitleMatch(wikiNL, name, targetLang='en')\n",
      "            if match is not None:\n",
      "                dataEn.append((name,match,nstype,freq))\n",
      "            else:\n",
      "                print 'Warning: No English data for word: ',name\n",
      "        except Exception as err:\n",
      "            print 'Error for word \"'+name+'\":',err.__class__,' ->',err\n",
      "    syncCaches()\n",
      "        \n",
      "    data = pd.DataFrame(dataEn, columns=['OrigWord','Word','Type','Count'])\n",
      "\n",
      "    data['TEMP'] = data['Word'].apply(lambda x: wikiCountryInterest(wikiEN, x))\n",
      "    data['NLO'] = data['TEMP'].apply(lambda x: x[0])\n",
      "    data['CAO'] = data['TEMP'].apply(lambda x: x[1])\n",
      "    data['Conf'] = data['TEMP'].apply(lambda x: x[2])\n",
      "    del data['TEMP']\n",
      "\n",
      "    expEdits = wq.getTotalContributions()\n",
      "    NLE = expEdits['NL']\n",
      "    CAE = expEdits['CA']\n",
      "\n",
      "    data['Interest-NL'] = data.apply(lambda x: btbtools.relativeInterest(NLE, x['NLO']), axis=1)\n",
      "    data['Interest-CA'] = data.apply(lambda x: btbtools.relativeInterest(CAE, x['CAO']), axis=1)\n",
      "\n",
      "    nItems = data['Count'].sum()\n",
      "    data['Total-NL'] = data.apply(lambda x: 100 * x['Count'] / nItems * x['Conf'] * x['Interest-NL'],axis=1)\n",
      "    data['Total-CA'] = data.apply(lambda x: 100 * x['Count'] / nItems * x['Conf'] * x['Interest-CA'],axis=1)\n",
      "\n",
      "    data.to_pickle(outFile_PKL)"
     ],
     "language": "python",
     "metadata": {},
     "outputs": [],
     "prompt_number": 5
    },
    {
     "cell_type": "code",
     "collapsed": false,
     "input": [
      "import glob\n",
      "import os.path"
     ],
     "language": "python",
     "metadata": {},
     "outputs": [],
     "prompt_number": 6
    },
    {
     "cell_type": "code",
     "collapsed": false,
     "input": [
      "inFiles = glob.glob('../data/corpus.karina.nerINL.2012-10-26/*.xml')\n",
      "outFiles = [ inFile.replace('.xml', '.pkl') for inFile in inFiles ]\n",
      "\n",
      "#inFiles = [\n",
      "#    '../data/corpus.sanders.nerINL.2012-10-24/nl.ns.d.9022914186.s.xml', \n",
      "##    '../data/corpus.sanders.nerINL.2012-10-24/nl.ns.d.9021413353.s.xml', \n",
      "#    '../data/corpus.sanders.nerINL.2012-10-24/nl.ns.d.9021413396.s.xml', \n",
      "#    '../data/corpus.sanders.nerINL.2012-10-24/nl.ns.d.9023431294.s.xml', \n",
      "#    '../data/corpus.sanders.nerINL.2012-10-24/nl.ns.d.9023404319.s.xml', \n",
      "#    '../data/corpus.sanders.nerINL.2012-10-24/nl.ns.d.9044604279.s.xml', \n",
      "#    '../data/corpus.sanders.nerINL.2012-10-24/nl.ns.d.9085420415.s.xml', \n",
      "#    '../data/corpus.sanders.nerINL.2012-10-24/nl.ns.d.9041410252.s.xml', \n",
      "#    '../data/corpus.sanders.nerINL.2012-10-24/nl.ns.d.9029026561.s.xml', \n",
      "#    '../data/corpus.sanders.nerINL.2012-10-24/nl.ns.d.9021412411.s.xml', \n",
      "#    '../data/corpus.sanders.nerINL.2012-10-24/nl.ns.d.9023404114.s.xml', \n",
      "#    '../data/corpus.sanders.nerINL.2012-10-24/nl.ns.d.902340744x.s.xml', \n",
      "#    '../data/corpus.sanders.nerINL.2012-10-24/nl.ns.d.9024292646.s.xml', \n",
      "#    '../data/corpus.sanders.nerINL.2012-10-24/nl.ns.d.9029561610.s.xml', \n",
      "#    '../data/corpus.sanders.nerINL.2012-10-24/nl.ns.d.902230292X.s.xml', \n",
      "#    '../data/corpus.sanders.nerINL.2012-10-24/nl.ns.d.9023431251.s.xml', \n",
      "#    '../data/corpus.sanders.nerINL.2012-10-24/nl.ns.d.9023404866.s.xml', \n",
      "#    '../data/corpus.sanders.nerINL.2012-10-24/nl.ns.d.9029505249.s.xml', \n",
      "#    '../data/corpus.sanders.nerINL.2012-10-24/nl.ns.d.9053333029.s.xml', \n",
      "#    '../data/corpus.sanders.nerINL.2012-10-24/nl.ns.d.9029518219.s.xml', \n",
      "#    '../data/corpus.sanders.nerINL.2012-10-24/nl.ns.d.9064811091.s.xml', \n",
      "#    '../data/corpus.sanders.nerINL.2012-10-24/nl.ns.d.9023409272.s.xml', \n",
      "#    '../data/corpus.sanders.nerINL.2012-10-24/nl.ns.d.9057134829.s.xml', \n",
      "#    '../data/corpus.sanders.nerINL.2012-10-24/nl.ns.d.9021485060.s.xml', \n",
      "#    '../data/corpus.sanders.nerINL.2012-10-24/nl.ns.d.9029554606.s.xml', \n",
      "#    '../data/corpus.sanders.nerINL.2012-10-24/nl.ns.d.9025426158.s.xml', \n",
      "#    '../data/corpus.sanders.nerINL.2012-10-24/nl.ns.d.9029530421.s.xml', \n",
      "#    '../data/corpus.sanders.nerINL.2012-10-24/nl.ns.d.9074336825.s.xml', \n",
      "#    '../data/corpus.sanders.nerINL.2012-10-24/nl.ns.d.9029098961.s.xml', \n",
      "#    '../data/corpus.sanders.nerINL.2012-10-24/nl.ns.d.9041409068.s.xml', \n",
      "#    '../data/corpus.sanders.nerINL.2012-10-24/nl.ns.d.906291232X.s.xml', \n",
      "#    '../data/corpus.sanders.nerINL.2012-10-24/nl.ns.d.9029528893.s.xml', \n",
      "#    '../data/corpus.sanders.nerINL.2012-10-24/nl.ns.d.905000802X.s.xml', \n",
      "#    '../data/corpus.sanders.nerINL.2012-10-24/nl.ns.d.9027420351.s.xml', \n",
      "#    '../data/corpus.sanders.nerINL.2012-10-24/nl.ns.d.9023432592.s.xml', \n",
      "#    '../data/corpus.sanders.nerINL.2012-10-24/nl.ns.d.9023431189.s.xml', \n",
      "#    '../data/corpus.sanders.nerINL.2012-10-24/nl.ns.d.9025802109.s.xml'\n",
      "#]\n",
      "# outFiles = [ inFile.replace('.xml', '.pkl') for inFile in inFiles ]"
     ],
     "language": "python",
     "metadata": {},
     "outputs": [],
     "prompt_number": 7
    },
    {
     "cell_type": "code",
     "collapsed": false,
     "input": [
      "for fin, fout in zip(inFiles, outFiles):\n",
      "    if not os.path.isfile(fout):\n",
      "        print 'Processing ',fin,'...'\n",
      "        processKarinaFile(fin, fout)\n",
      "    else:\n",
      "        print 'Skipping ',fin,'...'\n"
     ],
     "language": "python",
     "metadata": {},
     "outputs": [
      {
       "output_type": "stream",
       "stream": "stdout",
       "text": [
        "Processing  ../data/corpus.karina.nerINL.2012-10-26/nl.ns.d.9789044301717.k.xml ...\n",
        "Cache grew by: "
       ]
      },
      {
       "output_type": "stream",
       "stream": "stdout",
       "text": [
        " 51\n",
        "Processing "
       ]
      },
      {
       "output_type": "stream",
       "stream": "stdout",
       "text": [
        " ../data/corpus.karina.nerINL.2012-10-26/nl.ns.d.9789023405061.k.xml ...\n",
        "Cache 2 grew by:  50\n",
        "Error for word \"PROTOKOLLEN VAN DE WIJZEN VAN ZION\":"
       ]
      },
      {
       "output_type": "stream",
       "stream": "stdout",
       "text": [
        " <type 'exceptions.ValueError'>  -> No JSON object could be decoded\n",
        "Cache grew by: "
       ]
      },
      {
       "output_type": "stream",
       "stream": "stdout",
       "text": [
        " 35\n",
        "Processing "
       ]
      },
      {
       "output_type": "stream",
       "stream": "stdout",
       "text": [
        " ../data/corpus.karina.nerINL.2012-10-26/nl.ns.d.9789029523219.k.xml ...\n",
        "Cache 2 grew by:  35\n",
        "Error for word \"\":"
       ]
      },
      {
       "output_type": "stream",
       "stream": "stdout",
       "text": [
        " <type 'exceptions.IndexError'>  -> string index out of range\n",
        "Error for word \"HET AANWEZEN VAN STEENKOLEN IN HET TERREIN VAN DE TJILALOEKBAAI PREANGER REGENTSCHAPPEN\":"
       ]
      },
      {
       "output_type": "stream",
       "stream": "stdout",
       "text": [
        " <type 'exceptions.ValueError'>  -> No JSON object could be decoded\n",
        "Error for word \"KONDITOREI AM HORN\":"
       ]
      },
      {
       "output_type": "stream",
       "stream": "stdout",
       "text": [
        " <type 'exceptions.ValueError'>  -> No JSON object could be decoded\n",
        "Error for word \"ONDERZOEK NAAR DE KOLEN GEVONDEN LANGS HET STRAND DER MEEUWENBAAI RESIDENTIE TE BANTAM\":"
       ]
      },
      {
       "output_type": "stream",
       "stream": "stdout",
       "text": [
        " <type 'exceptions.ValueError'>  -> No JSON object could be decoded\n",
        "Cache grew by: "
       ]
      },
      {
       "output_type": "stream",
       "stream": "stdout",
       "text": [
        " 185\n",
        "PATCH IT! Error for word \"Amsterdam\":"
       ]
      },
      {
       "output_type": "stream",
       "stream": "stdout",
       "text": [
        " <type 'exceptions.ValueError'>  -> No JSON object could be decoded\n",
        "Processing "
       ]
      },
      {
       "output_type": "stream",
       "stream": "stdout",
       "text": [
        " ../data/corpus.karina.nerINL.2012-10-26/nl.ns.d.9789046803820.k.xml ...\n",
        "Cache 2 grew by:  179\n",
        "Error for word \"DUBBELE WORSTSTEEG\":"
       ]
      },
      {
       "output_type": "stream",
       "stream": "stdout",
       "text": [
        " <type 'exceptions.ValueError'>  -> No JSON object could be decoded\n",
        "Error for word \"FICTIEF GEBERGTE UIT DE BRIEF VOOR DE KONING\":"
       ]
      },
      {
       "output_type": "stream",
       "stream": "stdout",
       "text": [
        " <type 'exceptions.ValueError'>  -> No JSON object could be decoded\n",
        "Error for word \"\":"
       ]
      },
      {
       "output_type": "stream",
       "stream": "stdout",
       "text": [
        " <type 'exceptions.IndexError'>  -> string index out of range\n",
        "Error for word \"DE LOTGEVALLEN VAN DEN DOORLUCHCTIGEN HEER STELTEBEEN EN ZIJN BRAAVEN KNECHT\":"
       ]
      },
      {
       "output_type": "stream",
       "stream": "stdout",
       "text": [
        " <type 'exceptions.ValueError'>  -> No JSON object could be decoded\n",
        "Cache grew by: "
       ]
      },
      {
       "output_type": "stream",
       "stream": "stdout",
       "text": [
        " 81\n",
        "Processing "
       ]
      },
      {
       "output_type": "stream",
       "stream": "stdout",
       "text": [
        " ../data/corpus.karina.nerINL.2012-10-26/nl.ns.d.9789023408017.k.xml ...\n",
        "Cache 2 grew by:  78\n",
        "Cache grew by: "
       ]
      },
      {
       "output_type": "stream",
       "stream": "stdout",
       "text": [
        " 78\n",
        "Processing "
       ]
      },
      {
       "output_type": "stream",
       "stream": "stdout",
       "text": [
        " ../data/corpus.karina.nerINL.2012-10-26/nl.ns.d.9789020417159.k.xml ...\n",
        "Cache 2 grew by:  75\n",
        "Error for word \"\":"
       ]
      },
      {
       "output_type": "stream",
       "stream": "stdout",
       "text": [
        " <type 'exceptions.IndexError'>  -> string index out of range\n",
        "Cache grew by: "
       ]
      },
      {
       "output_type": "stream",
       "stream": "stdout",
       "text": [
        " 57\n",
        "Processing "
       ]
      },
      {
       "output_type": "stream",
       "stream": "stdout",
       "text": [
        " ../data/corpus.karina.nerINL.2012-10-26/nl.ns.d.9789029053747.k.xml ...\n",
        "Cache 2 grew by: "
       ]
      },
      {
       "output_type": "stream",
       "stream": "stdout",
       "text": [
        " 52\n",
        "Error for word \"CORBUSIER\":"
       ]
      },
      {
       "output_type": "stream",
       "stream": "stdout",
       "text": [
        " <type 'exceptions.ValueError'>  -> No JSON object could be decoded\n",
        "Error for word \"EEN REIZIGER IN DE TIJD HET LEVEN VAN HERMAN HOLLANDER\":"
       ]
      },
      {
       "output_type": "stream",
       "stream": "stdout",
       "text": [
        " <type 'exceptions.ValueError'>  -> No JSON object could be decoded\n",
        "Cache grew by: "
       ]
      },
      {
       "output_type": "stream",
       "stream": "stdout",
       "text": [
        " 173\n",
        "Processing "
       ]
      },
      {
       "output_type": "stream",
       "stream": "stdout",
       "text": [
        " ../data/corpus.karina.nerINL.2012-10-26/nl.ns.d.9789029505338.k.xml ...\n",
        "Cache 2 grew by: "
       ]
      },
      {
       "output_type": "stream",
       "stream": "stdout",
       "text": [
        " 170\n",
        "Cache grew by: "
       ]
      },
      {
       "output_type": "stream",
       "stream": "stdout",
       "text": [
        " 5\n",
        "Processing "
       ]
      },
      {
       "output_type": "stream",
       "stream": "stdout",
       "text": [
        " ../data/corpus.karina.nerINL.2012-10-26/nl.ns.d.9789047700845.k.xml ...\n",
        "Cache 2 grew by: "
       ]
      },
      {
       "output_type": "stream",
       "stream": "stdout",
       "text": [
        " 5\n",
        "Cache grew by: "
       ]
      },
      {
       "output_type": "stream",
       "stream": "stdout",
       "text": [
        " 21\n",
        "Processing "
       ]
      },
      {
       "output_type": "stream",
       "stream": "stdout",
       "text": [
        " ../data/corpus.karina.nerINL.2012-10-26/nl.ns.d.9789034519252.k.xml ...\n",
        "Cache 2 grew by: "
       ]
      },
      {
       "output_type": "stream",
       "stream": "stdout",
       "text": [
        " 20\n",
        "Cache grew by: "
       ]
      },
      {
       "output_type": "stream",
       "stream": "stdout",
       "text": [
        " 59\n",
        "Processing "
       ]
      },
      {
       "output_type": "stream",
       "stream": "stdout",
       "text": [
        " ../data/corpus.karina.nerINL.2012-10-26/nl.ns.d.9789056379766.k.xml ...\n",
        "Cache 2 grew by: "
       ]
      },
      {
       "output_type": "stream",
       "stream": "stdout",
       "text": [
        " 58\n",
        "Cache grew by: "
       ]
      },
      {
       "output_type": "stream",
       "stream": "stdout",
       "text": [
        " 16\n",
        "Processing "
       ]
      },
      {
       "output_type": "stream",
       "stream": "stdout",
       "text": [
        " ../data/corpus.karina.nerINL.2012-10-26/nl.ns.d.9789023400271.k.xml ...\n",
        "Cache 2 grew by: "
       ]
      },
      {
       "output_type": "stream",
       "stream": "stdout",
       "text": [
        " 16\n",
        "Error for word \"ZES OKTOBERPLEIN WORDT PLEIN VAN DE POEZIE IN MERCEDAL\":"
       ]
      },
      {
       "output_type": "stream",
       "stream": "stdout",
       "text": [
        " <type 'exceptions.ValueError'>  -> No JSON object could be decoded\n",
        "Cache grew by: "
       ]
      },
      {
       "output_type": "stream",
       "stream": "stdout",
       "text": [
        " 30\n",
        "Processing "
       ]
      },
      {
       "output_type": "stream",
       "stream": "stdout",
       "text": [
        " ../data/corpus.karina.nerINL.2012-10-26/nl.ns.d.9789021464800.k.xml ...\n",
        "Cache 2 grew by: "
       ]
      },
      {
       "output_type": "stream",
       "stream": "stdout",
       "text": [
        " 30\n",
        "Cache grew by: "
       ]
      },
      {
       "output_type": "stream",
       "stream": "stdout",
       "text": [
        " 35\n",
        "Processing "
       ]
      },
      {
       "output_type": "stream",
       "stream": "stdout",
       "text": [
        " ../data/corpus.karina.nerINL.2012-10-26/nl.ns.d.9789089690234.k.xml ...\n",
        "Cache 2 grew by: "
       ]
      },
      {
       "output_type": "stream",
       "stream": "stdout",
       "text": [
        " 35\n",
        "Error for word \"\":"
       ]
      },
      {
       "output_type": "stream",
       "stream": "stdout",
       "text": [
        " <type 'exceptions.IndexError'>  -> string index out of range\n",
        "Cache grew by: "
       ]
      },
      {
       "output_type": "stream",
       "stream": "stdout",
       "text": [
        " 31\n",
        "Processing "
       ]
      },
      {
       "output_type": "stream",
       "stream": "stdout",
       "text": [
        " ../data/corpus.karina.nerINL.2012-10-26/nl.ns.d.9789070066888.k.xml ...\n",
        "Cache 2 grew by: "
       ]
      },
      {
       "output_type": "stream",
       "stream": "stdout",
       "text": [
        " 31\n",
        "Cache grew by: "
       ]
      },
      {
       "output_type": "stream",
       "stream": "stdout",
       "text": [
        " 86\n",
        "PATCH IT! Error for word \"Charles de Gaulle\":"
       ]
      },
      {
       "output_type": "stream",
       "stream": "stdout",
       "text": [
        " <type 'exceptions.ValueError'>  -> No JSON object could be decoded\n",
        "Processing "
       ]
      },
      {
       "output_type": "stream",
       "stream": "stdout",
       "text": [
        " ../data/corpus.karina.nerINL.2012-10-26/nl.ns.d.9789025833923.k.xml ...\n",
        "Cache 2 grew by: "
       ]
      },
      {
       "output_type": "stream",
       "stream": "stdout",
       "text": [
        " 81\n",
        "Cache grew by: "
       ]
      },
      {
       "output_type": "stream",
       "stream": "stdout",
       "text": [
        " 10\n",
        "Processing "
       ]
      },
      {
       "output_type": "stream",
       "stream": "stdout",
       "text": [
        " ../data/corpus.karina.nerINL.2012-10-26/nl.ns.d.9789066921863.k.xml ...\n",
        "Cache 2 grew by: "
       ]
      },
      {
       "output_type": "stream",
       "stream": "stdout",
       "text": [
        " 10\n",
        "Cache grew by: "
       ]
      },
      {
       "output_type": "stream",
       "stream": "stdout",
       "text": [
        " 2\n",
        "Processing "
       ]
      },
      {
       "output_type": "stream",
       "stream": "stdout",
       "text": [
        " ../data/corpus.karina.nerINL.2012-10-26/nl.ns.d.9789023401735.k.xml ...\n",
        "Cache 2 grew by: "
       ]
      },
      {
       "output_type": "stream",
       "stream": "stdout",
       "text": [
        " 2\n",
        "Cache grew by: "
       ]
      },
      {
       "output_type": "stream",
       "stream": "stdout",
       "text": [
        " 65\n",
        "Processing "
       ]
      },
      {
       "output_type": "stream",
       "stream": "stdout",
       "text": [
        " ../data/corpus.karina.nerINL.2012-10-26/nl.ns.d.9789025417284.k.xml ...\n",
        "Cache 2 grew by: "
       ]
      },
      {
       "output_type": "stream",
       "stream": "stdout",
       "text": [
        " 64\n",
        "Cache grew by: "
       ]
      },
      {
       "output_type": "stream",
       "stream": "stdout",
       "text": [
        " 41\n",
        "Processing "
       ]
      },
      {
       "output_type": "stream",
       "stream": "stdout",
       "text": [
        " ../data/corpus.karina.nerINL.2012-10-26/nl.ns.d.9789052267791.k.xml ...\n",
        "Cache 2 grew by: "
       ]
      },
      {
       "output_type": "stream",
       "stream": "stdout",
       "text": [
        " 39\n",
        "Error for word \"SJEEG\":"
       ]
      },
      {
       "output_type": "stream",
       "stream": "stdout",
       "text": [
        " <type 'exceptions.ValueError'>  -> No JSON object could be decoded\n",
        "Cache grew by: "
       ]
      },
      {
       "output_type": "stream",
       "stream": "stdout",
       "text": [
        " 55\n",
        "Processing "
       ]
      },
      {
       "output_type": "stream",
       "stream": "stdout",
       "text": [
        " ../data/corpus.karina.nerINL.2012-10-26/nl.ns.d.9789059361065.k.xml ...\n",
        "Cache 2 grew by: "
       ]
      },
      {
       "output_type": "stream",
       "stream": "stdout",
       "text": [
        " 54\n",
        "Cache grew by: "
       ]
      },
      {
       "output_type": "stream",
       "stream": "stdout",
       "text": [
        " 61\n",
        "PATCH IT! Error for word \"Amsterdam\":"
       ]
      },
      {
       "output_type": "stream",
       "stream": "stdout",
       "text": [
        " <type 'exceptions.ValueError'>  -> No JSON object could be decoded\n",
        "Processing "
       ]
      },
      {
       "output_type": "stream",
       "stream": "stdout",
       "text": [
        " ../data/corpus.karina.nerINL.2012-10-26/nl.ns.d.9789029095709.k.xml ...\n",
        "Cache 2 grew by: "
       ]
      },
      {
       "output_type": "stream",
       "stream": "stdout",
       "text": [
        " 59\n",
        "Cache grew by: "
       ]
      },
      {
       "output_type": "stream",
       "stream": "stdout",
       "text": [
        " 22\n"
       ]
      }
     ],
     "prompt_number": 8
    }
   ],
   "metadata": {}
  }
 ]
}