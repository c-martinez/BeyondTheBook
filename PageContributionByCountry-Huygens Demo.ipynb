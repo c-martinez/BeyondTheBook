{
 "metadata": {
  "name": "",
  "signature": "sha256:a69f705a56811020c1f76437a227ead14876c971359209909b6617ef44bd55d7"
 },
 "nbformat": 3,
 "nbformat_minor": 0,
 "worksheets": [
  {
   "cells": [
    {
     "cell_type": "markdown",
     "metadata": {},
     "source": [
      "# Page contributions by country\n",
      "\n",
      "We are interested in knowing the relative importance that a given Wikipedia page has for a country.\n",
      "\n",
      "For each revision made to the page of interest will fall in one of the following categories:\n",
      " - Assigned it to a country, based on its IP address\n",
      " - Assigned it to a country, based on its username\n",
      " - Discarded it, due the user was a bot\n",
      " - Unable to determine information"
     ]
    },
    {
     "cell_type": "code",
     "collapsed": false,
     "input": [
      "%pylab inline"
     ],
     "language": "python",
     "metadata": {},
     "outputs": [
      {
       "output_type": "stream",
       "stream": "stdout",
       "text": [
        "Populating the interactive namespace from numpy and matplotlib\n"
       ]
      }
     ],
     "prompt_number": 1
    },
    {
     "cell_type": "code",
     "collapsed": false,
     "input": [
      "import btb.utils.tools as btbtools\n",
      "import btb.utils.wikiquery as wq\n",
      "\n",
      "import mwclient\n",
      "from __future__ import division"
     ],
     "language": "python",
     "metadata": {},
     "outputs": [],
     "prompt_number": 2
    },
    {
     "cell_type": "code",
     "collapsed": false,
     "input": [
      "wiki = mwclient.Site('en.wikipedia.org')\n",
      "bots = wq.getAllBots(wiki)"
     ],
     "language": "python",
     "metadata": {},
     "outputs": [],
     "prompt_number": 3
    },
    {
     "cell_type": "markdown",
     "metadata": {},
     "source": [
      "Therefore, for a given wikipedia page, we will be able to identify:\n",
      "\n",
      " - A proportion of revisions for which their country is known\n",
      "  - ...via their IP\n",
      "  - ...via their user info\n",
      " - A proportion of revisions for which country is unknown\n",
      " - A proportion of revisions which can be ignored\n",
      " \n",
      "We can determine the confidence we can have in any conclusions drawn from this data, as a ratio of know over the total amount of available data (after revisions which can be ignored have been removed)."
     ]
    },
    {
     "cell_type": "markdown",
     "metadata": {},
     "source": [
      "# Expectations\n",
      "Actually, also according to [Wikimedia statistics](http://stats.wikimedia.org/wikimedia/squids/SquidReportPageEditsPerLanguageBreakdown.htm), there is an 'expected' number of edits from different countries on different articles. So let's compare the number of edits with these expectations. The overal percentage of contributions for each country is available on the *wikiquery* module as a dictionary returned by the *getTotalContributions()* method.\n",
      "\n",
      "# Matching expectations\n",
      "At this point, we have described the contributions made by any given country to a particular page, and the volume of contributions expected from a country. It is possible to combine these two pieces of information in order to provide an assesment of the interest expressed by the country on a particular topic.\n",
      "\n",
      "After removing unknown data and bots, the percentage of contributions from each country were compared with the expected contribution. These contributions were normalized, so relatively small contributing countries were not overshadowed by dominant countries (namely US and UK).\n",
      "\n",
      "The following bar charts illustrate the relative interest from various countries on a range of topics. For each topic, two graphs are shown: the first graph shows the percentage of contributions, compared with the expected percentage of contributions; the second graph shows the normalized contributions from each country.\n",
      "\n",
      "Notice that countries where their expected contribution is unknown were discarded. This is not ideal, however, these countries are outside our area of interest and therefore it is an acceptable omission."
     ]
    },
    {
     "cell_type": "code",
     "collapsed": false,
     "input": [
      "def plotEditBars(pageTitle):\n",
      "    ips, usrs, nrevs = wq.getContributionsForPage(wiki, pageTitle)\n",
      "    knwRevs, conf, nIP, nUsr, nBot, nUnkn = btbtools.prepareData(ips, usrs, bots)\n",
      "\n",
      "    expEdits = wq.getTotalContributions()\n",
      "    cmpEdits = btbtools.compareEdits(expEdits, knwRevs)\n",
      "\n",
      "    tags   = np.array(cmpEdits.keys())\n",
      "    cmpVals = np.array(cmpEdits.values())\n",
      "\n",
      "    # Sort descending by expected value\n",
      "    sortIdx = cmpVals[:,0].argsort()\n",
      "    sortIdx = sortIdx[::-1]\n",
      "    tags   = tags[sortIdx]\n",
      "    expVal = cmpVals[sortIdx,0]\n",
      "    actVal = cmpVals[sortIdx,1]\n",
      "    cmpVal = cmpVals[sortIdx,2]\n",
      "\n",
      "    # Ignore entries where overall contributions are unknown\n",
      "    tags   = tags[expVal>0]\n",
      "    actVal = actVal[expVal>0]\n",
      "    cmpVal = cmpVal[expVal>0]\n",
      "    expVal = expVal[expVal>0]\n",
      "\n",
      "    # Format bar charts\n",
      "    width = 0.35\n",
      "    N = len(tags)\n",
      "    ind = np.arange(N)\n",
      "    \n",
      "    figure(figsize=(12,4))\n",
      "    bar(ind           , expVal, width=width, color='y', label='Expectation')\n",
      "    bar(ind + width   , actVal, width=width, color='r', label='Contribution')\n",
      "    xticks(ind + width, tags  , rotation=90);\n",
      "    axis([0, N, 0, 1])\n",
      "    legend()\n",
      "    title(pageTitle)\n",
      "\n",
      "    figure(figsize=(12,4))\n",
      "    bar(ind + width   , cmpVal, width=width, color='b', label='Ratio')\n",
      "    xticks(ind + width, tags  , rotation=90);\n",
      "    plot([0,N],[0,0],'k:')\n",
      "    axis([0, N, -1, 1])\n",
      "    legend()\n",
      "    title(pageTitle)"
     ],
     "language": "python",
     "metadata": {},
     "outputs": [],
     "prompt_number": 4
    },
    {
     "cell_type": "code",
     "collapsed": false,
     "input": [
      "plotEditBars('Ice Hockey')"
     ],
     "language": "python",
     "metadata": {},
     "outputs": [
      {
       "metadata": {},
       "output_type": "display_data",
       "png": "[encoded data removed]",
       "text": [
        "<matplotlib.figure.Figure at 0x4053e10>"
       ]
      },
      {
       "metadata": {},
       "output_type": "display_data",
       "png": "[encoded data removed]",
       "text": [
        "<matplotlib.figure.Figure at 0x4e323d0>"
       ]
      }
     ],
     "prompt_number": 5
    },
    {
     "cell_type": "code",
     "collapsed": false,
     "input": [
      "plotEditBars('')"
     ],
     "language": "python",
     "metadata": {},
     "outputs": []
    },
    {
     "cell_type": "code",
     "collapsed": false,
     "input": [
      "plotEditBars('')"
     ],
     "language": "python",
     "metadata": {},
     "outputs": []
    },
    {
     "cell_type": "code",
     "collapsed": false,
     "input": [
      "plotEditBars('')"
     ],
     "language": "python",
     "metadata": {},
     "outputs": []
    },
    {
     "cell_type": "code",
     "collapsed": false,
     "input": [
      "plotEditBars('')"
     ],
     "language": "python",
     "metadata": {},
     "outputs": []
    },
    {
     "cell_type": "code",
     "collapsed": false,
     "input": [
      "plotEditBars('')"
     ],
     "language": "python",
     "metadata": {},
     "outputs": []
    }
   ],
   "metadata": {}
  }
 ]
}