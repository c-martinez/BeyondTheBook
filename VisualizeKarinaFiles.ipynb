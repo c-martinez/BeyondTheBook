{
 "metadata": {
  "name": "",
  "signature": "sha256:b9456f71df057afe80060ebbf824a458c2bb4a40e8afec34e8d56b8c9852b655"
 },
 "nbformat": 3,
 "nbformat_minor": 0,
 "worksheets": [
  {
   "cells": [
    {
     "cell_type": "code",
     "collapsed": false,
     "input": [
      "from __future__ import division\n",
      "\n",
      "import BeautifulSoup\n",
      "import numpy as np\n",
      "import pandas as pd\n",
      "\n",
      "import glob\n",
      "import os.path"
     ],
     "language": "python",
     "metadata": {},
     "outputs": [],
     "prompt_number": 1
    },
    {
     "cell_type": "code",
     "collapsed": false,
     "input": [
      "def explode(x, level):\n",
      "    exp = 1/level\n",
      "    if x<0:\n",
      "        return -((-x)**exp)\n",
      "    else:\n",
      "        return x**exp"
     ],
     "language": "python",
     "metadata": {},
     "outputs": [],
     "prompt_number": 2
    },
    {
     "cell_type": "code",
     "collapsed": false,
     "input": [
      "def summaryVector(data, size):\n",
      "    nl,ca = data['NL'].sum()/size, data['CA'].sum()/size\n",
      "    return nl, ca\n",
      "\n",
      "def getSummaryData(data):\n",
      "    data['NL'] = data['Total-NL'].apply(lambda x: explode(x, 5))\n",
      "    data['CA'] = data['Total-CA'].apply(lambda x: explode(x, 5))\n",
      "\n",
      "    dataSize = len(data)\n",
      "\n",
      "    summary = []\n",
      "    summary.append(summaryVector(data, dataSize)) # 0\n",
      "    summary.append(summaryVector(data[(data['NL']>0) & (data['CA']>0)], dataSize)) # 1\n",
      "    summary.append(summaryVector(data[(data['NL']>0) & (data['CA']<0)], dataSize)) # 2\n",
      "    summary.append(summaryVector(data[(data['NL']<0) & (data['CA']>0)], dataSize)) # 3\n",
      "    summary.append(summaryVector(data[(data['NL']<0) & (data['CA']<0)], dataSize)) # 4\n",
      "    summary.append((data['NL'],data['CA'],data['Word'])) #5\n",
      "    \n",
      "    return summary"
     ],
     "language": "python",
     "metadata": {},
     "outputs": [],
     "prompt_number": 3
    },
    {
     "cell_type": "code",
     "collapsed": false,
     "input": [
      "# xmlFiles = glob.glob('../data/corpus.karina.nerINL.2012-10-26/*.xml')\n",
      "pklFiles = glob.glob('../data/corpus.sanders.nerINL.2012-10-24/*.pkl')\n",
      "xmlFiles = [ pklFile.replace('.pkl', '.xml') for pklFile in pklFiles ]"
     ],
     "language": "python",
     "metadata": {},
     "outputs": [],
     "prompt_number": 4
    },
    {
     "cell_type": "code",
     "collapsed": false,
     "input": [
      "len(pklFiles)"
     ],
     "language": "python",
     "metadata": {},
     "outputs": [
      {
       "metadata": {},
       "output_type": "pyout",
       "prompt_number": 5,
       "text": [
        "37"
       ]
      }
     ],
     "prompt_number": 5
    },
    {
     "cell_type": "code",
     "collapsed": false,
     "input": [
      "allSummaries = {}\n",
      "for xml, pkl in zip(xmlFiles, pklFiles):\n",
      "    if os.path.isfile(pkl):\n",
      "        print 'Loading data from ',pkl,'...'\n",
      "\n",
      "        # Read title from XML\n",
      "        tei = open(xml).read()\n",
      "        teiSoup = BeautifulSoup.BeautifulSoup(tei)\n",
      "        docTitle = teiSoup.findAll('title')[0].getText()\n",
      "        print '  > ',docTitle\n",
      "        \n",
      "        # Read data from PKL\n",
      "        data = pd.read_pickle(pkl)\n",
      "        \n",
      "        allSummaries[docTitle] = getSummaryData(data)\n",
      "    else:\n",
      "        print 'Skipping ',xml,'...'\n"
     ],
     "language": "python",
     "metadata": {},
     "outputs": [
      {
       "output_type": "stream",
       "stream": "stdout",
       "text": [
        "Loading data from  ../data/corpus.sanders.nerINL.2012-10-24/nl.ns.d.9021413396.s.pkl ...\n",
        "  > "
       ]
      },
      {
       "output_type": "stream",
       "stream": "stdout",
       "text": [
        " Drie rode rozen: een novelle\n",
        "Loading data from  ../data/corpus.sanders.nerINL.2012-10-24/nl.ns.d.9023404866.s.pkl ...\n",
        "  > "
       ]
      },
      {
       "output_type": "stream",
       "stream": "stdout",
       "text": [
        " Gekkenschemer: roman\n",
        "Loading data from  ../data/corpus.sanders.nerINL.2012-10-24/nl.ns.d.9021412411.s.pkl ...\n",
        "  > "
       ]
      },
      {
       "output_type": "stream",
       "stream": "stdout",
       "text": [
        " De familie Roothooft\n",
        "Loading data from  ../data/corpus.sanders.nerINL.2012-10-24/nl.ns.d.9057134829.s.pkl ...\n",
        "  > "
       ]
      },
      {
       "output_type": "stream",
       "stream": "stdout",
       "text": [
        " Voordewind\n",
        "Loading data from  ../data/corpus.sanders.nerINL.2012-10-24/nl.ns.d.9029518219.s.pkl ...\n",
        "  > "
       ]
      },
      {
       "output_type": "stream",
       "stream": "stdout",
       "text": [
        " Een vlucht regenwulpen: roman\n",
        "Loading data from  ../data/corpus.sanders.nerINL.2012-10-24/nl.ns.d.9023404114.s.pkl ...\n",
        "  > "
       ]
      },
      {
       "output_type": "stream",
       "stream": "stdout",
       "text": [
        " Het smar\u00e1n, het vikka, de ronko en al de andere kleuren van de geschiedenis: roman\n",
        "Loading data from  ../data/corpus.sanders.nerINL.2012-10-24/nl.ns.d.902230292X.s.pkl ...\n",
        "  > "
       ]
      },
      {
       "output_type": "stream",
       "stream": "stdout",
       "text": [
        " Een dag als een ander\n",
        "Loading data from  ../data/corpus.sanders.nerINL.2012-10-24/nl.ns.d.9021413353.s.pkl ...\n",
        "  > "
       ]
      },
      {
       "output_type": "stream",
       "stream": "stdout",
       "text": [
        " Samen is twee keer alleen: roman\n",
        "Loading data from  ../data/corpus.sanders.nerINL.2012-10-24/nl.ns.d.9041409068.s.pkl ...\n",
        "  > "
       ]
      },
      {
       "output_type": "stream",
       "stream": "stdout",
       "text": [
        " De eetclub\n",
        "Loading data from  ../data/corpus.sanders.nerINL.2012-10-24/nl.ns.d.9025802109.s.pkl ...\n",
        "  > "
       ]
      },
      {
       "output_type": "stream",
       "stream": "stdout",
       "text": [
        " De man zonder uniform\n",
        "Loading data from  ../data/corpus.sanders.nerINL.2012-10-24/nl.ns.d.9023409272.s.pkl ...\n",
        "  > "
       ]
      },
      {
       "output_type": "stream",
       "stream": "stdout",
       "text": [
        " De Feniks: een familiekroniek\n",
        "Loading data from  ../data/corpus.sanders.nerINL.2012-10-24/nl.ns.d.902340744x.s.pkl ...\n",
        "  > "
       ]
      },
      {
       "output_type": "stream",
       "stream": "stdout",
       "text": [
        " De hartjacht: roman\n",
        "Loading data from  ../data/corpus.sanders.nerINL.2012-10-24/nl.ns.d.9029026561.s.pkl ...\n",
        "  > "
       ]
      },
      {
       "output_type": "stream",
       "stream": "stdout",
       "text": [
        " Spoorloos: roman\n",
        "Loading data from  ../data/corpus.sanders.nerINL.2012-10-24/nl.ns.d.905000802X.s.pkl ...\n",
        "  > "
       ]
      },
      {
       "output_type": "stream",
       "stream": "stdout",
       "text": [
        " Motormoeder\n",
        "Loading data from  ../data/corpus.sanders.nerINL.2012-10-24/nl.ns.d.9029561610.s.pkl ...\n",
        "  > "
       ]
      },
      {
       "output_type": "stream",
       "stream": "stdout",
       "text": [
        " De buitenvrouw: roman\n",
        "Loading data from  ../data/corpus.sanders.nerINL.2012-10-24/nl.ns.d.9029505249.s.pkl ...\n",
        "  > "
       ]
      },
      {
       "output_type": "stream",
       "stream": "stdout",
       "text": [
        " Mieke Maaike's obscene jeugd: een pornografisch verhaal, voorafgegaan door een proefschrift 'in en om het kutodelisch verschijnsel', waarmee student Steivekleut promoveerde\n",
        "Loading data from  ../data/corpus.sanders.nerINL.2012-10-24/nl.ns.d.9029528893.s.pkl ...\n",
        "  > "
       ]
      },
      {
       "output_type": "stream",
       "stream": "stdout",
       "text": [
        " De tweeling: roman\n",
        "Loading data from  ../data/corpus.sanders.nerINL.2012-10-24/nl.ns.d.9023432592.s.pkl ...\n",
        "  > "
       ]
      },
      {
       "output_type": "stream",
       "stream": "stdout",
       "text": [
        " Het leven na beklag: het beleg van Laken 4\n",
        "Loading data from  ../data/corpus.sanders.nerINL.2012-10-24/nl.ns.d.9022914186.s.pkl ...\n",
        "  > "
       ]
      },
      {
       "output_type": "stream",
       "stream": "stdout",
       "text": [
        " De schaduw en de maagd\n",
        "Loading data from  ../data/corpus.sanders.nerINL.2012-10-24/nl.ns.d.9029554606.s.pkl ...\n",
        "  > "
       ]
      },
      {
       "output_type": "stream",
       "stream": "stdout",
       "text": [
        " Een gelijkend portret\n",
        "Loading data from  ../data/corpus.sanders.nerINL.2012-10-24/nl.ns.d.9021485060.s.pkl ...\n",
        "  > "
       ]
      },
      {
       "output_type": "stream",
       "stream": "stdout",
       "text": [
        " Doe maar Lissabon\n",
        "Loading data from  ../data/corpus.sanders.nerINL.2012-10-24/nl.ns.d.9023431189.s.pkl ...\n",
        "  > "
       ]
      },
      {
       "output_type": "stream",
       "stream": "stdout",
       "text": [
        " Au pair: roman\n",
        "Loading data from  ../data/corpus.sanders.nerINL.2012-10-24/nl.ns.d.9025426158.s.pkl ...\n",
        "  > "
       ]
      },
      {
       "output_type": "stream",
       "stream": "stdout",
       "text": [
        " De insluiper\n",
        "Loading data from  ../data/corpus.sanders.nerINL.2012-10-24/nl.ns.d.9023431251.s.pkl ...\n",
        "  > "
       ]
      },
      {
       "output_type": "stream",
       "stream": "stdout",
       "text": [
        " Hoffman's honger: roman\n",
        "Loading data from  ../data/corpus.sanders.nerINL.2012-10-24/nl.ns.d.9085420415.s.pkl ...\n",
        "  > "
       ]
      },
      {
       "output_type": "stream",
       "stream": "stdout",
       "text": [
        " Het kind: een novelle\n",
        "Loading data from  ../data/corpus.sanders.nerINL.2012-10-24/nl.ns.d.9053333029.s.pkl ...\n",
        "  > "
       ]
      },
      {
       "output_type": "stream",
       "stream": "stdout",
       "text": [
        " Offerande\n",
        "Loading data from  ../data/corpus.sanders.nerINL.2012-10-24/nl.ns.d.9023404319.s.pkl ...\n",
        "  > "
       ]
      },
      {
       "output_type": "stream",
       "stream": "stdout",
       "text": [
        " De slakken van Can\u00eat d'Olt: roman\n",
        "Loading data from  ../data/corpus.sanders.nerINL.2012-10-24/nl.ns.d.9029530421.s.pkl ...\n",
        "  > "
       ]
      },
      {
       "output_type": "stream",
       "stream": "stdout",
       "text": [
        " De zeemeermin: roman\n",
        "Loading data from  ../data/corpus.sanders.nerINL.2012-10-24/nl.ns.d.9044604279.s.pkl ...\n",
        "  > "
       ]
      },
      {
       "output_type": "stream",
       "stream": "stdout",
       "text": [
        " Blauw bloed\n",
        "Loading data from  ../data/corpus.sanders.nerINL.2012-10-24/nl.ns.d.9064811091.s.pkl ...\n",
        "  > "
       ]
      },
      {
       "output_type": "stream",
       "stream": "stdout",
       "text": [
        " Tot stervens bestaan\n",
        "Loading data from  ../data/corpus.sanders.nerINL.2012-10-24/nl.ns.d.9041410252.s.pkl ...\n",
        "  > "
       ]
      },
      {
       "output_type": "stream",
       "stream": "stdout",
       "text": [
        " Rendez-vous\n",
        "Loading data from  ../data/corpus.sanders.nerINL.2012-10-24/nl.ns.d.9027420351.s.pkl ...\n",
        "  > "
       ]
      },
      {
       "output_type": "stream",
       "stream": "stdout",
       "text": [
        " Mode voor Moskou\n",
        "Loading data from  ../data/corpus.sanders.nerINL.2012-10-24/nl.ns.d.906291232X.s.pkl ...\n",
        "  > "
       ]
      },
      {
       "output_type": "stream",
       "stream": "stdout",
       "text": [
        " Je bent maar een mens: een leven tussen twee tijden\n",
        "Loading data from  ../data/corpus.sanders.nerINL.2012-10-24/nl.ns.d.9024292646.s.pkl ...\n",
        "  > "
       ]
      },
      {
       "output_type": "stream",
       "stream": "stdout",
       "text": [
        " Het huis tussen de heuvels\n",
        "Loading data from  ../data/corpus.sanders.nerINL.2012-10-24/nl.ns.d.9029098961.s.pkl ...\n",
        "  > "
       ]
      },
      {
       "output_type": "stream",
       "stream": "stdout",
       "text": [
        " Dierbaar venijn: roman\n",
        "Loading data from  ../data/corpus.sanders.nerINL.2012-10-24/nl.ns.d.9023431294.s.pkl ...\n",
        "  > "
       ]
      },
      {
       "output_type": "stream",
       "stream": "stdout",
       "text": [
        " Een beeldje voor Venus en Reis in het atoomtijdperk: twee reisnovellen\n",
        "Loading data from  ../data/corpus.sanders.nerINL.2012-10-24/nl.ns.d.9074336825.s.pkl ...\n",
        "  > "
       ]
      },
      {
       "output_type": "stream",
       "stream": "stdout",
       "text": [
        " Gala\n"
       ]
      }
     ],
     "prompt_number": 6
    },
    {
     "cell_type": "code",
     "collapsed": false,
     "input": [
      "import matplotlib.pylab as plt\n",
      "from matplotlib.mlab import dist\n",
      "import numpy as np\n",
      "from IPython.display import Image\n",
      "from IPython.display import display"
     ],
     "language": "python",
     "metadata": {},
     "outputs": [],
     "prompt_number": 7
    },
    {
     "cell_type": "code",
     "collapsed": false,
     "input": [
      "def plotOne(bookTitle, data):\n",
      "    nl_tot,ca_tot = data[0]\n",
      "    \n",
      "    nl,ca = [],[]\n",
      "    for i in range(1,5):\n",
      "        nl.append(data[i][0])\n",
      "        ca.append(data[i][1])\n",
      "\n",
      "    plt.plot([-1, 1], [0, 0] , 'r-')\n",
      "    plt.plot([0, 0] , [-1, 1],'r-')\n",
      "\n",
      "    plt.plot([0, nl_tot], [0, ca_tot], 'g-o')\n",
      "    plt.plot([0, nl[0]], [0, ca[0]], 'm-o')\n",
      "    plt.plot([0, nl[1]], [0, ca[1]], 'm-o')\n",
      "    plt.plot([0, nl[2]], [0, ca[2]], 'm-o')\n",
      "    plt.plot([0, nl[3]], [0, ca[3]], 'm-o')\n",
      "\n",
      "    plt.xlabel('NL')\n",
      "    plt.ylabel('CA')\n",
      "\n",
      "    plt.title(bookTitle)\n",
      "    plt.axis('equal')"
     ],
     "language": "python",
     "metadata": {},
     "outputs": [],
     "prompt_number": 8
    },
    {
     "cell_type": "code",
     "collapsed": false,
     "input": [
      "def plotCloud(bookTitle, data):\n",
      "    plotOne(bookTitle, data)\n",
      "    points_nl,points_ca,points_lbl = data[5]\n",
      "    \n",
      "    plt.plot(points_nl,points_ca, 'b+')\n",
      "    \n",
      "    points = []\n",
      "    for nl,ca,txt in zip(points_nl,points_ca,points_lbl):\n",
      "        point = np.array([nl, ca])\n",
      "        distances = [ dist(point, x) for x in points ]\n",
      "        if len(distances)==0 or np.min(distances)>0.1:\n",
      "            plt.annotate(txt, (nl,ca), rotation=-10)\n",
      "            points.append(point)\n",
      "    \n",
      "    plt.axis([-1,1,-1,1])"
     ],
     "language": "python",
     "metadata": {},
     "outputs": [],
     "prompt_number": 9
    },
    {
     "cell_type": "code",
     "collapsed": false,
     "input": [
      "def plotAll(allSummaries):\n",
      "#    plt.plot([-1, 1], [0, 0] , 'r-')\n",
      "#    plt.plot([0, 0] , [-1, 1],'r-')\n",
      "    plt.plot(0, 0,'r+')\n",
      "    \n",
      "    for bookTitle in allSummaries:\n",
      "        data = allSummaries[bookTitle]\n",
      "        nl_tot,ca_tot = data[0]\n",
      "        plt.plot(nl_tot, ca_tot, 'go')\n",
      "        plt.annotate(bookTitle, (nl_tot,ca_tot), rotation=-10)\n",
      "\n",
      "    plt.title('All books')\n",
      "    plt.xlabel('NL')\n",
      "    plt.ylabel('CA')\n",
      "    plt.axis('equal')"
     ],
     "language": "python",
     "metadata": {},
     "outputs": [],
     "prompt_number": 10
    },
    {
     "cell_type": "code",
     "collapsed": false,
     "input": [
      "for bookTitle in allSummaries:\n",
      "    plt.figure(figsize=(4,4))\n",
      "    plotCloud(bookTitle, allSummaries[bookTitle])\n",
      "    plt.savefig('images/' + bookTitle + '_cloud.png')\n",
      "    plt.close()\n",
      "#    display(Image(filename='images/' + bookTitle + '_cloud.png'))\n"
     ],
     "language": "python",
     "metadata": {},
     "outputs": [],
     "prompt_number": 11
    },
    {
     "cell_type": "code",
     "collapsed": false,
     "input": [
      "for bookTitle in allSummaries:\n",
      "    plt.figure(figsize=(4,4))\n",
      "    plotOne(bookTitle, allSummaries[bookTitle])\n",
      "    plt.savefig('images/' + bookTitle + '.png')\n",
      "    plt.close()\n",
      "#    display(Image(filename='images/' + bookTitle + '.png'))"
     ],
     "language": "python",
     "metadata": {},
     "outputs": [],
     "prompt_number": 12
    },
    {
     "cell_type": "code",
     "collapsed": false,
     "input": [
      "plt.figure(figsize=(4,4))\n",
      "plotAll(allSummaries)\n",
      "plt.savefig('images/all_books.png')\n",
      "plt.close()\n",
      "#display(Image(filename='images/all_books.png'))\n"
     ],
     "language": "python",
     "metadata": {},
     "outputs": [],
     "prompt_number": 13
    },
    {
     "cell_type": "code",
     "collapsed": false,
     "input": [
      "for bookTitle in allSummaries:\n",
      "    data = allSummaries[bookTitle]\n",
      "    nl_tot,ca_tot = data[0]\n",
      "    print '%s,%.6f,%.6f'%(bookTitle,nl_tot,ca_tot)\n"
     ],
     "language": "python",
     "metadata": {},
     "outputs": [
      {
       "output_type": "stream",
       "stream": "stdout",
       "text": [
        "Rendez-vous,0.145970,0.177727\n",
        "Motormoeder,-0.018776,0.017334\n",
        "Blauw bloed,-0.008480,-0.061937\n",
        "De eetclub,0.059043,-0.020585\n",
        "Mieke Maaike's obscene jeugd: een pornografisch verhaal, voorafgegaan door een proefschrift 'in en om het kutodelisch verschijnsel', waarmee student Steivekleut promoveerde,0.170668,0.092228\n",
        "Hoffman's honger: roman,0.012165,0.000758\n",
        "Offerande,0.132201,-0.025728\n",
        "De hartjacht: roman,-0.048481,-0.066477\n",
        "De schaduw en de maagd,-0.188576,-0.002418\n",
        "Je bent maar een mens: een leven tussen twee tijden,0.267981,-0.051087\n",
        "Het smar\u00e1n, het vikka, de ronko en al de andere kleuren van de geschiedenis: roman,-0.034218,-0.009550\n",
        "Een gelijkend portret,0.031701,0.017503\n",
        "Het huis tussen de heuvels,-0.168507,-0.014500\n",
        "De Feniks: een familiekroniek,0.158932,0.003553\n",
        "Een beeldje voor Venus en Reis in het atoomtijdperk: twee reisnovellen,-0.193089,-0.110722\n",
        "De zeemeermin: roman,0.079046,-0.017786\n",
        "Drie rode rozen: een novelle,0.067773,0.076582\n",
        "De slakken van Can\u00eat d'Olt: roman,0.097270,0.021575\n",
        "De tweeling: roman,0.111969,-0.046657\n",
        "Dierbaar venijn: roman,-0.063343,-0.084672\n",
        "Een dag als een ander,0.091341,0.218539\n",
        "De familie Roothooft,0.026587,-0.004089\n",
        "Samen is twee keer alleen: roman,-0.068362,0.013168\n",
        "De buitenvrouw: roman,0.235869,-0.014631\n",
        "Een vlucht regenwulpen: roman,0.075161,-0.055034\n",
        "Tot stervens bestaan,0.261981,-0.186385\n",
        "Gekkenschemer: roman,0.154660,0.001505\n",
        "Voordewind,0.141266,0.030772\n",
        "De man zonder uniform,0.066964,0.110031\n",
        "Au pair: roman,-0.067028,0.032276\n",
        "De insluiper,0.131303,-0.098122\n",
        "Het kind: een novelle,0.085627,0.192700\n",
        "Spoorloos: roman,-0.001453,0.072815\n",
        "Het leven na beklag: het beleg van Laken 4,-0.060367,0.001090\n",
        "Gala,0.055236,-0.067907\n",
        "Doe maar Lissabon,0.029621,-0.008803\n",
        "Mode voor Moskou,0.233527,-0.014590\n"
       ]
      }
     ],
     "prompt_number": 14
    }
   ],
   "metadata": {}
  }
 ]
}