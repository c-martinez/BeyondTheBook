{
 "metadata": {
  "name": "",
  "signature": "sha256:caac527ae6ac6a65d4c33e38bf9afd7d8fa85133d4a7112c12ac5ac25ae54129"
 },
 "nbformat": 3,
 "nbformat_minor": 0,
 "worksheets": [
  {
   "cells": [
    {
     "cell_type": "code",
     "collapsed": false,
     "input": [
      "For topic X\n",
      "    - Get topics it links to\n",
      "    - Get country of interest for topic X\n",
      "    - for each link\n",
      "        - get country of iterest of topic_link\n"
     ],
     "language": "python",
     "metadata": {},
     "outputs": []
    }
   ],
   "metadata": {}
  }
 ]
}