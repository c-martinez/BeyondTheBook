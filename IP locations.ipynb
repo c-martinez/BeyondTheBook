{
 "metadata": {
  "name": "",
  "signature": "sha256:86f7ea382e67aac44432503f48ba0646a54d469b3cc36703513728c0a92ce671"
 },
 "nbformat": 3,
 "nbformat_minor": 0,
 "worksheets": [
  {
   "cells": [
    {
     "cell_type": "markdown",
     "metadata": {},
     "source": [
      "# IP location\n",
      "The aim of this notebook is to determine to which country a given IP address belongs to. This is possible using a list of IP ranges from [DBIP database](http://db-ip.com/db/). (Data downloaded 24 June 2014)."
     ]
    },
    {
     "cell_type": "code",
     "collapsed": false,
     "input": [
      "!ls -lh dbip-country.csv"
     ],
     "language": "python",
     "metadata": {},
     "outputs": [
      {
       "output_type": "stream",
       "stream": "stdout",
       "text": [
        "-rw------- 1 carlosm carlosm 8,5M jun 24 17:06 dbip-country.csv\r\n"
       ]
      }
     ],
     "prompt_number": 1
    },
    {
     "cell_type": "markdown",
     "metadata": {},
     "source": [
      "The file contains a series of rows specifying IP ranges for a specific country in the format: starting address, end address, country code."
     ]
    },
    {
     "cell_type": "code",
     "collapsed": false,
     "input": [
      "!head -n 10 dbip-country.csv"
     ],
     "language": "python",
     "metadata": {},
     "outputs": [
      {
       "output_type": "stream",
       "stream": "stdout",
       "text": [
        "\"0.0.0.0\",\"0.255.255.255\",\"US\"\r",
        "\r\n",
        "\"1.0.0.0\",\"1.0.0.255\",\"AU\"\r",
        "\r\n",
        "\"1.0.1.0\",\"1.0.3.255\",\"CN\"\r",
        "\r\n",
        "\"1.0.4.0\",\"1.0.7.255\",\"AU\"\r",
        "\r\n",
        "\"1.0.8.0\",\"1.0.15.255\",\"CN\"\r",
        "\r\n",
        "\"1.0.16.0\",\"1.0.31.255\",\"JP\"\r",
        "\r\n",
        "\"1.0.32.0\",\"1.0.63.255\",\"CN\"\r",
        "\r\n",
        "\"1.0.64.0\",\"1.0.127.255\",\"JP\"\r",
        "\r\n",
        "\"1.0.128.0\",\"1.0.255.255\",\"TH\"\r",
        "\r\n",
        "\"1.1.0.0\",\"1.1.0.255\",\"CN\"\r",
        "\r\n"
       ]
      }
     ],
     "prompt_number": 2
    },
    {
     "cell_type": "markdown",
     "metadata": {},
     "source": [
      "## IP to number\n",
      "\n",
      "For simplicity, we need a way to convert an IP address into a number. This is a fairly standard task and package *ipaddress* can simplify the task."
     ]
    },
    {
     "cell_type": "code",
     "collapsed": false,
     "input": [
      "import ipaddress\n",
      "\n",
      "# Some random IP\n",
      "myIP_str = u'145.100.61.14'\n",
      "myIP = ipaddress.ip_address(myIP_str)\n",
      "\n",
      "print myIP_str + ' as number: ', int(myIP)"
     ],
     "language": "python",
     "metadata": {},
     "outputs": [
      {
       "output_type": "stream",
       "stream": "stdout",
       "text": [
        "145.100.61.14 as number:  2439265550\n"
       ]
      }
     ],
     "prompt_number": 3
    },
    {
     "cell_type": "markdown",
     "metadata": {},
     "source": [
      "We can load the data from this file as as simple list of tuples."
     ]
    },
    {
     "cell_type": "code",
     "collapsed": false,
     "input": [
      "data = []\n",
      "with open('dbip-country.csv', 'r') as fin:\n",
      "    for line in fin:\n",
      "        line = line.strip()\n",
      "        cols = line.split(',')\n",
      "\n",
      "        fromIP_str = cols[0].strip('\"')\n",
      "        toIP_str = cols[1].strip('\"')\n",
      "        country = cols[2].strip('\"')\n",
      "\n",
      "        fromIP = ipaddress.ip_address(unicode(fromIP_str))\n",
      "        toIP = ipaddress.ip_address(unicode(toIP_str))\n",
      "\n",
      "        fromIP_int = int(fromIP)\n",
      "        toIP_int = int(toIP)\n",
      "\n",
      "        data.append((fromIP_int, toIP_int, country))"
     ],
     "language": "python",
     "metadata": {},
     "outputs": [],
     "prompt_number": 5
    },
    {
     "cell_type": "markdown",
     "metadata": {},
     "source": [
      "And we can break these tuples into 3 separate arrays."
     ]
    },
    {
     "cell_type": "code",
     "collapsed": false,
     "input": [
      "lowerAdd = [ x[0] for x in data ]\n",
      "upperAdd = [ x[1] for x in data ]\n",
      "countryCodes = [ x[2] for x in data ]"
     ],
     "language": "python",
     "metadata": {},
     "outputs": [],
     "prompt_number": 6
    },
    {
     "cell_type": "markdown",
     "metadata": {},
     "source": [
      "We are assuming the address arrays are sorted in ascending order, therefore we can use bisect module to efficiently do a binary search on the address arrays.\n",
      "\n",
      "Given an IP address X, we try to find the country to which X belongs. For this, we look for the i-th row in the address table, such that lower[i] <= X <= upper[i], then we know that X belongs to country[i].\n",
      "\n",
      "The following function implements this logic."
     ]
    },
    {
     "cell_type": "code",
     "collapsed": false,
     "input": [
      "import bisect\n",
      "\n",
      "def getCountryCode(ip_str, lowerAdd, upperAdd, countryCodes):\n",
      "    '''\n",
      "    For a given ip address (as string), locate its country code.\n",
      "    \n",
      "    ip_str        Target IP address (as string)\n",
      "    lowerAdd      List of lower ranges\n",
      "    upperAdd      List of upper ranges\n",
      "    countryCodes  Range country codes\n",
      "    \n",
      "    Return the target countr code (or NaN if not know.)\n",
      "    '''\n",
      "    ip = ipaddress.ip_address(unicode(ip_str))\n",
      "    ip_int = int(ip)\n",
      "    \n",
      "    idx = bisect.bisect_left(upperAdd, ip_int)\n",
      "    \n",
      "    if lowerAdd[idx]<=ip_int and ip_int<=upperAdd[idx]:\n",
      "        return countryCodes[idx]\n",
      "    else:\n",
      "        ip_t = str(ip_int)\n",
      "        ip_l = str(lowerAdd[idx])\n",
      "        ip_h = str(upperAdd[idx])\n",
      "        print 'Address ' + ip_t + ' is not in range [' + ip_l + ', ' +  ip_h + ']'\n",
      "        return NaN"
     ],
     "language": "python",
     "metadata": {},
     "outputs": [],
     "prompt_number": 7
    },
    {
     "cell_type": "markdown",
     "metadata": {},
     "source": [
      "We can test this with a couple examples."
     ]
    },
    {
     "cell_type": "code",
     "collapsed": false,
     "input": [
      "getCountryCode('145.100.61.14', lowerAdd, upperAdd, countryCodes) # eScience center IP"
     ],
     "language": "python",
     "metadata": {},
     "outputs": [
      {
       "metadata": {},
       "output_type": "pyout",
       "prompt_number": 9,
       "text": [
        "'NL'"
       ]
      }
     ],
     "prompt_number": 9
    },
    {
     "cell_type": "code",
     "collapsed": false,
     "input": [
      "getCountryCode('144.173.6.146', lowerAdd, upperAdd, countryCodes) # U. Exeter IP"
     ],
     "language": "python",
     "metadata": {},
     "outputs": [
      {
       "metadata": {},
       "output_type": "pyout",
       "prompt_number": 10,
       "text": [
        "'GB'"
       ]
      }
     ],
     "prompt_number": 10
    },
    {
     "cell_type": "code",
     "collapsed": false,
     "input": [
      "getCountryCode('74.125.136.106', lowerAdd, upperAdd, countryCodes) # www.google.com"
     ],
     "language": "python",
     "metadata": {},
     "outputs": [
      {
       "metadata": {},
       "output_type": "pyout",
       "prompt_number": 11,
       "text": [
        "'US'"
       ]
      }
     ],
     "prompt_number": 11
    },
    {
     "cell_type": "code",
     "collapsed": false,
     "input": [
      "getCountryCode('148.243.168.33', lowerAdd, upperAdd, countryCodes) # www.eluniversal.com.mx"
     ],
     "language": "python",
     "metadata": {},
     "outputs": [
      {
       "metadata": {},
       "output_type": "pyout",
       "prompt_number": 12,
       "text": [
        "'MX'"
       ]
      }
     ],
     "prompt_number": 12
    },
    {
     "cell_type": "markdown",
     "metadata": {},
     "source": [
      "This functionality has been implemented in the python module *wikidat.utils.ipresolver*"
     ]
    }
   ],
   "metadata": {}
  }
 ]
}