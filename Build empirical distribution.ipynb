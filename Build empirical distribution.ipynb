{
 "cells": [
  {
   "cell_type": "code",
   "execution_count": 1,
   "metadata": {
    "collapsed": false
   },
   "outputs": [
    {
     "name": "stdout",
     "output_type": "stream",
     "text": [
      "Populating the interactive namespace from numpy and matplotlib\n"
     ]
    }
   ],
   "source": [
    "%pylab inline"
   ]
  },
  {
   "cell_type": "code",
   "execution_count": 2,
   "metadata": {
    "collapsed": true
   },
   "outputs": [],
   "source": [
    "import btb.utils.tools as btbtools\n",
    "import btb.utils.wikiquery as wq\n",
    "\n",
    "import mwclient\n",
    "import pickle\n",
    "from collections import defaultdict"
   ]
  },
  {
   "cell_type": "code",
   "execution_count": 86,
   "metadata": {
    "collapsed": true
   },
   "outputs": [],
   "source": [
    "from moviepy.video.io.bindings import mplfig_to_npimage\n",
    "import moviepy.editor as mpy"
   ]
  },
  {
   "cell_type": "code",
   "execution_count": 87,
   "metadata": {
    "collapsed": true
   },
   "outputs": [],
   "source": [
    "from IPython.display import Image"
   ]
  },
  {
   "cell_type": "code",
   "execution_count": 3,
   "metadata": {
    "collapsed": false
   },
   "outputs": [],
   "source": [
    "wikiEN = mwclient.Site('en.wikipedia.org')\n",
    "# wikiEN = btbtools.getDebugWiki()\n",
    "bots = wq.getAllBots(wikiEN)\n",
    "expEdPct = wq.getTotalContributions() # Expected percentage of edits per country"
   ]
  },
  {
   "cell_type": "code",
   "execution_count": 4,
   "metadata": {
    "collapsed": false
   },
   "outputs": [],
   "source": [
    "def randomTitles(wikiEN, nTitles):\n",
    "    '''\n",
    "    Generator of random Wikipedia pages.\n",
    "    '''\n",
    "    for i in range(int(nTitles/10)):\n",
    "        randPages = wikiEN.random(namespace=0, limit=10)\n",
    "        for page in randPages:\n",
    "            yield page['title']"
   ]
  },
  {
   "cell_type": "code",
   "execution_count": 5,
   "metadata": {
    "collapsed": true
   },
   "outputs": [],
   "source": [
    "def categoryTitles(wikiEN, catName, nTitles):\n",
    "    '''\n",
    "    Generator of random Wikipedia pages in a category.\n",
    "    \n",
    "    NOTE: ordering of items in the category is always the same.\n",
    "    \n",
    "    eg: categoryTitles(wikiEN, 'Cities in the Netherlands', 20)\n",
    "    '''\n",
    "    wikiCat = wikiEN.categories[catName]\n",
    "    for i in range(nTitles):\n",
    "        catPage = wikiCat.next()\n",
    "        yield catPage.name"
   ]
  },
  {
   "cell_type": "code",
   "execution_count": 67,
   "metadata": {
    "collapsed": false
   },
   "outputs": [],
   "source": [
    "def unpackContributions(cmpEdits):\n",
    "    ''' previously dict comprehension: \n",
    "    { ctry: ac for ctry,(ex,ac,cm) in cmpEdits.iteritems() } \n",
    "    \n",
    "    except added an if  to avoid empty keys which cause problems \n",
    "    when pickling '''\n",
    "    edits = {}\n",
    "    for ctry,(ex,ac,cm) in cmpEdits.iteritems():\n",
    "        if ctry=='':\n",
    "            ctry = '_'\n",
    "        edits[ctry] = ac\n",
    "    return edits\n",
    "\n",
    "def fetchContributions(titles):\n",
    "    '''\n",
    "    Parameters:\n",
    "        titles    Generator of titles to be fetched\n",
    "    Return:\n",
    "        dictionary of title: contribution percentages\n",
    "    '''\n",
    "    # TODO: Maybe make into a generator ?\n",
    "    cumEdPct = []\n",
    "    for pageTitle in titles:\n",
    "        ips, usrs, nrevs = wq.getContributionsForPage(wikiEN, pageTitle)\n",
    "        revCount, conf, nIP, nUsr, nBot, nUnkn = btbtools.prepareData(ips, usrs, bots)\n",
    "\n",
    "        cmpEdits = btbtools.compareEdits(expEdPct, revCount)\n",
    "        actEdPct = unpackContributions(cmpEdits)\n",
    "        cumEdPct.append((pageTitle, actEdPct))\n",
    "    return cumEdPct"
   ]
  },
  {
   "cell_type": "code",
   "execution_count": 7,
   "metadata": {
    "collapsed": false
   },
   "outputs": [],
   "source": [
    "def getContributionSummary(pageContribs):\n",
    "    # Normalization factor:\n",
    "    # Weight each contribution by a normalization factor dependent on the \n",
    "    # total weight of all contributions\n",
    "    normFactor = sum( sum(contribs.values()) for title,contribs in pageContribs )\n",
    "    \n",
    "    edPct = defaultdict(float)\n",
    "    for title,pageEdPct in pageContribs:\n",
    "        for ctry,pct in pageEdPct.iteritems():\n",
    "            edPct[ctry] += pct / normFactor\n",
    "    edPct = dict(edPct)\n",
    "    return edPct\n"
   ]
  },
  {
   "cell_type": "code",
   "execution_count": 20,
   "metadata": {
    "collapsed": false
   },
   "outputs": [],
   "source": [
    "def getEditError(globalContribs):\n",
    "    editDiff = []\n",
    "    for e in expEdPct:\n",
    "        ex = expEdPct[e]\n",
    "        ac = globalContribs[e] if e in globalContribs else 0\n",
    "        editDiff.append(ac-ex)\n",
    "    editDiff = np.array(editDiff)\n",
    "    return (editDiff**2).sum()"
   ]
  },
  {
   "cell_type": "markdown",
   "metadata": {},
   "source": [
    "# Fetch data from Wikipedia"
   ]
  },
  {
   "cell_type": "code",
   "execution_count": 78,
   "metadata": {
    "collapsed": true
   },
   "outputs": [],
   "source": [
    "titles = randomTitles(wikiEN, 500)\n",
    "pageContribs = fetchContributions(titles)\n",
    "pickle.dump(pageContribs, open('PageContribsRandom.pkl', 'w'))"
   ]
  },
  {
   "cell_type": "code",
   "execution_count": 14,
   "metadata": {
    "collapsed": true
   },
   "outputs": [],
   "source": [
    "titles = categoryTitles(wikiEN, 'Cities in the Netherlands', 500)\n",
    "pageContribs = fetchContributions(titles)\n",
    "pickle.dump(pageContribs, open('PageContribs_citiesNL.pkl', 'w'))"
   ]
  },
  {
   "cell_type": "code",
   "execution_count": null,
   "metadata": {
    "collapsed": true
   },
   "outputs": [],
   "source": [
    "titles = randomTitles(wikiEN, 1000)\n",
    "pageContribs = fetchContributions(titles)\n",
    "pickle.dump(pageContribs, open('PageContribsRandom1000A.pkl', 'w'))"
   ]
  },
  {
   "cell_type": "markdown",
   "metadata": {},
   "source": [
    "# Plot data"
   ]
  },
  {
   "cell_type": "code",
   "execution_count": 16,
   "metadata": {
    "collapsed": false
   },
   "outputs": [],
   "source": [
    "def getErr(pageContribs, n):\n",
    "    contribsN = pageContribs[:n]\n",
    "    return getEditError(getContributionSummary(contribsN))\n",
    "\n",
    "def plotContribError(pageContribs):\n",
    "    nSamples = range(1,len(pageContribs))\n",
    "    err = [ getErr(pageContribs, n_i) for n_i in nSamples ]\n",
    "    semilogy(nSamples,err)\n",
    "    axis([ 0, len(pageContribs), 0, 1]);"
   ]
  },
  {
   "cell_type": "code",
   "execution_count": 28,
   "metadata": {
    "collapsed": true
   },
   "outputs": [],
   "source": [
    "def plotHistogramContributions(pageContribs, fig=None):\n",
    "    if fig==None:\n",
    "        figure(figsize=(12,4))\n",
    "\n",
    "    actEdPct = getContributionSummary(pageContribs)\n",
    "\n",
    "    tags   = np.array(expEdPct.keys())\n",
    "    cmpVals = np.array(expEdPct.values())\n",
    "\n",
    "    # Sort descending by expected value\n",
    "    sortIdx = cmpVals.argsort()\n",
    "    sortIdx = sortIdx[::-1]\n",
    "    tags   = tags[sortIdx]\n",
    "\n",
    "    expVal = [ expEdPct[ctry] for ctry in tags ]\n",
    "    actVal = [ actEdPct[ctry] for ctry in tags ]\n",
    "\n",
    "    # Format bar charts\n",
    "    width = 0.35\n",
    "    N = len(tags)\n",
    "    ind = np.arange(N)\n",
    "\n",
    "    bar(ind           , expVal, width=width, color='y', label='Expectation')\n",
    "    bar(ind + width   , actVal, width=width, color='r', label='Contribution')\n",
    "    xticks(ind + width, tags  , rotation=90)"
   ]
  },
  {
   "cell_type": "code",
   "execution_count": 91,
   "metadata": {
    "collapsed": true
   },
   "outputs": [],
   "source": [
    "def makeFrame(i, pageContribs):\n",
    "    gcf().clear()\n",
    "    plotHistogramContributions(pageContribs[:i], gcf())\n",
    "    title('Title %d'%i)\n",
    "    img = mplfig_to_npimage(gcf())\n",
    "    return img\n",
    "\n",
    "def wrapMakeFrame(f, pageContribs, fps):\n",
    "    i = int(f * fps)+1\n",
    "    return makeFrame(i, pageContribs)\n",
    "\n",
    "def buildAnimation(pageContribs, aniFile, duration):\n",
    "    fps = len(pageContribs) / duration\n",
    "    print 'We have to display %f frames each second, so in %d seconds, we display %d frames'%(fps, duration, len(pageContribs))\n",
    "    \n",
    "    fig = figure(figsize=(12,4))\n",
    "    \n",
    "    lambdaMakeFrame = lambda f: wrapMakeFrame(f, pageContribs, fps)\n",
    "\n",
    "    animation =mpy.VideoClip(lambdaMakeFrame, duration=duration)\n",
    "    animation.write_gif(aniFile, fps=fps)\n",
    "    close()"
   ]
  },
  {
   "cell_type": "markdown",
   "metadata": {},
   "source": [
    "## 500 random Wikipedia pages"
   ]
  },
  {
   "cell_type": "code",
   "execution_count": 80,
   "metadata": {
    "collapsed": true
   },
   "outputs": [],
   "source": [
    "pageContribs = pickle.load(open('PageContribsRandom.pkl', 'r'))"
   ]
  },
  {
   "cell_type": "code",
   "execution_count": 81,
   "metadata": {
    "collapsed": false
   },
   "outputs": [
    {
     "data": {
      "image/png": "[encoded data removed]",
      "text/plain": [
       "<matplotlib.figure.Figure at 0x7f706e77b5d0>"
      ]
     },
     "metadata": {},
     "output_type": "display_data"
    }
   ],
   "source": [
    "plotContribError(pageContribs)"
   ]
  },
  {
   "cell_type": "code",
   "execution_count": 82,
   "metadata": {
    "collapsed": false
   },
   "outputs": [
    {
     "data": {
      "image/png": "[encoded data removed]",
      "text/plain": [
       "<matplotlib.figure.Figure at 0x7f705b04f090>"
      ]
     },
     "metadata": {},
     "output_type": "display_data"
    }
   ],
   "source": [
    "plotHistogramContributions(pageContribs)"
   ]
  },
  {
   "cell_type": "code",
   "execution_count": null,
   "metadata": {
    "collapsed": true
   },
   "outputs": [],
   "source": [
    "buildAnimation(pageContribs, 'random.gif', duration=50)"
   ]
  },
  {
   "cell_type": "code",
   "execution_count": 88,
   "metadata": {
    "collapsed": false
   },
   "outputs": [
    {
     "data": {
      "text/html": [
       "<img src=\"cities_nl.gif\"/>"
      ],
      "text/plain": [
       "<IPython.core.display.Image object>"
      ]
     },
     "execution_count": 88,
     "metadata": {},
     "output_type": "execute_result"
    }
   ],
   "source": [
    "Image(url='cities_nl.gif')"
   ]
  },
  {
   "cell_type": "markdown",
   "metadata": {},
   "source": [
    "## Category: cities in the netherlands"
   ]
  },
  {
   "cell_type": "code",
   "execution_count": null,
   "metadata": {
    "collapsed": true
   },
   "outputs": [],
   "source": [
    "pageContribs = pickle.load(open('PageContribs_citiesNL.pkl', 'r'))"
   ]
  },
  {
   "cell_type": "code",
   "execution_count": 21,
   "metadata": {
    "collapsed": false
   },
   "outputs": [
    {
     "data": {
      "image/png": "[encoded data removed]",
      "text/plain": [
       "<matplotlib.figure.Figure at 0x7f706e7aa290>"
      ]
     },
     "metadata": {},
     "output_type": "display_data"
    }
   ],
   "source": [
    "plotContribError(pageContribs)"
   ]
  },
  {
   "cell_type": "code",
   "execution_count": 22,
   "metadata": {
    "collapsed": false
   },
   "outputs": [
    {
     "data": {
      "image/png": "[encoded data removed]",
      "text/plain": [
       "<matplotlib.figure.Figure at 0x7f706e673750>"
      ]
     },
     "metadata": {},
     "output_type": "display_data"
    }
   ],
   "source": [
    "plotHistogramContributions(pageContribs)"
   ]
  },
  {
   "cell_type": "code",
   "execution_count": null,
   "metadata": {
    "collapsed": true
   },
   "outputs": [],
   "source": [
    "buildAnimation(pageContribs, 'cities_nl.gif', duration=20)"
   ]
  },
  {
   "cell_type": "code",
   "execution_count": 90,
   "metadata": {
    "collapsed": false
   },
   "outputs": [
    {
     "data": {
      "text/html": [
       "<img src=\"random.gif\"/>"
      ],
      "text/plain": [
       "<IPython.core.display.Image object>"
      ]
     },
     "execution_count": 90,
     "metadata": {},
     "output_type": "execute_result"
    }
   ],
   "source": [
    "Image(url='random.gif')"
   ]
  }
 ],
 "metadata": {
  "kernelspec": {
   "display_name": "IPython (Python 2)",
   "name": "python2"
  },
  "language_info": {
   "codemirror_mode": {
    "name": "ipython",
    "version": 2
   },
   "file_extension": ".py",
   "mimetype": "text/x-python",
   "name": "python",
   "nbconvert_exporter": "python",
   "pygments_lexer": "ipython2",
   "version": "2.7.8"
  },
  "signature": "sha256:b1823532964e3a3a7af60fd90f590fd9838472914f4d476c1e4d6666b7c4befb"
 },
 "nbformat": 4,
 "nbformat_minor": 0
}