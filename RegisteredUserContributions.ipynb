{
 "metadata": {
  "name": "",
  "signature": "sha256:c7332cc930caba8ea8a4d79dcbdb0c7b6a42ef2fda5de9bd133ab2add2f6494d"
 },
 "nbformat": 3,
 "nbformat_minor": 0,
 "worksheets": [
  {
   "cells": [
    {
     "cell_type": "markdown",
     "metadata": {},
     "source": [
      "# Registered User Contributions\n",
      "We are interested in obtaining country information from registered users. Unfortunately, it is not possible to get country information for registered users directly. However there users can use [location categories](http://en.wikipedia.org/wiki/Category:Wikipedians_by_location) to provide information regarding their location.\n",
      "\n",
      "The \"Wikipedians by location\" category provides a listing of all existing location categories. From these, we can select the categories for countries we are interested in.\n",
      "\n",
      "**NOTE:** functionality for resolving user countries has been wrapped up in *wikidat.utils.userresolver* package"
     ]
    },
    {
     "cell_type": "code",
     "collapsed": false,
     "input": [
      "import sys\n",
      "sys.path.append('../WikiDAT/')\n",
      "import wikidat.utils.userresolver as usolve"
     ],
     "language": "python",
     "metadata": {},
     "outputs": [],
     "prompt_number": 1
    },
    {
     "cell_type": "markdown",
     "metadata": {},
     "source": [
      "## Contributing country categories\n",
      "\n",
      "We are interested in identifying country contributions from users who are located in countries which make significant number of contributions. Wikimedia provides [statistics](http://stats.wikimedia.org/wikimedia/squids/SquidReportPageEditsPerLanguageBreakdown.htm) on the countries which contribute more to wikipedia. We will try to identify users from countries in the following list:\n",
      "\n",
      "| Country       | Contribution (%) |\n",
      "| ------------- |:-------------:|\n",
      "| United States |38.30%|\n",
      "| United Kingdom |13.20%|\n",
      "| India |6.90%|\n",
      "| Canada |5.40%|\n",
      "| Australia |3.60%|\n",
      "| Philippines |2.60%|\n",
      "| Germany |1.50%|\n",
      "| Brazil |1.10%|\n",
      "| Italy |1.00%|\n",
      "| Ireland |1.00%|\n",
      "| Pakistan |0.90%|\n",
      "| France |0.80%|\n",
      "| Malaysia |0.80%|\n",
      "| Netherlands |0.80%|\n",
      "| Indonesia |0.80%|\n",
      "| China |0.70%|\n",
      "| New Zealand |0.70%|\n",
      "| Spain |0.70%|\n",
      "| Iran |0.70%|\n",
      "| Mexico |0.50%|\n",
      "| Sweden |0.50%|\n",
      "| Russia |0.50%|\n",
      "| Greece |0.50%|\n",
      "| Turkey |0.50%|\n",
      "\n",
      "Users in these countries will be indicated in the following categories:"
     ]
    },
    {
     "cell_type": "code",
     "collapsed": false,
     "input": [
      "countrySeeds = usolve.__getcountrySeeds__()\n",
      "\n",
      "for country in countrySeeds:\n",
      "    seeds = countrySeeds[country]\n",
      "    print country,'contains seeds: '\n",
      "    for seed in seeds:\n",
      "        print '\\t',seed"
     ],
     "language": "python",
     "metadata": {},
     "outputs": [
      {
       "output_type": "stream",
       "stream": "stdout",
       "text": [
        "FR contains seeds: \n",
        "\tWikipedians in France\n",
        "DE contains seeds: \n",
        "\tWikipedians in Germany\n",
        "BR contains seeds: \n",
        "\tWikipedians in Brazil\n",
        "GR contains seeds: \n",
        "\tWikipedians in Greece\n",
        "RU contains seeds: \n",
        "\tWikipedians in Russia\n",
        "NL contains seeds: \n",
        "\tWikipedians in Netherlands\n",
        "\tWikipedians in the Netherlands\n",
        "TR contains seeds: \n",
        "\tWikipedians in Turkey\n",
        "NZ contains seeds: \n",
        "\tWikipedians in New Zealand\n",
        "PK contains seeds: \n",
        "\tWikipedians in Pakistan\n",
        "\tWikipedians in the Pakistan\n",
        "PH contains seeds: \n",
        "\tWikipedians in the Philippines\n",
        "\tWikipedians in Philippines\n",
        "CN contains seeds: \n",
        "\tWikipedians in China\n",
        "\tWikipedians in Mainland China\n",
        "\tWikipedians in the People's Republic of China\n",
        "\tWikipedians in the People's Republic of China/\n",
        "\tWikipedians in the Republic of China\n",
        "CA contains seeds: \n",
        "\tWikipedians in Canada\n",
        "IR contains seeds: \n",
        "\tWikipedians in the Iran\n",
        "\tWikipedians in Iran\n",
        "IT contains seeds: \n",
        "\tWikipedians in Italy\n",
        "AU contains seeds: \n",
        "\tWikipedians in the Australia\n",
        "\tWikipedians in AUSTRALIA\n",
        "\tWikipedians in Australia\n",
        "IN contains seeds: \n",
        "\tWikipedians in India\n",
        "\tWikipedians in the India\n",
        "\tWikipedians in the Republic of INDIA\n",
        "IE contains seeds: \n",
        "\tWikipedians in Ireland\n",
        "\tWikipedians in the Republic of Ireland\n",
        "ID contains seeds: \n",
        "\tWikipedians in Indonesia\n",
        "ES contains seeds: \n",
        "\tWikipedians in Spain\n",
        "\tWikipedians in in Spain\n",
        "US contains seeds: \n",
        "\tWikipedians in U.S.A.\n",
        "\tWikipedians in United States\n",
        "\tWikipedians in United States Of America\n",
        "\tWikipedians in United States of America\n",
        "\tWikipedians in US\n",
        "\tWikipedians in USA\n",
        "\tWikipedians in the United States\n",
        "\tWikipedians in the United States of America\n",
        "UK contains seeds: \n",
        "\tWikipedians in UK\n",
        "\tWikipedians in United Kingdom\n",
        "\tWikipedians in the United Kingdom\n",
        "\tWikipedians in the UK\n",
        "MY contains seeds: \n",
        "\tWikipedians in Malaysia\n",
        "MX contains seeds: \n",
        "\tWikipedians in Mexico\n",
        "SE contains seeds: \n",
        "\tWikipedians in Sweden\n"
       ]
      }
     ],
     "prompt_number": 2
    },
    {
     "cell_type": "code",
     "collapsed": false,
     "input": [
      "import mwclient\n",
      "wiki = mwclient.Site('en.wikipedia.org')"
     ],
     "language": "python",
     "metadata": {},
     "outputs": [],
     "prompt_number": 3
    },
    {
     "cell_type": "markdown",
     "metadata": {},
     "source": [
      "For any given category, we can get the users registered in this category, as well as any sub-category listed in this category:"
     ]
    },
    {
     "cell_type": "code",
     "collapsed": false,
     "input": [
      "seedCountry = 'NL'\n",
      "seedCats = countrySeeds[seedCountry]\n",
      "cat = wiki.Categories[seedCats[1]]\n",
      "\n",
      "users, cats = usolve.__getAllUsers__(cat)\n",
      "print 'Using seed cat: ', cat.name\n",
      "print '  Category contains: {:,} users'.format(len(users))\n",
      "print '  Category contains: {:,} categories'.format(len(cats))\n",
      "for cat_i in cats:\n",
      "    print '    > ',cat_i.name"
     ],
     "language": "python",
     "metadata": {},
     "outputs": [
      {
       "output_type": "stream",
       "stream": "stdout",
       "text": [
        "Using seed cat:  Category:Wikipedians in the Netherlands\n",
        "  Category contains: 332 users\n",
        "  Category contains: 5 categories\n",
        "    >  Category:Wikipedians in North Holland\n",
        "    >  Category:Wikipedians in Aruba\n",
        "    >  Category:Wikipedians in Leiden\n",
        "    >  Category:Wikipedians in Amsterdam\n",
        "    >  Category:Wikipedians in Tilburg\n"
       ]
      }
     ],
     "prompt_number": 4
    },
    {
     "cell_type": "markdown",
     "metadata": {},
     "source": [
      "We can use this process recursively to get all the users from one category and all its sub-categories. In this way, we can generate a list of users in a country."
     ]
    },
    {
     "cell_type": "code",
     "collapsed": false,
     "input": [
      "seedCountry = 'NL'\n",
      "seedCats = countrySeeds[seedCountry]\n",
      "print 'Using seed categories: '\n",
      "for seed in seedCats:\n",
      "    print '  > ',seed\n",
      "print ''\n",
      "\n",
      "# wmclient.Category object required as seeds\n",
      "wikiCats = [ wiki.Categories[seed] for seed in seedCats ]\n",
      "# we keep a record of \n",
      "log = []\n",
      "visited = set()\n",
      "allUsers = usolve.__fetchUsersCategory__(wikiCats, log, visited)\n",
      "\n",
      "print ''\n",
      "print 'Used seed categories yielded {:,} users in {:}'.format(len(allUsers),seedCountry)"
     ],
     "language": "python",
     "metadata": {},
     "outputs": [
      {
       "output_type": "stream",
       "stream": "stdout",
       "text": [
        "Using seed categories: \n",
        "  >  Wikipedians in Netherlands\n",
        "  >  Wikipedians in the Netherlands\n",
        "\n",
        "Fetching "
       ]
      },
      {
       "output_type": "stream",
       "stream": "stdout",
       "text": [
        " Category:Wikipedians in the Netherlands ...\n",
        "Fetching "
       ]
      },
      {
       "output_type": "stream",
       "stream": "stdout",
       "text": [
        " Category:Wikipedians in Tilburg ...\n",
        "Fetching "
       ]
      },
      {
       "output_type": "stream",
       "stream": "stdout",
       "text": [
        " Category:Wikipedians in Amsterdam ...\n",
        "Fetching "
       ]
      },
      {
       "output_type": "stream",
       "stream": "stdout",
       "text": [
        " Category:Wikipedians in Leiden ...\n",
        "Fetching "
       ]
      },
      {
       "output_type": "stream",
       "stream": "stdout",
       "text": [
        " Category:Wikipedians in Aruba ...\n",
        "Fetching "
       ]
      },
      {
       "output_type": "stream",
       "stream": "stdout",
       "text": [
        " Category:Wikipedians in North Holland ...\n",
        "Fetching "
       ]
      },
      {
       "output_type": "stream",
       "stream": "stdout",
       "text": [
        " Category:Wikipedians in Netherlands ...\n"
       ]
      },
      {
       "output_type": "stream",
       "stream": "stdout",
       "text": [
        "\n",
        "Used seed categories yielded 348 users in NL\n"
       ]
      }
     ],
     "prompt_number": 5
    },
    {
     "cell_type": "markdown",
     "metadata": {},
     "source": [
      "In this way the country seed categories can be used to generate a full list of users for each country. The *__fetchData__()* method performs this task. However, because this process can be slow (a few minutes), a list of user names is kept in a cache file (a python pickle file). \n",
      "\n",
      "The *__fetchData__()* method produces a list of user names for each country. Additionally, this method keeps record of the subcategories listed for each category. This record can be used to visualize the tree structure of categories visited for each country. Visualization of these trees is explained in the [Visualize Category Trees](VisualizeCategoryTrees.ipynb) notebook.\n",
      "\n",
      "The *wikidat.utils.userresolver* module keeps track of the user names associated with each country. At the same time this module provides functionality to determine the country of origin of a given user.\n",
      "\n",
      "The following is a user count of the known users for each country:"
     ]
    },
    {
     "cell_type": "code",
     "collapsed": false,
     "input": [
      "usernameSets = usolve.__usernameSets__\n",
      "\n",
      "tot = 0\n",
      "for country in sorted(usernameSets.keys()):\n",
      "    print '{:<10}\\t{:>6,} users'.format(country,len(usernameSets[country]))\n",
      "    tot += len(usernameSets[country])\n",
      "print '============================'\n",
      "print '{:<10}\\t{:>6,} users'.format('TOTAL',tot)"
     ],
     "language": "python",
     "metadata": {},
     "outputs": [
      {
       "output_type": "stream",
       "stream": "stdout",
       "text": [
        "AU        \t 2,300 users\n",
        "BR        \t   461 users\n",
        "CA        \t 2,675 users\n",
        "CN        \t   349 users\n",
        "DE        \t   733 users\n",
        "ES        \t   257 users\n",
        "FR        \t   194 users\n",
        "GR        \t   228 users\n",
        "ID        \t   322 users\n",
        "IE        \t   622 users\n",
        "IN        \t 1,463 users\n",
        "IR        \t    32 users\n",
        "IT        \t   168 users\n",
        "MX        \t   255 users\n",
        "MY        \t   219 users\n",
        "NL        \t   340 users\n",
        "NZ        \t   653 users\n",
        "PH        \t   111 users\n",
        "PK        \t   164 users\n",
        "RU        \t   464 users\n",
        "SE        \t   364 users\n",
        "TR        \t   226 users\n",
        "UK        \t 4,094 users\n",
        "US        \t13,585 users\n",
        "============================\n",
        "TOTAL     \t30,279 users\n"
       ]
      }
     ],
     "prompt_number": 6
    },
    {
     "cell_type": "markdown",
     "metadata": {},
     "source": [
      "The following exampl show how the *wikidat.utils.userresolver* module can be used to find out the country of a given user."
     ]
    },
    {
     "cell_type": "code",
     "collapsed": false,
     "input": [
      "aUser = 'Alaney2k'  # This is a known canadian user\n",
      "usolve.getUserCountry('Alaney2k')"
     ],
     "language": "python",
     "metadata": {},
     "outputs": [
      {
       "metadata": {},
       "output_type": "pyout",
       "prompt_number": 7,
       "text": [
        "'CA'"
       ]
      }
     ],
     "prompt_number": 7
    }
   ],
   "metadata": {}
  }
 ]
}