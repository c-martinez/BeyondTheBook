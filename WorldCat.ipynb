{
 "cells": [
  {
   "cell_type": "code",
   "execution_count": 1,
   "metadata": {
    "collapsed": false
   },
   "outputs": [],
   "source": [
    "import pycurl\n",
    "import json"
   ]
  },
  {
   "cell_type": "code",
   "execution_count": 2,
   "metadata": {
    "collapsed": true
   },
   "outputs": [],
   "source": [
    "import BeautifulSoup\n",
    "import re"
   ]
  },
  {
   "cell_type": "code",
   "execution_count": 3,
   "metadata": {
    "collapsed": true
   },
   "outputs": [],
   "source": [
    "import pandas as pd"
   ]
  },
  {
   "cell_type": "code",
   "execution_count": 4,
   "metadata": {
    "collapsed": false
   },
   "outputs": [],
   "source": [
    "from StringIO import StringIO\n",
    "from urllib import urlencode"
   ]
  },
  {
   "cell_type": "code",
   "execution_count": 5,
   "metadata": {
    "collapsed": true
   },
   "outputs": [],
   "source": [
    "from collections import defaultdict"
   ]
  },
  {
   "cell_type": "code",
   "execution_count": 6,
   "metadata": {
    "collapsed": false
   },
   "outputs": [],
   "source": [
    "from collections import Counter"
   ]
  },
  {
   "cell_type": "code",
   "execution_count": 7,
   "metadata": {
    "collapsed": true
   },
   "outputs": [],
   "source": [
    "def myCurl(url):\n",
    "    c = pycurl.Curl()\n",
    "    c.setopt(c.URL, url)\n",
    "    buff = StringIO()\n",
    "\n",
    "    c.setopt(c.WRITEFUNCTION, buff.write)\n",
    "    c.setopt(c.FOLLOWLOCATION, True)\n",
    "    c.perform()\n",
    "    c.close()\n",
    "    body = buff.getvalue()\n",
    "    response = json.loads(body)\n",
    "    return response\n"
   ]
  },
  {
   "cell_type": "raw",
   "metadata": {
    "collapsed": true
   },
   "source": [
    "def getVariants(oclcnum):\n",
    "    print 'CallGetVariants - expensive! - ' + oclcnum\n",
    "    url = 'http://xisbn.worldcat.org/webservices/xid/oclcnum/#OCLC#?method=getVariants&format=json'\n",
    "    url = url.replace('#OCLC#', oclcnum)\n",
    "    response = myCurl(url)\n",
    "    if response['stat']=='ok':\n",
    "        oclcnums = []\n",
    "        for item in response['list']:\n",
    "            if item['scheme']=='plain':\n",
    "                oclcnums.extend(item['oclcnum'])\n",
    "        return oclcnums\n",
    "    else:\n",
    "        print 'Warning: stat not ok for (variants) oclcnum: ' + oclcnum\n",
    "        return []"
   ]
  },
  {
   "cell_type": "raw",
   "metadata": {
    "collapsed": true
   },
   "source": [
    "def getEditions(oclcnum):\n",
    "    print 'CallGetEditions - expensive! - ' + oclcnum\n",
    "    url = 'http://xisbn.worldcat.org/webservices/xid/oclcnum/#OCLC#?method=getEditions&format=json&fl=oclcnum,isbn'\n",
    "    url = url.replace('#OCLC#', oclcnum)\n",
    "    response = myCurl(url)\n",
    "    if response['stat']=='ok':\n",
    "        oclcnums = []\n",
    "        isbns = []\n",
    "        for item in response['list']:\n",
    "            oclcnums.extend(item['oclcnum'])\n",
    "            if 'isbn' in item:\n",
    "                isbns.extend(item['isbn'])\n",
    "        return oclcnums, isbns\n",
    "    else:\n",
    "        print 'Warning: stat not ok for (editions) oclcnum: ' + oclcnum\n",
    "        return [], []"
   ]
  },
  {
   "cell_type": "code",
   "execution_count": 8,
   "metadata": {
    "collapsed": true
   },
   "outputs": [],
   "source": [
    "def getEditionsISBN(isbn):\n",
    "    print 'CallgetEditionsISBN - expensive! - ' + isbn\n",
    "    url = 'http://xisbn.worldcat.org/webservices/xid/isbn/#ISBN#?method=getEditions&format=json&fl=lang,isbn,oclcnum'\n",
    "    url = url.replace('#ISBN#', isbn)\n",
    "    response = myCurl(url)\n",
    "    if response['stat']=='ok':\n",
    "        isbns = []\n",
    "        langs = []\n",
    "        oclcs = []\n",
    "        for item in response['list']:\n",
    "            if 'isbn' in item and 'lang' in item and 'oclcnum' in item :\n",
    "                isbns.extend(item['isbn'])\n",
    "                langs.append(item['lang'])\n",
    "                oclcs.extend(item['oclcnum'])\n",
    "        return isbns, langs, oclcs\n",
    "    else:\n",
    "        print 'Warning: stat not ok for (editions) ISBN: ' + isbn\n",
    "        return [], [], []"
   ]
  },
  {
   "cell_type": "code",
   "execution_count": 9,
   "metadata": {
    "collapsed": false
   },
   "outputs": [],
   "source": [
    "class OverLimitException(Exception):\n",
    "    pass\n",
    "\n",
    "def getLangsISBN(isbn, useISSN=False):\n",
    "#    print 'CallgetLangsISBN - expensive! - ' + isbn\n",
    "    url = 'http://xisbn.worldcat.org/webservices/xid/isbn/#ISBN#?method=getEditions&format=json&fl=lang,isbn'\n",
    "    if useISSN:\n",
    "        url = url.replace('xisbn.worldcat.org', 'xissn.worldcat.org')\n",
    "    url = url.replace('#ISBN#', isbn)\n",
    "    response = myCurl(url)\n",
    "    if response['stat']=='ok':\n",
    "        isbns = []\n",
    "        langs = []\n",
    "        for item in response['list']:\n",
    "            if 'isbn' in item and 'lang' in item:\n",
    "                isbns.extend(item['isbn'])\n",
    "                langs.append(item['lang'])\n",
    "        return isbns, langs\n",
    "    elif response['stat']=='overlimit':\n",
    "        raise OverLimitException('Over limit for isbn: ' + isbn)\n",
    "    else:\n",
    "        print 'Warning: stat not ok for (editions) ISBN: ' + isbn\n",
    "        print response\n",
    "        return [], []"
   ]
  },
  {
   "cell_type": "raw",
   "metadata": {
    "collapsed": false
   },
   "source": [
    "def getEditionsOWI(owinum):\n",
    "    print 'CallgetEditionsOWI - expensive! - ' + isbn\n",
    "    url = 'http://xisbn.worldcat.org/webservices/xid/owi/#OWI#?method=getEditions&format=json&fl=owi,oclcnum,isbn'\n",
    "    url = url.replace('#OWI#', owinum)\n",
    "    response = myCurl(url)\n",
    "    if response['stat']=='ok':\n",
    "        isbns = []\n",
    "        oclcs = []\n",
    "        owis = []\n",
    "        for item in response['list']:\n",
    "            if 'isbn' in item:\n",
    "                isbns.extend(item['isbn'])\n",
    "            owis.extend(item['owi'])\n",
    "            oclcs.extend(item['oclcnum'])\n",
    "        return set(isbns), set(owis), set(oclcs)\n",
    "    else:\n",
    "        print 'Warning: stat not ok for (editions) OWI: ' + isbn\n",
    "        return [], [], []"
   ]
  },
  {
   "cell_type": "raw",
   "metadata": {
    "collapsed": false
   },
   "source": [
    "# We have an ISBN\n",
    "isbnSeed = '9789023408017'   # nl - De aanslag\n",
    "\n",
    "isbnQueue = set()\n",
    "isbnQueue.add(isbnSeed)\n",
    "seenIsbns = []\n",
    "allLangs = []\n",
    "seenOclcs = []\n",
    "\n",
    "while(len(isbnQueue)>0):\n",
    "    isbn = isbnQueue.pop()\n",
    "    isbns,langs,oclcs = getEditionsISBN(isbn)\n",
    "    seenIsbns.append(isbn)\n",
    "\n",
    "    for newIsbn in isbns:\n",
    "        allLangs.extend(langs)\n",
    "\n",
    "        if newIsbn not in seenIsbns:\n",
    "            isbnQueue.add(newIsbn)\n",
    "\n",
    "    oclcList = [ oclc for oclc in oclcs ]\n",
    "    while len(oclcList)>0:\n",
    "        oclc = oclcList.pop()\n",
    "\n",
    "        if oclc not in seenOclcs:\n",
    "            oclc_lst = getVariants(oclc)\n",
    "            seenOclcs.append(oclc)\n",
    "\n",
    "            oclcList.extend(oclc_lst)\n",
    "\n",
    "            oclc_lst, isbn_lst = getEditions(oclc)\n",
    "            oclcList.extend(oclc_lst)\n",
    "            \n",
    "            for newIsbn in isbn_lst:\n",
    "                if newIsbn not in seenIsbns:\n",
    "                    isbnQueue.add(newIsbn)\n"
   ]
  },
  {
   "cell_type": "code",
   "execution_count": null,
   "metadata": {
    "collapsed": true
   },
   "outputs": [],
   "source": []
  },
  {
   "cell_type": "code",
   "execution_count": 10,
   "metadata": {
    "collapsed": false
   },
   "outputs": [],
   "source": [
    "def thingISBN(isbn):\n",
    "    searchURL = 'http://www.librarything.com/api/thingISBN/#ISBN#'\n",
    "    searchURL = searchURL.replace('#ISBN#', isbn)\n",
    "    page = myWget(searchURL)\n",
    "    \n",
    "    pageSoup = BeautifulSoup.BeautifulSoup(page)\n",
    "    isbns = []\n",
    "    for item in pageSoup.findAll('isbn'):\n",
    "        isbns.append(item.getText())\n",
    "    if isbn not in isbns:\n",
    "        isbns.append(isbn)\n",
    "    return isbns"
   ]
  },
  {
   "cell_type": "code",
   "execution_count": 11,
   "metadata": {
    "collapsed": false
   },
   "outputs": [],
   "source": [
    "import time "
   ]
  },
  {
   "cell_type": "code",
   "execution_count": null,
   "metadata": {
    "collapsed": true
   },
   "outputs": [],
   "source": []
  },
  {
   "cell_type": "code",
   "execution_count": null,
   "metadata": {
    "collapsed": true
   },
   "outputs": [],
   "source": []
  },
  {
   "cell_type": "code",
   "execution_count": 12,
   "metadata": {
    "collapsed": false
   },
   "outputs": [],
   "source": [
    "def getLangsLTWC(seedISBN, useISSN=False, verbose=False, doDelay=False):\n",
    "    # Get languages associated with ISBN using LibraryThing (LT) plus\n",
    "    # WorldCat (WC) combo\n",
    "    isbns = thingISBN(seedISBN)\n",
    "    visitedISBNs = []\n",
    "    allLangs = []\n",
    "    \n",
    "    if verbose:\n",
    "        print 'LibraryThing returned %d isbns'%(len(isbns))\n",
    "\n",
    "    for isbn in isbns:\n",
    "        if isbn not in visitedISBNs:\n",
    "            if doDelay:\n",
    "                time.sleep(5)\n",
    "            if verbose:\n",
    "                print 'Calling for isbn:',isbn\n",
    "            newIsbns, newLangs = getLangsISBN(isbn, useISSN)\n",
    "            visitedISBNs.extend(newIsbns)\n",
    "            allLangs.extend(newLangs)\n",
    "            if verbose:\n",
    "                print 'Extended by %d for isbn %s'%(len(newLangs), isbn)\n",
    "        else:\n",
    "            if verbose:\n",
    "                print 'Skipped ISBN:',isbn\n",
    "    return Counter(allLangs)"
   ]
  },
  {
   "cell_type": "code",
   "execution_count": 13,
   "metadata": {
    "collapsed": true
   },
   "outputs": [],
   "source": [
    "def myWget(url):\n",
    "    c = pycurl.Curl()\n",
    "    c.setopt(c.URL, url)\n",
    "    buff = StringIO()\n",
    "\n",
    "    c.setopt(c.WRITEFUNCTION, buff.write)\n",
    "    c.setopt(c.FOLLOWLOCATION, True)\n",
    "    c.perform()\n",
    "    c.close()\n",
    "    body = buff.getvalue()\n",
    "    return body"
   ]
  },
  {
   "cell_type": "markdown",
   "metadata": {},
   "source": [
    "http://www.worldcat.org/search?qt=worldcat_org_bks&q=#ISBN#&fq=dt%3Abks\n",
    "\n",
    "Click on \" View all formats and languages » \"\n",
    "http://www.worldcat.org/title/menuet/oclc/50698918/editions?editionsView=true&referer=br\n",
    "\n",
    "DO:\n",
    "Find DIV <div id=\"LanguageRefinement\">\n",
    "  if contains <a rel=\"nofollow\" href=\"LINK\"><strong>Show more ...</strong></a>\n",
    "    follow link\n",
    "    goto DO\n",
    "  else\n",
    "    scrape:\n",
    "    foreach <li><a rel=\"nofollow\" title=\"LANG\" href=\"LINK\">LANG</a> (NUM)</li>\n",
    "      dict[LANG] = NUM"
   ]
  },
  {
   "cell_type": "code",
   "execution_count": null,
   "metadata": {
    "collapsed": true
   },
   "outputs": [],
   "source": [
    "def worldCatSearch(isbn):\n",
    "    baseURL = 'http://www.worldcat.org/'\n",
    "    searchURL = baseURL + 'search?qt=worldcat_org_bks&q=#ISBN#&fq=dt%3Abks'\n",
    "    searchURL = searchURL.replace('#ISBN#', isbn)\n",
    "    page = myWget(searchURL)\n",
    "    \n",
    "    pageSoup = BeautifulSoup.BeautifulSoup(page)\n",
    "\n",
    "    if pageSoup.find('div', {'id': 'div-results-none'}):\n",
    "        print 'ISBN not found: ' + isbn\n",
    "        return {}\n",
    "\n",
    "    doLoop = True\n",
    "    while(doLoop):\n",
    "        doLoop = False\n",
    "        aLangs = pageSoup.find('a', {'title': 'View all held editions and formats for this item'})\n",
    "        langDiv = pageSoup.find('div', {'id': 'LanguageRefinement'})\n",
    "        itemLangs = pageSoup.findAll('span', { 'class': 'itemLanguage' })\n",
    "        \n",
    "        # If has View all held editions or \n",
    "        if aLangs:\n",
    "            # Follow loop again\n",
    "            langsURL = baseURL + aLangs.get('href')\n",
    "            page = myWget(langsURL)\n",
    "            pageSoup = BeautifulSoup.BeautifulSoup(page)\n",
    "            doLoop = True\n",
    "        elif langDiv: # if has div LanguageRefinements\n",
    "            items = langDiv.findAll('li')\n",
    "            # If has show more\n",
    "            if 'Show more ...' in [strong.text for strong in langDiv.findAll('strong')]:\n",
    "                # Follow and loop again\n",
    "                for item in items:\n",
    "                    if 'Show more ...' == item.getText():\n",
    "                        moreLink = item.find('a')\n",
    "                        redirectURL = baseURL + moreLink.get('href')\n",
    "                        page = myWget(redirectURL)\n",
    "                        pageSoup = BeautifulSoup.BeautifulSoup(page)\n",
    "                        doLoop = True\n",
    "            else:\n",
    "                counts = {}\n",
    "                # Parse and return\n",
    "                for item in items:\n",
    "                    # Split \"lang(num)\" into lang,num\n",
    "                    splits = re.split('\\(|\\)', item.getText())\n",
    "                    # if item.getText() is \"lang\" (i.e. no num), default num to 1\n",
    "                    lang,num = splits[0],(splits[1] if len(splits)>1 else 1)\n",
    "                    counts[lang] = num\n",
    "                return counts\n",
    "        elif itemLangs:\n",
    "            counts = defaultdict(int)\n",
    "            for item in pageSoup.findAll('span', { 'class': 'itemLanguage' }):\n",
    "                counts[item.getText()] += 1\n",
    "            return dict(counts)\n",
    "        # else fail\n",
    "    print 'Could not find data for: ' + isbn\n",
    "    return {}"
   ]
  },
  {
   "cell_type": "code",
   "execution_count": 14,
   "metadata": {
    "collapsed": false
   },
   "outputs": [],
   "source": [
    "cKarina = pd.read_excel('../data/Book_selection.xlsx', 'CorpusOverview-Karina.csv')\n",
    "cSanders = pd.read_excel('../data/Book_selection.xlsx', 'Corpus-Sanders')\n",
    "transData = pd.concat([ cKarina, cSanders ])"
   ]
  },
  {
   "cell_type": "code",
   "execution_count": 15,
   "metadata": {
    "collapsed": true
   },
   "outputs": [],
   "source": [
    "translations = {}\n",
    "isbnErr = []\n",
    "translations['unknown'] = {}    # Ignore ISBN='unknown'\n",
    "useISSN = False"
   ]
  },
  {
   "cell_type": "code",
   "execution_count": 24,
   "metadata": {
    "collapsed": false
   },
   "outputs": [
    {
     "name": "stdout",
     "output_type": "stream",
     "text": [
      "Warning: stat not ok for (editions) ISBN: 8205340471\n",
      "{u'stat': u'unknownId'}\n",
      "Warning: stat not ok for (editions) ISBN: 887168561X\n",
      "{u'stat': u'unknownId'}\n",
      "Warning: stat not ok for (editions) ISBN: 0785912290\n",
      "{u'stat': u'unknownId'}\n",
      "Warning: stat not ok for (editions) ISBN: 0785931945\n",
      "{u'stat': u'unknownId'}\n",
      "Warning: stat not ok for (editions) ISBN: 8205091005\n",
      "{u'stat': u'unknownId'}\n",
      "Warning: stat not ok for (editions) ISBN: 0686556925\n",
      "{u'stat': u'unknownId'}\n",
      "Warning: stat not ok for (editions) ISBN: 9991356533\n",
      "{u'stat': u'unknownId'}\n",
      "Warning: stat not ok for (editions) ISBN: 9728351240\n",
      "{u'stat': u'unknownId'}\n",
      "Warning: stat not ok for (editions) ISBN: 9639172251\n",
      "{u'stat': u'unknownId'}\n",
      "Warning: stat not ok for (editions) ISBN: 9637587187\n",
      "{u'stat': u'unknownId'}\n",
      "Warning: stat not ok for (editions) ISBN: 9630714132\n",
      "{u'stat': u'unknownId'}\n",
      "Warning: stat not ok for (editions) ISBN: 963872935X\n",
      "{u'stat': u'unknownId'}\n",
      "Warning: stat not ok for (editions) ISBN: 9727086446\n",
      "{u'stat': u'unknownId'}\n",
      "Warning: stat not ok for (editions) ISBN: 9632661893\n",
      "{u'stat': u'unknownId'}\n",
      "Warning: stat not ok for (editions) ISBN: 9113055305\n",
      "{u'stat': u'unknownId'}\n",
      "Warning: stat not ok for (editions) ISBN: 8097043912\n",
      "{u'stat': u'unknownId'}\n",
      "Warning: stat not ok for (editions) ISBN: 9985304365\n",
      "{u'stat': u'unknownId'}\n",
      "Warning: stat not ok for (editions) ISBN: 5300018279\n",
      "{u'stat': u'unknownId'}\n",
      "Warning: stat not ok for (editions) ISBN: 9630712199\n",
      "{u'stat': u'unknownId'}\n",
      "Warning: stat not ok for (editions) ISBN: 0853910618\n",
      "{u'stat': u'unknownId'}\n",
      "Warning: stat not ok for (editions) ISBN: 5352013995\n",
      "{u'stat': u'unknownId'}\n",
      "Warning: stat not ok for (editions) ISBN: 2267018454\n",
      "{u'stat': u'unknownId'}\n",
      "Warning: stat not ok for (editions) ISBN: 089255407X\n",
      "{u'stat': u'unknownId'}\n",
      "Warning: stat not ok for (editions) ISBN: 9023451244\n",
      "{u'stat': u'unknownId'}\n",
      "Warning: stat not ok for (editions) ISBN: 1743344120\n",
      "{u'stat': u'unknownId'}\n",
      "Warning: stat not ok for (editions) ISBN: 1847243320\n",
      "{u'stat': u'unknownId'}\n",
      "Warning: stat not ok for (editions) ISBN: 9639725064\n",
      "{u'stat': u'unknownId'}\n",
      "Warning: stat not ok for (editions) ISBN: 904642314X\n",
      "{u'stat': u'unknownId'}\n",
      "Warning: stat not ok for (editions) ISBN: 902542810X\n",
      "{u'stat': u'unknownId'}\n",
      "Warning: stat not ok for (editions) ISBN: 9025405460\n",
      "{u'stat': u'unknownId'}\n",
      "Warning: stat not ok for (editions) ISBN: 902542810x\n",
      "{u'stat': u'unknownId'}\n",
      "Warning: stat not ok for (editions) ISBN: 8807810964\n",
      "{u'stat': u'unknownId'}\n",
      "Warning: stat not ok for (editions) ISBN: 9023443780\n",
      "{u'stat': u'unknownId'}\n",
      "Warning: stat not ok for (editions) ISBN: 9021339269\n",
      "{u'stat': u'unknownId'}\n",
      "Warning: stat not ok for (editions) ISBN: 9021439263\n",
      "{u'stat': u'unknownId'}\n",
      "Warning: stat not ok for (editions) ISBN: 963676428X\n",
      "{u'stat': u'unknownId'}\n",
      "Warning: stat not ok for (editions) ISBN: 904614125X\n",
      "{u'stat': u'unknownId'}\n",
      "Warning: stat not ok for (editions) ISBN: 9051081103\n",
      "{u'stat': u'unknownId'}\n",
      "Warning: stat not ok for (editions) ISBN: 9029515805\n",
      "{u'stat': u'unknownId'}\n",
      "Warning: stat not ok for (editions) ISBN: 906019313X\n",
      "{u'stat': u'unknownId'}\n",
      "Warning: stat not ok for (editions) ISBN: 906019313x\n",
      "{u'stat': u'unknownId'}\n",
      "Warning: stat not ok for (editions) ISBN: 9021451883\n",
      "{u'stat': u'unknownId'}\n",
      "Warning: stat not ok for (editions) ISBN: 9024292646\n",
      "{u'stat': u'unknownId'}\n",
      "Warning: stat not ok for (editions) ISBN: 9022318079\n",
      "{u'stat': u'unknownId'}\n",
      "Warning: stat not ok for (editions) ISBN: 1561310255\n",
      "{u'stat': u'unknownId'}\n",
      "Warning: stat not ok for (editions) ISBN: 9089690247\n",
      "{u'stat': u'unknownId'}\n",
      "Warning: stat not ok for (editions) ISBN: 9051086865\n",
      "{u'stat': u'unknownId'}\n",
      "Warning: stat not ok for (editions) ISBN: 9034506088\n",
      "{u'stat': u'unknownId'}\n",
      "Warning: stat not ok for (editions) ISBN: 9029567821\n",
      "{u'stat': u'unknownId'}\n",
      "Warning: stat not ok for (editions) ISBN: 9074336191\n",
      "{u'stat': u'unknownId'}\n",
      "Warning: stat not ok for (editions) ISBN: 9958633175\n",
      "{u'stat': u'unknownId'}\n",
      "Warning: stat not ok for (editions) ISBN: 8871685113\n",
      "{u'stat': u'unknownId'}\n",
      "Warning: stat not ok for (editions) ISBN: 9029503084\n",
      "{u'stat': u'unknownId'}\n",
      "Warning: stat not ok for (editions) ISBN: 902950319X\n",
      "{u'stat': u'unknownId'}\n",
      "Warning: stat not ok for (editions) ISBN: 9090179860\n",
      "{u'stat': u'unknownId'}\n",
      "Warning: stat not ok for (editions) ISBN: 9029504579\n",
      "{u'stat': u'unknownId'}\n",
      "Warning: stat not ok for (editions) ISBN: 9059652614\n",
      "{u'stat': u'unknownId'}\n",
      "Warning: stat not ok for (editions) ISBN: 9059652606\n",
      "{u'stat': u'unknownId'}\n",
      "Warning: stat not ok for (editions) ISBN: 9059652622\n",
      "{u'stat': u'unknownId'}\n",
      "Warning: stat not ok for (editions) ISBN: 9059652630\n",
      "{u'stat': u'unknownId'}\n",
      "Warning: stat not ok for (editions) ISBN: 9029566892\n",
      "{u'stat': u'unknownId'}\n",
      "Warning: stat not ok for (editions) ISBN: 0060927399\n",
      "{u'stat': u'unknownId'}\n",
      "Warning: stat not ok for (editions) ISBN: 9029502436\n",
      "{u'stat': u'unknownId'}\n",
      "Warning: stat not ok for (editions) ISBN: 902950241X\n",
      "{u'stat': u'unknownId'}\n",
      "Warning: stat not ok for (editions) ISBN: 9021492997\n",
      "{u'stat': u'unknownId'}\n",
      "Warning: stat not ok for (editions) ISBN: 9044614673\n",
      "{u'stat': u'unknownId'}\n",
      "Warning: stat not ok for (editions) ISBN: 9023461827\n",
      "{u'stat': u'unknownId'}\n",
      "Warning: stat not ok for (editions) ISBN: 8205176035\n",
      "{u'stat': u'unknownId'}\n",
      "Warning: stat not ok for (editions) ISBN: 9051080654\n",
      "{u'stat': u'unknownId'}\n",
      "Warning: stat not ok for (editions) ISBN: 9510372137\n",
      "{u'stat': u'unknownId'}\n",
      "Warning: stat not ok for (editions) ISBN: 9510379158\n",
      "{u'stat': u'unknownId'}\n",
      "Switch to use ISSN!\n",
      "Warning: stat not ok for (editions) ISBN: 9722341634\n",
      "{u'stat': u'unknownId'}\n",
      "Warning: stat not ok for (editions) ISBN: 9041425748\n",
      "{u'stat': u'unknownId'}\n",
      "Warning: stat not ok for (editions) ISBN: 8280872264\n",
      "{u'stat': u'unknownId'}\n",
      "Warning: stat not ok for (editions) ISBN: 9170281866\n",
      "{u'stat': u'unknownId'}\n",
      "Warning: stat not ok for (editions) ISBN: 9029565500\n",
      "{u'stat': u'unknownId'}\n",
      "Warning: stat not ok for (editions) ISBN: 174201321X\n",
      "{u'stat': u'unknownId'}\n",
      "Warning: stat not ok for (editions) ISBN: 8291614822\n",
      "{u'stat': u'unknownId'}\n",
      "Warning: stat not ok for (editions) ISBN: 3716501239\n",
      "{u'stat': u'unknownId'}\n",
      "Warning: stat not ok for (editions) ISBN: 9021033259\n",
      "{u'stat': u'unknownId'}\n"
     ]
    }
   ],
   "source": [
    "isbnList = transData['isbn'].tolist()\n",
    "i = 0\n",
    "\n",
    "while i<len(isbnList):\n",
    "    isbn = str(isbnList[i])\n",
    "    try:\n",
    "        if isbn not in translations:\n",
    "            langs = getLangsLTWC(isbn, useISSN, False, True)\n",
    "            translations[isbn] = langs\n",
    "        i += 1\n",
    "    except OverLimitException:\n",
    "        if not useISSN:\n",
    "            useISSN = True\n",
    "            print 'Switch to use ISSN!'\n",
    "            # Try again\n",
    "        else:\n",
    "            print 'Request limit reached!!! Breaking -- start again tomorrow...'\n",
    "            break\n",
    "    except Exception as e:\n",
    "        print 'Problem with: ', isbn\n",
    "        print '  > ',e\n",
    "        isbnErr.append(isbn)\n",
    "        i = len(isbnList)"
   ]
  },
  {
   "cell_type": "code",
   "execution_count": 39,
   "metadata": {
    "collapsed": false
   },
   "outputs": [],
   "source": [
    "def getCounts(isbn):\n",
    "    ''' Languages and counts '''\n",
    "    return translations[str(isbn)]\n",
    "\n",
    "def getNumLangs(counts):\n",
    "    ''' Number of languages '''\n",
    "    return len(counts)\n",
    "\n",
    "def getNameLangs(counts):\n",
    "    ''' Name of languages '''\n",
    "    return counts.keys()\n",
    "\n",
    "def getTotalTrans(counts):\n",
    "    ''' Total translations '''\n",
    "    return sum( int(v) for v in counts.values() )\n",
    "\n",
    "transData['lang counts'] = transData['isbn'].apply(lambda x: getCounts(x))\n",
    "transData['num_languages2'] = transData['isbn'].apply(lambda x: getNumLangs(getCounts(x)))\n",
    "transData['langs'] = transData['isbn'].apply(lambda x: getNameLangs(getCounts(x)))\n",
    "transData['Total translations'] = transData['isbn'].apply(lambda x: getTotalTrans(getCounts(x)))"
   ]
  },
  {
   "cell_type": "raw",
   "metadata": {
    "collapsed": false
   },
   "source": [
    "def hasEnglish(langs):\n",
    "    return 'English' in langs\n",
    "\n",
    "def getNumLangsExcEng(langs):\n",
    "    return len(langs) - (1 if hasEnglish(langs) else 0)\n",
    "\n",
    "def getLangList(langs):\n",
    "    return ','.join(langs)\n",
    "\n",
    "transData['langs list'] = transData['langs'].apply(getLangList)\n",
    "transData['trans_to_english2'] = transData['langs'].apply(hasEnglish)\n",
    "transData['num_languages (excluding Eng)2'] = transData['langs'].apply(getNumLangsExcEng)\n"
   ]
  },
  {
   "cell_type": "code",
   "execution_count": 40,
   "metadata": {
    "collapsed": true
   },
   "outputs": [],
   "source": [
    "def getCountsList(counts):\n",
    "    return '\\n'.join([ '%s(%s)'%(lang,counts[lang]) for lang in counts ])\n",
    "\n",
    "\n",
    "transData['lang counts list'] = transData['lang counts'].apply(getCountsList)"
   ]
  },
  {
   "cell_type": "raw",
   "metadata": {
    "collapsed": false
   },
   "source": [
    "writer = pd.ExcelWriter('../data/Translations.xlsx')\n",
    "transData.to_excel(excel_writer=writer, sheet_name='Translations', \n",
    "        columns=[ 'bookid', 'isbn', 'auteur', 'titel', 'jaar', 'genre', 'num_languages2', \n",
    "                 'num_languages (excluding Eng)2', 'trans_to_english2', 'lang counts list',\n",
    "                 'Total translations'])\n",
    "writer.save()"
   ]
  },
  {
   "cell_type": "code",
   "execution_count": 41,
   "metadata": {
    "collapsed": false
   },
   "outputs": [],
   "source": [
    "allLangs = set()\n",
    "for langs in transData['langs']:\n",
    "    allLangs = allLangs.union(set(langs))"
   ]
  },
  {
   "cell_type": "code",
   "execution_count": 42,
   "metadata": {
    "collapsed": false
   },
   "outputs": [],
   "source": [
    "def getLangCount(langs, lang):\n",
    "    return langs[lang] if lang in langs else 0\n",
    "\n",
    "for lang in allLangs:\n",
    "    transData[lang] = transData['lang counts'].apply(lambda x:getLangCount(x, lang))"
   ]
  },
  {
   "cell_type": "code",
   "execution_count": 43,
   "metadata": {
    "collapsed": false
   },
   "outputs": [],
   "source": [
    "columns=[ 'bookid', 'isbn', 'auteur', 'titel', 'jaar', 'genre', 'num_languages2', \n",
    "        'lang counts list', 'Total translations']\n",
    "\n",
    "for lang in allLangs:\n",
    "    columns.append(lang)\n",
    "\n",
    "writer = pd.ExcelWriter('../data/TranslationsV2.xlsx')\n",
    "transData.to_excel(excel_writer=writer, sheet_name='Translations', columns=columns)\n",
    "writer.save()"
   ]
  },
  {
   "cell_type": "code",
   "execution_count": 47,
   "metadata": {
    "collapsed": false
   },
   "outputs": [],
   "source": [
    "import pickle\n",
    "pickle.dump(transData, open('../data/TranslationsV2.pkl', 'w'))"
   ]
  }
 ],
 "metadata": {
  "kernelspec": {
   "display_name": "IPython (Python 2)",
   "name": "python2"
  },
  "language_info": {
   "codemirror_mode": {
    "name": "ipython",
    "version": 2
   },
   "file_extension": ".py",
   "mimetype": "text/x-python",
   "name": "python",
   "nbconvert_exporter": "python",
   "pygments_lexer": "ipython2",
   "version": "2.7.5"
  },
  "signature": "sha256:9bad584e7c1a3dcd6c9a1ec3a1f82551554e368734af6e77ac7b0ebe31bc5bbe"
 },
 "nbformat": 4,
 "nbformat_minor": 0
}