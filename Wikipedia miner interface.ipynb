{
 "metadata": {
  "kernelspec": {
   "codemirror_mode": {
    "name": "ipython",
    "version": 2
   },
   "display_name": "IPython (Python 2)",
   "language": "python",
   "name": "python2"
  },
  "name": "",
  "signature": "sha256:955c168f419f686e75ab5e7bc8f41cdc1624c31fe5f4444d310bc672d695e289"
 },
 "nbformat": 3,
 "nbformat_minor": 0,
 "worksheets": [
  {
   "cells": [
    {
     "cell_type": "raw",
     "metadata": {},
     "source": [
      "curl http://wikipedia-miner.cms.waikato.ac.nz/services/wikify -d \"responseFormat=xml&source=We want to test our team play before going up against the boys of Keyport High, that's a fact; and Scranton can put up a hard fighting bunch of irregulars.  There are some mighty clever hockey players in and out of the high school, who are not on our Seven.  I guess there ought to be a pretty lively game on Saturday; and there will be if several fellows I could mention line up against us.\""
     ]
    },
    {
     "cell_type": "code",
     "collapsed": false,
     "input": [
      "import pycurl\n",
      "import json\n",
      "from StringIO import StringIO\n",
      "from urllib import urlencode"
     ],
     "language": "python",
     "metadata": {},
     "outputs": [],
     "prompt_number": 1
    },
    {
     "cell_type": "code",
     "collapsed": false,
     "input": [
      "chunk = \"We want to test our team play before going up against the boys of \" + \\\n",
      "        \"Keyport High, that's a fact; and Scranton can put up a hard fighting \" + \\\n",
      "        \"bunch of irregulars.  There are some mighty clever hockey players \" + \\\n",
      "        \"in and out of the high school, who are not on our Seven.  I guess \" + \\\n",
      "        \"there ought to be a pretty lively game on Saturday; and there will \" + \\\n",
      "        \"be if several fellows I could mention line up against us.\""
     ],
     "language": "python",
     "metadata": {},
     "outputs": [],
     "prompt_number": 2
    },
    {
     "cell_type": "code",
     "collapsed": false,
     "input": [
      "wikifyURL = 'http://wikipedia-miner.cms.waikato.ac.nz/services/wikify'\n",
      "\n",
      "c = pycurl.Curl()\n",
      "c.setopt(c.URL, wikifyURL)\n",
      "buffer = StringIO()\n",
      "\n",
      "post_data = {'responseFormat': 'json',\n",
      "             'source': chunk}\n",
      "\n",
      "# Form data must be provided already urlencoded.\n",
      "postfields = urlencode(post_data)\n",
      "# Sets request method to POST,\n",
      "# Content-Type header to application/x-www-form-urlencoded\n",
      "# and data to send in request body.\n",
      "c.setopt(c.POSTFIELDS, postfields)\n",
      "c.setopt(c.WRITEFUNCTION, buffer.write)\n",
      "c.perform()\n",
      "c.close()\n",
      "\n",
      "body = buffer.getvalue()\n",
      "response = json.loads(body)"
     ],
     "language": "python",
     "metadata": {},
     "outputs": [],
     "prompt_number": 3
    },
    {
     "cell_type": "code",
     "collapsed": false,
     "input": [
      "for topic in response['detectedTopics']:\n",
      "    print topic['title'], '%4.3f '%topic['weight']"
     ],
     "language": "python",
     "metadata": {},
     "outputs": [
      {
       "output_type": "stream",
       "stream": "stdout",
       "text": [
        "Scranton, Pennsylvania 0.764 \n",
        "High school 0.706 \n"
       ]
      }
     ],
     "prompt_number": 4
    },
    {
     "cell_type": "code",
     "collapsed": false,
     "input": [
      "def wikify(chunk, prob=0.5):\n",
      "    wikifyURL = 'http://wikipedia-miner.cms.waikato.ac.nz/services/wikify'\n",
      "\n",
      "    c = pycurl.Curl()\n",
      "    c.setopt(c.URL, wikifyURL)\n",
      "    buffer = StringIO()\n",
      "\n",
      "    post_data = {'responseFormat': 'json',\n",
      "                 'minProbability': prob,\n",
      "                 'source': chunk}\n",
      "\n",
      "    # Form data must be provided already urlencoded.\n",
      "    postfields = urlencode(post_data)\n",
      "    # Sets request method to POST,\n",
      "    # Content-Type header to application/x-www-form-urlencoded\n",
      "    # and data to send in request body.\n",
      "    c.setopt(c.POSTFIELDS, postfields)\n",
      "    c.setopt(c.WRITEFUNCTION, buffer.write)\n",
      "    c.perform()\n",
      "    c.close()\n",
      "\n",
      "    body = buffer.getvalue()\n",
      "    response = json.loads(body)\n",
      "    return response"
     ],
     "language": "python",
     "metadata": {},
     "outputs": [],
     "prompt_number": 5
    },
    {
     "cell_type": "code",
     "collapsed": false,
     "input": [
      "chunk = '\"Well,\" commented Thad, \"we all know that Nick is a boss skater, even ' + \\\n",
      "    'on the old runners he sports, and which mebbe his dad used before ' + \\\n",
      "    \"him, they're that ancient.  He can hold his own with the next one \" + \\\n",
      "    \"whenever there's any ice worth using.  And as to hockey, why, if Nick \" + \\\n",
      "    'would only play fair, which he never will, it seems because his ' + \\\n",
      "    'nature must be warped and crooked, he could have a leading place on ' + \\\n",
      "    'our Seven.  As it is, the boys refused to stand for him in any game, ' + \\\n",
      "    'and so he had to herd with the scratch players.  Even then Mr. ' + \\\n",
      "    'Leonard, our efficient coach and trainer, has to call him down good ' + \\\n",
      "    \"and hard for cheating, or playing off-side purposely.  It's anything \" + \\\n",
      "    'to win, with Nick.\"'\n",
      "\n",
      "response = wikify(chunk, 0.01)\n",
      "\n",
      "for topic in response['detectedTopics']:\n",
      "    print topic['title'], '%4.3f '%topic['weight']"
     ],
     "language": "python",
     "metadata": {},
     "outputs": [
      {
       "output_type": "stream",
       "stream": "stdout",
       "text": [
        "Coach (sport) 0.444 \n",
        "Herd 0.340 \n",
        "Sport 0.332 \n",
        "Horse trainer 0.274 \n",
        "Ice 0.260 \n",
        "Fair 0.223 \n",
        "Hockey 0.182 \n",
        "Offside (association football) 0.170 \n",
        "Boss (video gaming) 0.131 \n",
        "Cheating 0.093 \n",
        "Shilling 0.048 \n"
       ]
      }
     ],
     "prompt_number": 6
    },
    {
     "cell_type": "code",
     "collapsed": false,
     "input": [
      "chapter = '../wikipedia-miner-1.2.0/data/books/pg13250_ch1.txt'"
     ],
     "language": "python",
     "metadata": {},
     "outputs": [],
     "prompt_number": 68
    },
    {
     "cell_type": "code",
     "collapsed": false,
     "input": [
      "def processChunk(chunk, words):\n",
      "    try:\n",
      "        response = wikify(chunk, 0.005)\n",
      "        for topic in response['detectedTopics']:\n",
      "            words.append((topic['title'], topic['weight']))\n",
      "    except Exception as e:\n",
      "        print 'Cannot wikify! Problematic chunk: ',chunk\n",
      "    return words"
     ],
     "language": "python",
     "metadata": {},
     "outputs": [],
     "prompt_number": 3
    },
    {
     "cell_type": "code",
     "collapsed": false,
     "input": [
      "def makeParagraphChunks(filename):\n",
      "    with open(filename,'r') as fin:\n",
      "        chunk = ''\n",
      "        for line in fin:\n",
      "            if len(line.strip())==0:\n",
      "                yield chunk\n",
      "                chunk = ''\n",
      "            else:\n",
      "                chunk += ' ' + line.strip()\n",
      "\n",
      "def makeSentenceChunks(filename):\n",
      "    for para in makeParagraphChunks(filename):\n",
      "        para = para.replace('!', '.')\n",
      "        para = para.replace('?', '.')\n",
      "        para = para.replace('\"', '')\n",
      "        sentences = para.split('.')\n",
      "        for s in sentences:\n",
      "            s = s.strip()\n",
      "            if len(s)>0:\n",
      "                yield s\n",
      "\n",
      "def processText(inFile, chunker):\n",
      "    for chunk in chunker(inFile):\n",
      "        for word in processChunk(chunk, []):\n",
      "            yield word\n",
      "\n",
      "def saveWords(filename, words):\n",
      "    with open(filename,'w') as fout:\n",
      "        for word,prob in words:\n",
      "            if ',' in word:\n",
      "                word = '\"' + word + '\"'\n",
      "            fout.write('%s,%.2f%%\\n'%(word,prob*100))"
     ],
     "language": "python",
     "metadata": {},
     "outputs": [],
     "prompt_number": 17
    },
    {
     "cell_type": "code",
     "collapsed": false,
     "input": [
      "wordsPara = []\n",
      "for chunk in makeParagraphChunks(chapter):\n",
      "    wordsPara = processChunk(chunk, wordsPara)"
     ],
     "language": "python",
     "metadata": {},
     "outputs": [],
     "prompt_number": 112
    },
    {
     "cell_type": "code",
     "collapsed": false,
     "input": [
      "len(wordsPara)"
     ],
     "language": "python",
     "metadata": {},
     "outputs": [
      {
       "metadata": {},
       "output_type": "pyout",
       "prompt_number": 113,
       "text": [
        "182"
       ]
      }
     ],
     "prompt_number": 113
    },
    {
     "cell_type": "code",
     "collapsed": false,
     "input": [
      "wordsSent = []\n",
      "for chunk in makeSentenceChunks(chapter):\n",
      "    wordsSent = processChunk(chunk, wordsSent)"
     ],
     "language": "python",
     "metadata": {},
     "outputs": [],
     "prompt_number": 115
    },
    {
     "cell_type": "code",
     "collapsed": false,
     "input": [
      "len(wordsSent)"
     ],
     "language": "python",
     "metadata": {},
     "outputs": [
      {
       "metadata": {},
       "output_type": "pyout",
       "prompt_number": 116,
       "text": [
        "203"
       ]
      }
     ],
     "prompt_number": 116
    },
    {
     "cell_type": "code",
     "collapsed": false,
     "input": [
      "import glob"
     ],
     "language": "python",
     "metadata": {},
     "outputs": [],
     "prompt_number": 5
    },
    {
     "cell_type": "code",
     "collapsed": false,
     "input": [
      "chunkers = {\n",
      "    'paragraph': makeParagraphChunks, \n",
      "    'sentence': makeSentenceChunks\n",
      "}\n",
      "\n",
      "for inFile in glob.glob('../wikipedia-miner-1.2.0/data/books/pg13250_*.txt'):\n",
      "    print 'Processing ' + inFile + '...'\n",
      "    for chunkType in chunkers:\n",
      "        outFile = inFile\n",
      "        outFile = outFile.replace('books/', 'books/pyAnnotations/')\n",
      "        outFile = outFile.replace('.txt', '_' + chunkType + '.txt')\n",
      "        wordGenerator = processText(inFile, chunkers[chunkType])\n",
      "        saveWords(outFile, wordGenerator)\n"
     ],
     "language": "python",
     "metadata": {},
     "outputs": [
      {
       "output_type": "stream",
       "stream": "stdout",
       "text": [
        "Processing ../wikipedia-miner-1.2.0/data/books/pg13250_ch2.txt...\n",
        "Cannot wikify! Problematic chunk:  exclaimed Thad, you're referring to his _Les Miserables_, I guess\n",
        "Processing ../wikipedia-miner-1.2.0/data/books/pg13250_ch5.txt...\n",
        "Processing ../wikipedia-miner-1.2.0/data/books/pg13250_ch3.txt...\n",
        "Cannot wikify! Problematic chunk:  Hugh at first flush felt indignant\n",
        "Processing ../wikipedia-miner-1.2.0/data/books/pg13250_ch7.txt...\n",
        "Cannot wikify! Problematic chunk:   \"Well, the old man went through a bitter experience many years ago,\" Thad went on to say; \"and he learned his lesson for life, he often says.\"\n",
        "Cannot wikify! Problematic chunk:  Well, the old man went through a bitter experience many years ago, Thad went on to say; and he learned his lesson for life, he often says\n",
        "Processing ../wikipedia-miner-1.2.0/data/books/pg13250_ch6.txt...\n",
        "Processing ../wikipedia-miner-1.2.0/data/books/pg13250_ch1.txt...\n",
        "Processing ../wikipedia-miner-1.2.0/data/books/pg13250_ch4.txt...\n"
       ]
      }
     ],
     "prompt_number": 19
    },
    {
     "cell_type": "code",
     "collapsed": false,
     "input": [
      "import pandas as pd\n",
      "import numpy as np"
     ],
     "language": "python",
     "metadata": {},
     "outputs": [],
     "prompt_number": 7
    },
    {
     "cell_type": "code",
     "collapsed": false,
     "input": [
      "# dataFile = '../wikipedia-miner-1.2.0/data/books/pyAnnotations/pg13250_ch1_paragraph.txt'\n",
      "dataFile = 'data/books/pyAnnotations/pg13250_ch1_paragraph.txt'\n",
      "\n",
      "data = pd.read_csv(dataFile,names = ['Word','Probability'], quotechar='\"')\n",
      "data['Probability'] = data['Probability'].apply(lambda x: np.double(x.replace('%', '')))"
     ],
     "language": "python",
     "metadata": {},
     "outputs": [],
     "prompt_number": 9
    },
    {
     "cell_type": "code",
     "collapsed": false,
     "input": [
      "data[:10]"
     ],
     "language": "python",
     "metadata": {},
     "outputs": [
      {
       "html": [
        "<div style=\"max-height:1000px;max-width:1500px;overflow:auto;\">\n",
        "<table border=\"1\" class=\"dataframe\">\n",
        "  <thead>\n",
        "    <tr style=\"text-align: right;\">\n",
        "      <th></th>\n",
        "      <th>Word</th>\n",
        "      <th>Probability</th>\n",
        "    </tr>\n",
        "  </thead>\n",
        "  <tbody>\n",
        "    <tr>\n",
        "      <th>0</th>\n",
        "      <td>      Mercury (element)</td>\n",
        "      <td> 88.04</td>\n",
        "    </tr>\n",
        "    <tr>\n",
        "      <th>1</th>\n",
        "      <td>            Thermometer</td>\n",
        "      <td> 75.48</td>\n",
        "    </tr>\n",
        "    <tr>\n",
        "      <th>2</th>\n",
        "      <td>             Coming out</td>\n",
        "      <td> 23.63</td>\n",
        "    </tr>\n",
        "    <tr>\n",
        "      <th>3</th>\n",
        "      <td>              Cold wave</td>\n",
        "      <td> 42.25</td>\n",
        "    </tr>\n",
        "    <tr>\n",
        "      <th>4</th>\n",
        "      <td>                   Wave</td>\n",
        "      <td> 26.85</td>\n",
        "    </tr>\n",
        "    <tr>\n",
        "      <th>5</th>\n",
        "      <td> Scranton, Pennsylvania</td>\n",
        "      <td> 24.08</td>\n",
        "    </tr>\n",
        "    <tr>\n",
        "      <th>6</th>\n",
        "      <td>                 Second</td>\n",
        "      <td> 16.08</td>\n",
        "    </tr>\n",
        "    <tr>\n",
        "      <th>7</th>\n",
        "      <td>                  Feels</td>\n",
        "      <td>  4.80</td>\n",
        "    </tr>\n",
        "    <tr>\n",
        "      <th>8</th>\n",
        "      <td>                   Pond</td>\n",
        "      <td> 49.14</td>\n",
        "    </tr>\n",
        "    <tr>\n",
        "      <th>9</th>\n",
        "      <td>               Baseball</td>\n",
        "      <td> 39.97</td>\n",
        "    </tr>\n",
        "  </tbody>\n",
        "</table>\n",
        "</div>"
       ],
       "metadata": {},
       "output_type": "pyout",
       "prompt_number": 11,
       "text": [
        "                     Word  Probability\n",
        "0       Mercury (element)        88.04\n",
        "1             Thermometer        75.48\n",
        "2              Coming out        23.63\n",
        "3               Cold wave        42.25\n",
        "4                    Wave        26.85\n",
        "5  Scranton, Pennsylvania        24.08\n",
        "6                  Second        16.08\n",
        "7                   Feels         4.80\n",
        "8                    Pond        49.14\n",
        "9                Baseball        39.97"
       ]
      }
     ],
     "prompt_number": 11
    },
    {
     "cell_type": "code",
     "collapsed": false,
     "input": [
      "byWord = data.groupby('Word')\n",
      "words = data['Word'].unique()\n",
      "data2 = pd.DataFrame(words, index=words, columns=['Word'])\n",
      "data2['Probability'] = byWord.mean()\n",
      "data2['Count'] = byWord.size()\n",
      "data2[:10]"
     ],
     "language": "python",
     "metadata": {},
     "outputs": [
      {
       "html": [
        "<div style=\"max-height:1000px;max-width:1500px;overflow:auto;\">\n",
        "<table border=\"1\" class=\"dataframe\">\n",
        "  <thead>\n",
        "    <tr style=\"text-align: right;\">\n",
        "      <th></th>\n",
        "      <th>Word</th>\n",
        "      <th>Probability</th>\n",
        "      <th>Count</th>\n",
        "    </tr>\n",
        "  </thead>\n",
        "  <tbody>\n",
        "    <tr>\n",
        "      <th>Mercury (element)</th>\n",
        "      <td>      Mercury (element)</td>\n",
        "      <td> 88.0400</td>\n",
        "      <td>  1</td>\n",
        "    </tr>\n",
        "    <tr>\n",
        "      <th>Thermometer</th>\n",
        "      <td>            Thermometer</td>\n",
        "      <td> 39.5300</td>\n",
        "      <td>  2</td>\n",
        "    </tr>\n",
        "    <tr>\n",
        "      <th>Coming out</th>\n",
        "      <td>             Coming out</td>\n",
        "      <td> 23.6300</td>\n",
        "      <td>  1</td>\n",
        "    </tr>\n",
        "    <tr>\n",
        "      <th>Cold wave</th>\n",
        "      <td>              Cold wave</td>\n",
        "      <td> 42.2500</td>\n",
        "      <td>  1</td>\n",
        "    </tr>\n",
        "    <tr>\n",
        "      <th>Wave</th>\n",
        "      <td>                   Wave</td>\n",
        "      <td> 26.8500</td>\n",
        "      <td>  1</td>\n",
        "    </tr>\n",
        "    <tr>\n",
        "      <th>Scranton, Pennsylvania</th>\n",
        "      <td> Scranton, Pennsylvania</td>\n",
        "      <td> 40.5080</td>\n",
        "      <td> 10</td>\n",
        "    </tr>\n",
        "    <tr>\n",
        "      <th>Second</th>\n",
        "      <td>                 Second</td>\n",
        "      <td> 12.1900</td>\n",
        "      <td>  6</td>\n",
        "    </tr>\n",
        "    <tr>\n",
        "      <th>Feels</th>\n",
        "      <td>                  Feels</td>\n",
        "      <td>  4.8000</td>\n",
        "      <td>  1</td>\n",
        "    </tr>\n",
        "    <tr>\n",
        "      <th>Pond</th>\n",
        "      <td>                   Pond</td>\n",
        "      <td> 58.3650</td>\n",
        "      <td>  2</td>\n",
        "    </tr>\n",
        "    <tr>\n",
        "      <th>Baseball</th>\n",
        "      <td>               Baseball</td>\n",
        "      <td> 40.4575</td>\n",
        "      <td>  4</td>\n",
        "    </tr>\n",
        "  </tbody>\n",
        "</table>\n",
        "</div>"
       ],
       "metadata": {},
       "output_type": "pyout",
       "prompt_number": 132,
       "text": [
        "                                          Word  Probability  Count\n",
        "Mercury (element)            Mercury (element)      88.0400      1\n",
        "Thermometer                        Thermometer      39.5300      2\n",
        "Coming out                          Coming out      23.6300      1\n",
        "Cold wave                            Cold wave      42.2500      1\n",
        "Wave                                      Wave      26.8500      1\n",
        "Scranton, Pennsylvania  Scranton, Pennsylvania      40.5080     10\n",
        "Second                                  Second      12.1900      6\n",
        "Feels                                    Feels       4.8000      1\n",
        "Pond                                      Pond      58.3650      2\n",
        "Baseball                              Baseball      40.4575      4"
       ]
      }
     ],
     "prompt_number": 132
    },
    {
     "cell_type": "code",
     "collapsed": false,
     "input": [
      "import btb.utils.tools as btbtools\n",
      "import btb.utils.wikiquery as wq\n",
      "\n",
      "import mwclient\n",
      "from __future__ import division\n",
      "\n",
      "wiki = mwclient.Site('en.wikipedia.org')\n",
      "bots = wq.getAllBots(wiki)"
     ],
     "language": "python",
     "metadata": {},
     "outputs": [],
     "prompt_number": 98
    },
    {
     "cell_type": "code",
     "collapsed": false,
     "input": [
      "def wikiCountryInterest(pageTitle):\n",
      "    ips, usrs, nrevs = wq.getContributionsForPage(wiki, pageTitle)\n",
      "    knwRevs, conf, nIP, nUsr, nBot, nUnkn = btbtools.prepareData(ips, usrs, bots)\n",
      "    expEdits = wq.getTotalContributions()\n",
      "\n",
      "    cmpEdits = btbtools.compareEdits(expEdits, knwRevs)\n",
      "\n",
      "    nl_e, nl_o, nl_m = cmpEdits['NL']\n",
      "    ca_e, ca_o, ca_m = cmpEdits['CA']\n",
      "    return (nl_o, ca_o, conf)\n"
     ],
     "language": "python",
     "metadata": {},
     "outputs": [],
     "prompt_number": 135
    },
    {
     "cell_type": "code",
     "collapsed": false,
     "input": [
      "data2['TEMP'] = data2['Word'].apply(lambda x: wikiCountryInterest(x))\n",
      "data2['NLO'] = data2['TEMP'].apply(lambda x: x[0])\n",
      "data2['CAO'] = data2['TEMP'].apply(lambda x: x[1])\n",
      "data2['Conf'] = data2['TEMP'].apply(lambda x: x[2])\n",
      "del data2['TEMP']"
     ],
     "language": "python",
     "metadata": {},
     "outputs": [],
     "prompt_number": 157
    },
    {
     "cell_type": "code",
     "collapsed": false,
     "input": [
      "data2"
     ],
     "language": "python",
     "metadata": {},
     "outputs": [
      {
       "html": [
        "<pre>\n",
        "&lt;class 'pandas.core.frame.DataFrame'&gt;\n",
        "Index: 134 entries, Mercury (element) to Morgan Motor Company\n",
        "Data columns (total 6 columns):\n",
        "Word           134  non-null values\n",
        "Probability    134  non-null values\n",
        "Count          134  non-null values\n",
        "NLO            134  non-null values\n",
        "CAO            134  non-null values\n",
        "Conf           134  non-null values\n",
        "dtypes: float64(4), int64(1), object(1)\n",
        "</pre>"
       ],
       "metadata": {},
       "output_type": "pyout",
       "prompt_number": 186,
       "text": [
        "<class 'pandas.core.frame.DataFrame'>\n",
        "Index: 134 entries, Mercury (element) to Morgan Motor Company\n",
        "Data columns (total 6 columns):\n",
        "Word           134  non-null values\n",
        "Probability    134  non-null values\n",
        "Count          134  non-null values\n",
        "NLO            134  non-null values\n",
        "CAO            134  non-null values\n",
        "Conf           134  non-null values\n",
        "dtypes: float64(4), int64(1), object(1)"
       ]
      }
     ],
     "prompt_number": 186
    },
    {
     "cell_type": "code",
     "collapsed": false,
     "input": [
      "data2.to_pickle('data2.pkl')"
     ],
     "language": "python",
     "metadata": {},
     "outputs": [],
     "prompt_number": 158
    },
    {
     "cell_type": "code",
     "collapsed": false,
     "input": [
      "data2.ix[:,['NLO', 'CAO', 'Conf']][:10]"
     ],
     "language": "python",
     "metadata": {},
     "outputs": [
      {
       "html": [
        "<div style=\"max-height:1000px;max-width:1500px;overflow:auto;\">\n",
        "<table border=\"1\" class=\"dataframe\">\n",
        "  <thead>\n",
        "    <tr style=\"text-align: right;\">\n",
        "      <th></th>\n",
        "      <th>NLO</th>\n",
        "      <th>CAO</th>\n",
        "      <th>Conf</th>\n",
        "    </tr>\n",
        "  </thead>\n",
        "  <tbody>\n",
        "    <tr>\n",
        "      <th>Mercury (element)</th>\n",
        "      <td> 0.002453</td>\n",
        "      <td> 0.089348</td>\n",
        "      <td> 0.568526</td>\n",
        "    </tr>\n",
        "    <tr>\n",
        "      <th>Thermometer</th>\n",
        "      <td> 0.008873</td>\n",
        "      <td> 0.157054</td>\n",
        "      <td> 0.606566</td>\n",
        "    </tr>\n",
        "    <tr>\n",
        "      <th>Coming out</th>\n",
        "      <td> 0.007092</td>\n",
        "      <td> 0.065603</td>\n",
        "      <td> 0.436533</td>\n",
        "    </tr>\n",
        "    <tr>\n",
        "      <th>Cold wave</th>\n",
        "      <td> 0.000000</td>\n",
        "      <td> 0.085227</td>\n",
        "      <td> 0.553459</td>\n",
        "    </tr>\n",
        "    <tr>\n",
        "      <th>Wave</th>\n",
        "      <td> 0.001875</td>\n",
        "      <td> 0.042500</td>\n",
        "      <td> 0.551154</td>\n",
        "    </tr>\n",
        "    <tr>\n",
        "      <th>Scranton, Pennsylvania</th>\n",
        "      <td> 0.003470</td>\n",
        "      <td> 0.027065</td>\n",
        "      <td> 0.484370</td>\n",
        "    </tr>\n",
        "    <tr>\n",
        "      <th>Second</th>\n",
        "      <td> 0.007895</td>\n",
        "      <td> 0.092105</td>\n",
        "      <td> 0.385005</td>\n",
        "    </tr>\n",
        "    <tr>\n",
        "      <th>Feels</th>\n",
        "      <td> 0.009091</td>\n",
        "      <td> 0.136364</td>\n",
        "      <td> 0.495495</td>\n",
        "    </tr>\n",
        "    <tr>\n",
        "      <th>Pond</th>\n",
        "      <td> 0.000000</td>\n",
        "      <td> 0.085427</td>\n",
        "      <td> 0.546203</td>\n",
        "    </tr>\n",
        "    <tr>\n",
        "      <th>Baseball</th>\n",
        "      <td> 0.010437</td>\n",
        "      <td> 0.076078</td>\n",
        "      <td> 0.468537</td>\n",
        "    </tr>\n",
        "  </tbody>\n",
        "</table>\n",
        "</div>"
       ],
       "metadata": {},
       "output_type": "pyout",
       "prompt_number": 206,
       "text": [
        "                             NLO       CAO      Conf\n",
        "Mercury (element)       0.002453  0.089348  0.568526\n",
        "Thermometer             0.008873  0.157054  0.606566\n",
        "Coming out              0.007092  0.065603  0.436533\n",
        "Cold wave               0.000000  0.085227  0.553459\n",
        "Wave                    0.001875  0.042500  0.551154\n",
        "Scranton, Pennsylvania  0.003470  0.027065  0.484370\n",
        "Second                  0.007895  0.092105  0.385005\n",
        "Feels                   0.009091  0.136364  0.495495\n",
        "Pond                    0.000000  0.085427  0.546203\n",
        "Baseball                0.010437  0.076078  0.468537"
       ]
      }
     ],
     "prompt_number": 206
    },
    {
     "cell_type": "code",
     "collapsed": false,
     "input": [
      "expEdits = wq.getTotalContributions()\n",
      "NLE = expEdits['NL']\n",
      "CAE = expEdits['CA']\n",
      "\n",
      "data2['Interest-NL'] = data2.apply(lambda x: btbtools.relativeInterest(NLE, x['NLO']), axis=1)\n",
      "data2['Interest-CA'] = data2.apply(lambda x: btbtools.relativeInterest(CAE, x['CAO']), axis=1)"
     ],
     "language": "python",
     "metadata": {},
     "outputs": [],
     "prompt_number": 193
    },
    {
     "cell_type": "code",
     "collapsed": false,
     "input": [
      "data2.ix[:,['NLO', 'CAO', 'Interest-NL', 'Interest-CA']][:10]"
     ],
     "language": "python",
     "metadata": {},
     "outputs": [
      {
       "html": [
        "<div style=\"max-height:1000px;max-width:1500px;overflow:auto;\">\n",
        "<table border=\"1\" class=\"dataframe\">\n",
        "  <thead>\n",
        "    <tr style=\"text-align: right;\">\n",
        "      <th></th>\n",
        "      <th>NLO</th>\n",
        "      <th>CAO</th>\n",
        "      <th>Interest-NL</th>\n",
        "      <th>Interest-CA</th>\n",
        "    </tr>\n",
        "  </thead>\n",
        "  <tbody>\n",
        "    <tr>\n",
        "      <th>Mercury (element)</th>\n",
        "      <td> 0.002453</td>\n",
        "      <td> 0.089348</td>\n",
        "      <td>-0.693413</td>\n",
        "      <td> 0.395624</td>\n",
        "    </tr>\n",
        "    <tr>\n",
        "      <th>Thermometer</th>\n",
        "      <td> 0.008873</td>\n",
        "      <td> 0.157054</td>\n",
        "      <td> 0.098400</td>\n",
        "      <td> 0.656169</td>\n",
        "    </tr>\n",
        "    <tr>\n",
        "      <th>Coming out</th>\n",
        "      <td> 0.007092</td>\n",
        "      <td> 0.065603</td>\n",
        "      <td>-0.113475</td>\n",
        "      <td> 0.176865</td>\n",
        "    </tr>\n",
        "    <tr>\n",
        "      <th>Cold wave</th>\n",
        "      <td> 0.000000</td>\n",
        "      <td> 0.085227</td>\n",
        "      <td>-1.000000</td>\n",
        "      <td> 0.366400</td>\n",
        "    </tr>\n",
        "    <tr>\n",
        "      <th>Wave</th>\n",
        "      <td> 0.001875</td>\n",
        "      <td> 0.042500</td>\n",
        "      <td>-0.765625</td>\n",
        "      <td>-0.212963</td>\n",
        "    </tr>\n",
        "    <tr>\n",
        "      <th>Scranton, Pennsylvania</th>\n",
        "      <td> 0.003470</td>\n",
        "      <td> 0.027065</td>\n",
        "      <td>-0.566273</td>\n",
        "      <td>-0.498805</td>\n",
        "    </tr>\n",
        "    <tr>\n",
        "      <th>Second</th>\n",
        "      <td> 0.007895</td>\n",
        "      <td> 0.092105</td>\n",
        "      <td>-0.013158</td>\n",
        "      <td> 0.413714</td>\n",
        "    </tr>\n",
        "    <tr>\n",
        "      <th>Feels</th>\n",
        "      <td> 0.009091</td>\n",
        "      <td> 0.136364</td>\n",
        "      <td> 0.120000</td>\n",
        "      <td> 0.604000</td>\n",
        "    </tr>\n",
        "    <tr>\n",
        "      <th>Pond</th>\n",
        "      <td> 0.000000</td>\n",
        "      <td> 0.085427</td>\n",
        "      <td>-1.000000</td>\n",
        "      <td> 0.367882</td>\n",
        "    </tr>\n",
        "    <tr>\n",
        "      <th>Baseball</th>\n",
        "      <td> 0.010437</td>\n",
        "      <td> 0.076078</td>\n",
        "      <td> 0.233474</td>\n",
        "      <td> 0.290202</td>\n",
        "    </tr>\n",
        "  </tbody>\n",
        "</table>\n",
        "</div>"
       ],
       "metadata": {},
       "output_type": "pyout",
       "prompt_number": 220,
       "text": [
        "                             NLO       CAO  Interest-NL  Interest-CA\n",
        "Mercury (element)       0.002453  0.089348    -0.693413     0.395624\n",
        "Thermometer             0.008873  0.157054     0.098400     0.656169\n",
        "Coming out              0.007092  0.065603    -0.113475     0.176865\n",
        "Cold wave               0.000000  0.085227    -1.000000     0.366400\n",
        "Wave                    0.001875  0.042500    -0.765625    -0.212963\n",
        "Scranton, Pennsylvania  0.003470  0.027065    -0.566273    -0.498805\n",
        "Second                  0.007895  0.092105    -0.013158     0.413714\n",
        "Feels                   0.009091  0.136364     0.120000     0.604000\n",
        "Pond                    0.000000  0.085427    -1.000000     0.367882\n",
        "Baseball                0.010437  0.076078     0.233474     0.290202"
       ]
      }
     ],
     "prompt_number": 220
    },
    {
     "cell_type": "code",
     "collapsed": false,
     "input": [
      "nItems = data2['Count'].sum()\n",
      "data2['Total-NL'] = data2.apply(lambda x: x['Probability'] * x['Count'] / nItems * x['Conf'] * x['Interest-NL'],axis=1)\n",
      "data2['Total-CA'] = data2.apply(lambda x: x['Probability'] * x['Count'] / nItems * x['Conf'] * x['Interest-CA'],axis=1)"
     ],
     "language": "python",
     "metadata": {},
     "outputs": [],
     "prompt_number": 229
    },
    {
     "cell_type": "code",
     "collapsed": false,
     "input": [
      "data2.ix[:,['Total-NL', 'Total-CA']][:10]"
     ],
     "language": "python",
     "metadata": {},
     "outputs": [
      {
       "html": [
        "<div style=\"max-height:1000px;max-width:1500px;overflow:auto;\">\n",
        "<table border=\"1\" class=\"dataframe\">\n",
        "  <thead>\n",
        "    <tr style=\"text-align: right;\">\n",
        "      <th></th>\n",
        "      <th>Total-NL</th>\n",
        "      <th>Total-CA</th>\n",
        "    </tr>\n",
        "  </thead>\n",
        "  <tbody>\n",
        "    <tr>\n",
        "      <th>Mercury (element)</th>\n",
        "      <td>-0.190700</td>\n",
        "      <td> 0.108803</td>\n",
        "    </tr>\n",
        "    <tr>\n",
        "      <th>Thermometer</th>\n",
        "      <td> 0.025927</td>\n",
        "      <td> 0.172894</td>\n",
        "    </tr>\n",
        "    <tr>\n",
        "      <th>Coming out</th>\n",
        "      <td>-0.006431</td>\n",
        "      <td> 0.010024</td>\n",
        "    </tr>\n",
        "    <tr>\n",
        "      <th>Cold wave</th>\n",
        "      <td>-0.128482</td>\n",
        "      <td> 0.047076</td>\n",
        "    </tr>\n",
        "    <tr>\n",
        "      <th>Wave</th>\n",
        "      <td>-0.062253</td>\n",
        "      <td>-0.017316</td>\n",
        "    </tr>\n",
        "    <tr>\n",
        "      <th>Scranton, Pennsylvania</th>\n",
        "      <td>-0.610482</td>\n",
        "      <td>-0.537746</td>\n",
        "    </tr>\n",
        "    <tr>\n",
        "      <th>Second</th>\n",
        "      <td>-0.002036</td>\n",
        "      <td> 0.064010</td>\n",
        "    </tr>\n",
        "    <tr>\n",
        "      <th>Feels</th>\n",
        "      <td> 0.001568</td>\n",
        "      <td> 0.007893</td>\n",
        "    </tr>\n",
        "    <tr>\n",
        "      <th>Pond</th>\n",
        "      <td>-0.350320</td>\n",
        "      <td> 0.128877</td>\n",
        "    </tr>\n",
        "    <tr>\n",
        "      <th>Baseball</th>\n",
        "      <td> 0.097268</td>\n",
        "      <td> 0.120902</td>\n",
        "    </tr>\n",
        "  </tbody>\n",
        "</table>\n",
        "</div>"
       ],
       "metadata": {},
       "output_type": "pyout",
       "prompt_number": 230,
       "text": [
        "                        Total-NL  Total-CA\n",
        "Mercury (element)      -0.190700  0.108803\n",
        "Thermometer             0.025927  0.172894\n",
        "Coming out             -0.006431  0.010024\n",
        "Cold wave              -0.128482  0.047076\n",
        "Wave                   -0.062253 -0.017316\n",
        "Scranton, Pennsylvania -0.610482 -0.537746\n",
        "Second                 -0.002036  0.064010\n",
        "Feels                   0.001568  0.007893\n",
        "Pond                   -0.350320  0.128877\n",
        "Baseball                0.097268  0.120902"
       ]
      }
     ],
     "prompt_number": 230
    },
    {
     "cell_type": "code",
     "collapsed": false,
     "input": [
      "data2['Total-NL'].mean(), data2['Total-CA'].mean()"
     ],
     "language": "python",
     "metadata": {},
     "outputs": [
      {
       "metadata": {},
       "output_type": "pyout",
       "prompt_number": 261,
       "text": [
        "(-0.034873598063576129, 0.025143705814332295)"
       ]
      }
     ],
     "prompt_number": 261
    },
    {
     "cell_type": "code",
     "collapsed": false,
     "input": [
      "%pylab inline"
     ],
     "language": "python",
     "metadata": {},
     "outputs": [
      {
       "output_type": "stream",
       "stream": "stdout",
       "text": [
        "Populating the interactive namespace from numpy and matplotlib\n"
       ]
      }
     ],
     "prompt_number": 232
    },
    {
     "cell_type": "code",
     "collapsed": false,
     "input": [
      "figure(figsize=(12,12))\n",
      "plot(data2['Total-NL'], data2['Total-CA'],'+')\n",
      "\n",
      "for nl,ca,txt in zip(data2['Total-NL'], data2['Total-CA'], data2['Word']):\n",
      "    annotate(txt, (nl,ca))\n",
      "\n",
      "plot([-0.1, 0.1], [0, 0] , 'r-')\n",
      "plot([0, 0] , [-0.1, 0.1],'r-')\n",
      "\n",
      "axis([-0.1, 0.1, -0.1, 0.1 ])\n",
      "xlabel('NL')\n",
      "ylabel('CA')\n"
     ],
     "language": "python",
     "metadata": {},
     "outputs": [
      {
       "metadata": {},
       "output_type": "pyout",
       "prompt_number": 273,
       "text": [
        "<matplotlib.text.Text at 0xac38186c>"
       ]
      },
      {
       "metadata": {},
       "output_type": "display_data",
       "png": "[encoded data removed]",
       "text": [
        "<matplotlib.figure.Figure at 0xaa304dac>"
       ]
      }
     ],
     "prompt_number": 273
    },
    {
     "cell_type": "code",
     "collapsed": false,
     "input": [
      "data2[data2['Total-CA']==0]"
     ],
     "language": "python",
     "metadata": {},
     "outputs": [
      {
       "html": [
        "<pre>\n",
        "&lt;class 'pandas.core.frame.DataFrame'&gt;\n",
        "Index: 2 entries, Saturday morning cartoon to Intuition (knowledge)\n",
        "Data columns (total 10 columns):\n",
        "Word           2  non-null values\n",
        "Probability    2  non-null values\n",
        "Count          2  non-null values\n",
        "NLO            2  non-null values\n",
        "CAO            2  non-null values\n",
        "Conf           2  non-null values\n",
        "Interest-NL    2  non-null values\n",
        "Interest-CA    2  non-null values\n",
        "Total-NL       2  non-null values\n",
        "Total-CA       2  non-null values\n",
        "dtypes: float64(8), int64(1), object(1)\n",
        "</pre>"
       ],
       "metadata": {},
       "output_type": "pyout",
       "prompt_number": 256,
       "text": [
        "                                              Word  Probability  Count  NLO  \\\n",
        "Saturday morning cartoon  Saturday morning cartoon        23.19      1    0   \n",
        "Intuition (knowledge)        Intuition (knowledge)        16.08      1    0   \n",
        "\n",
        "                          CAO  Conf  Interest-NL  Interest-CA  Total-NL  \\\n",
        "Saturday morning cartoon    0     0           -1           -1        -0   \n",
        "Intuition (knowledge)       0     0           -1           -1        -0   \n",
        "\n",
        "                          Total-CA  \n",
        "Saturday morning cartoon        -0  \n",
        "Intuition (knowledge)           -0  "
       ]
      }
     ],
     "prompt_number": 256
    }
   ],
   "metadata": {}
  }
 ]
}