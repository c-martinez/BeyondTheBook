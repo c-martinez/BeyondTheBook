{
 "metadata": {
  "kernelspec": {
   "codemirror_mode": {
    "name": "ipython",
    "version": 2
   },
   "display_name": "IPython (Python 2)",
   "language": "python",
   "name": "python2"
  },
  "name": "",
  "signature": "sha256:f531fa47de99c6611f4126f8813fa61ba3d7aec10c62ef930a44e033f676a224"
 },
 "nbformat": 3,
 "nbformat_minor": 0,
 "worksheets": [
  {
   "cells": [
    {
     "cell_type": "markdown",
     "metadata": {},
     "source": [
      "This notebook describes the process used to extract 'key' words from a novel (using wikipedia miner)."
     ]
    },
    {
     "cell_type": "code",
     "collapsed": false,
     "input": [
      "import pycurl\n",
      "import json\n",
      "from StringIO import StringIO\n",
      "from urllib import urlencode"
     ],
     "language": "python",
     "metadata": {},
     "outputs": [],
     "prompt_number": 2
    },
    {
     "cell_type": "markdown",
     "metadata": {},
     "source": [
      "Given a chunk of text"
     ]
    },
    {
     "cell_type": "code",
     "collapsed": false,
     "input": [
      "chunk = \"We want to test our team play before going up against the boys of \" + \\\n",
      "        \"Keyport High, that's a fact; and Scranton can put up a hard fighting \" + \\\n",
      "        \"bunch of irregulars.  There are some mighty clever hockey players \" + \\\n",
      "        \"in and out of the high school, who are not on our Seven.  I guess \" + \\\n",
      "        \"there ought to be a pretty lively game on Saturday; and there will \" + \\\n",
      "        \"be if several fellows I could mention line up against us.\""
     ],
     "language": "python",
     "metadata": {},
     "outputs": [],
     "prompt_number": 3
    },
    {
     "cell_type": "markdown",
     "metadata": {},
     "source": [
      "We use the wikipedia miner webservice interface to 'wikify' the text."
     ]
    },
    {
     "cell_type": "code",
     "collapsed": false,
     "input": [
      "wikifyURL = 'http://wikipedia-miner.cms.waikato.ac.nz/services/wikify'\n",
      "\n",
      "c = pycurl.Curl()\n",
      "c.setopt(c.URL, wikifyURL)\n",
      "buffer = StringIO()\n",
      "\n",
      "post_data = {'responseFormat': 'json',\n",
      "             'source': chunk}\n",
      "\n",
      "# Form data must be provided already urlencoded.\n",
      "postfields = urlencode(post_data)\n",
      "# Sets request method to POST,\n",
      "# Content-Type header to application/x-www-form-urlencoded\n",
      "# and data to send in request body.\n",
      "c.setopt(c.POSTFIELDS, postfields)\n",
      "c.setopt(c.WRITEFUNCTION, buffer.write)\n",
      "c.perform()\n",
      "c.close()\n",
      "\n",
      "body = buffer.getvalue()\n",
      "response = json.loads(body)"
     ],
     "language": "python",
     "metadata": {},
     "outputs": [],
     "prompt_number": 4
    },
    {
     "cell_type": "markdown",
     "metadata": {},
     "source": [
      "The wikified text contains a set of topics identified in the text and probabilities associated to each topic."
     ]
    },
    {
     "cell_type": "code",
     "collapsed": false,
     "input": [
      "for topic in response['detectedTopics']:\n",
      "    print topic['title'], '%4.3f '%topic['weight']"
     ],
     "language": "python",
     "metadata": {},
     "outputs": [
      {
       "output_type": "stream",
       "stream": "stdout",
       "text": [
        "Scranton, Pennsylvania 0.764 \n",
        "High school 0.706 \n"
       ]
      }
     ],
     "prompt_number": 5
    },
    {
     "cell_type": "markdown",
     "metadata": {},
     "source": [
      "The code for using wikipedia-miner wikify service has been wrapped as a helper function on the btb.utils.wikifier module"
     ]
    },
    {
     "cell_type": "code",
     "collapsed": false,
     "input": [
      "from btb.utils.wikifier import wikify"
     ],
     "language": "python",
     "metadata": {},
     "outputs": [],
     "prompt_number": 6
    },
    {
     "cell_type": "code",
     "collapsed": false,
     "input": [
      "response = wikify(chunk)\n",
      "for topic in response:\n",
      "    print topic, '%4.3f '%response[topic]"
     ],
     "language": "python",
     "metadata": {},
     "outputs": [
      {
       "output_type": "stream",
       "stream": "stdout",
       "text": [
        "High school 0.706 \n",
        "Scranton, Pennsylvania 0.764 \n"
       ]
      }
     ],
     "prompt_number": 11
    },
    {
     "cell_type": "code",
     "collapsed": false,
     "input": [
      "chunk = '\"Well,\" commented Thad, \"we all know that Nick is a boss skater, even ' + \\\n",
      "    'on the old runners he sports, and which mebbe his dad used before ' + \\\n",
      "    \"him, they're that ancient.  He can hold his own with the next one \" + \\\n",
      "    \"whenever there's any ice worth using.  And as to hockey, why, if Nick \" + \\\n",
      "    'would only play fair, which he never will, it seems because his ' + \\\n",
      "    'nature must be warped and crooked, he could have a leading place on ' + \\\n",
      "    'our Seven.  As it is, the boys refused to stand for him in any game, ' + \\\n",
      "    'and so he had to herd with the scratch players.  Even then Mr. ' + \\\n",
      "    'Leonard, our efficient coach and trainer, has to call him down good ' + \\\n",
      "    \"and hard for cheating, or playing off-side purposely.  It's anything \" + \\\n",
      "    'to win, with Nick.\"'\n",
      "\n",
      "response = wikify(chunk, 0.01)\n",
      "\n",
      "for topic in response:\n",
      "    print topic, '%4.3f '%response[topic]"
     ],
     "language": "python",
     "metadata": {},
     "outputs": [
      {
       "output_type": "stream",
       "stream": "stdout",
       "text": [
        "Boss (video gaming) 0.131 \n",
        "Cheating 0.093 \n",
        "Fair 0.223 \n",
        "Offside (association football) 0.170 \n",
        "Ice 0.260 \n",
        "Herd 0.340 \n",
        "Coach (sport) 0.444 \n",
        "Hockey 0.182 \n",
        "Shilling 0.048 \n",
        "Horse trainer 0.274 \n",
        "Sport 0.332 \n"
       ]
      }
     ],
     "prompt_number": 12
    }
   ],
   "metadata": {}
  }
 ]
}