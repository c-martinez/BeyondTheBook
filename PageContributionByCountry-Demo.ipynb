{
 "cells": [
  {
   "cell_type": "code",
   "execution_count": null,
   "metadata": {
    "collapsed": false
   },
   "outputs": [],
   "source": [
    "%pylab inline"
   ]
  },
  {
   "cell_type": "code",
   "execution_count": null,
   "metadata": {
    "collapsed": false
   },
   "outputs": [],
   "source": [
    "import btb.utils.tools as btbtools\n",
    "import btb.utils.wikiquery as wq\n",
    "\n",
    "import mwclient\n",
    "from __future__ import division\n",
    "\n",
    "wiki = mwclient.Site('en.wikipedia.org')\n",
    "bots = wq.getAllBots(wiki)\n",
    "\n",
    "def plotEditBars(pageTitle):\n",
    "    ips, usrs, nrevs = wq.getContributionsForPage(wiki, pageTitle)\n",
    "\n",
    "    if len(ips)==0 and len(usrs)==0 and nrevs==0:\n",
    "        print 'No wikipedia page found for: ',pageTitle\n",
    "        return\n",
    "\n",
    "    knwRevs, conf, nIP, nUsr, nBot, nUnkn = btbtools.prepareData(ips, usrs, bots)\n",
    "\n",
    "    expEdits = wq.getTotalContributions()\n",
    "    cmpEdits = btbtools.compareEdits(expEdits, knwRevs)\n",
    "\n",
    "    tags   = np.array(cmpEdits.keys())\n",
    "    cmpVals = np.array(cmpEdits.values())\n",
    "\n",
    "    # Sort descending by expected value\n",
    "    sortIdx = cmpVals[:,0].argsort()\n",
    "    sortIdx = sortIdx[::-1]\n",
    "    tags   = tags[sortIdx]\n",
    "    expVal = cmpVals[sortIdx,0]\n",
    "    actVal = cmpVals[sortIdx,1]\n",
    "    cmpVal = cmpVals[sortIdx,2]\n",
    "\n",
    "    # Ignore entries where overall contributions are unknown\n",
    "    tags   = tags[expVal>0]\n",
    "    actVal = actVal[expVal>0]\n",
    "    cmpVal = cmpVal[expVal>0]\n",
    "    expVal = expVal[expVal>0]\n",
    "\n",
    "    # Format bar charts\n",
    "    width = 0.35\n",
    "    N = len(tags)\n",
    "    ind = np.arange(N)\n",
    "    \n",
    "    figure(figsize=(12,8))\n",
    "    subplot(2,1,1)\n",
    "    # figure(figsize=(12,4))\n",
    "    bar(ind           , expVal, width=width, color='y', label='Expectation')\n",
    "    bar(ind + width   , actVal, width=width, color='r', label='Contribution')\n",
    "    xticks(ind + width, tags  , rotation=90);\n",
    "    axis([0, N, 0, 1])\n",
    "    legend()\n",
    "    title(pageTitle)\n",
    "\n",
    "    # figure(figsize=(12,4))\n",
    "    subplot(2,1,2)\n",
    "    bar(ind + width   , cmpVal, width=width, color='b', label='Ratio')\n",
    "    xticks(ind + width, tags  , rotation=90);\n",
    "    plot([0,N],[0,0],'k:')\n",
    "    axis([0, N, -1, 1])\n",
    "    legend()\n",
    "    title(pageTitle)"
   ]
  },
  {
   "cell_type": "code",
   "execution_count": null,
   "metadata": {
    "collapsed": false
   },
   "outputs": [],
   "source": [
    "plotEditBars('Ice Hockey')"
   ]
  },
  {
   "cell_type": "code",
   "execution_count": null,
   "metadata": {
    "collapsed": false
   },
   "outputs": [],
   "source": [
    "plotEditBars(u'Quetzalcoatl')"
   ]
  },
  {
   "cell_type": "code",
   "execution_count": null,
   "metadata": {
    "collapsed": false
   },
   "outputs": [],
   "source": [
    "plotEditBars(u'Willem-Alexander_of_the_Netherlands')"
   ]
  },
  {
   "cell_type": "code",
   "execution_count": null,
   "metadata": {
    "collapsed": false
   },
   "outputs": [],
   "source": [
    "plotEditBars(u'Amsterdam')"
   ]
  },
  {
   "cell_type": "code",
   "execution_count": null,
   "metadata": {
    "collapsed": false
   },
   "outputs": [],
   "source": [
    "plotEditBars(u'Paris')"
   ]
  },
  {
   "cell_type": "code",
   "execution_count": null,
   "metadata": {
    "collapsed": false
   },
   "outputs": [],
   "source": [
    "plotEditBars(u'London')"
   ]
  },
  {
   "cell_type": "code",
   "execution_count": null,
   "metadata": {
    "collapsed": false
   },
   "outputs": [],
   "source": [
    "plotEditBars(u'Barcelona')"
   ]
  },
  {
   "cell_type": "code",
   "execution_count": null,
   "metadata": {
    "collapsed": true
   },
   "outputs": [],
   "source": [
    "plotEditBars(u'')"
   ]
  },
  {
   "cell_type": "code",
   "execution_count": null,
   "metadata": {
    "collapsed": true
   },
   "outputs": [],
   "source": [
    "plotEditBars(u'')"
   ]
  },
  {
   "cell_type": "code",
   "execution_count": null,
   "metadata": {
    "collapsed": true
   },
   "outputs": [],
   "source": [
    "plotEditBars(u'')"
   ]
  },
  {
   "cell_type": "code",
   "execution_count": null,
   "metadata": {
    "collapsed": true
   },
   "outputs": [],
   "source": [
    "plotEditBars(u'')"
   ]
  },
  {
   "cell_type": "code",
   "execution_count": null,
   "metadata": {
    "collapsed": true
   },
   "outputs": [],
   "source": [
    "plotEditBars('')"
   ]
  },
  {
   "cell_type": "code",
   "execution_count": null,
   "metadata": {
    "collapsed": true
   },
   "outputs": [],
   "source": [
    "plotEditBars('')"
   ]
  },
  {
   "cell_type": "code",
   "execution_count": null,
   "metadata": {
    "collapsed": true
   },
   "outputs": [],
   "source": [
    "plotEditBars('')"
   ]
  },
  {
   "cell_type": "code",
   "execution_count": null,
   "metadata": {
    "collapsed": true
   },
   "outputs": [],
   "source": [
    "plotEditBars('')"
   ]
  }
 ],
 "metadata": {
  "kernelspec": {
   "display_name": "Python 2",
   "language": "python",
   "name": "python2"
  },
  "language_info": {
   "codemirror_mode": {
    "name": "ipython",
    "version": 2
   },
   "file_extension": ".py",
   "mimetype": "text/x-python",
   "name": "python",
   "nbconvert_exporter": "python",
   "pygments_lexer": "ipython2",
   "version": "2.7.8"
  }
 },
 "nbformat": 4,
 "nbformat_minor": 0
}
