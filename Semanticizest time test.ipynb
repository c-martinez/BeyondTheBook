{
 "cells": [
  {
   "cell_type": "markdown",
   "metadata": {
    "collapsed": true
   },
   "source": [
    "#Semantizisest time test\n",
    "\n",
    "Make sure semanticizest is installed\n",
    "\n",
    "https://github.com/semanticize/semanticizest\n",
    "\n",
    "First let's test semanticizest itself, using code from: http://semanticizest.readthedocs.org/en/master/"
   ]
  },
  {
   "cell_type": "code",
   "execution_count": 1,
   "metadata": {
    "collapsed": false
   },
   "outputs": [],
   "source": [
    "import re\n",
    "from semanticizest import Semanticizer"
   ]
  },
  {
   "cell_type": "code",
   "execution_count": 2,
   "metadata": {
    "collapsed": false
   },
   "outputs": [],
   "source": [
    "sem = Semanticizer('/home/carlosm/Software/semanticizest/nl.model')"
   ]
  },
  {
   "cell_type": "code",
   "execution_count": 3,
   "metadata": {
    "collapsed": false
   },
   "outputs": [
    {
     "name": "stdout",
     "output_type": "stream",
     "text": [
      "Roken (tabak) 53.19 % ['Roken']\n",
      "Jij 100.00 % ['je']\n",
      "Hij (single) 100.00 % ['Hij']\n",
      "Entiteit 66.67 % ['het']\n",
      "Gevaar (risico) 100.00 % ['gevaar']\n",
      "Bestelwagen 66.67 % ['van']\n",
      "Kant (textiel) 56.38 % ['kant']\n",
      "Dan (graad) 74.17 % ['dan']\n",
      "Bestelwagen 66.67 % ['van']\n",
      "Entiteit 66.67 % ['het']\n",
      "Heen 100.00 % ['heen']\n",
      "Digital audio tape 87.50 % ['dat']\n",
      "Lachen (gedrag) 100.00 % ['glimlach']\n",
      "Duits 100.00 % ['de']\n",
      "Traan (oog) 69.35 % ['tranen']\n"
     ]
    }
   ],
   "source": [
    "text = (\"Roken... je laatste... Hij kijkt schichtig achterom, alsof het gevaar meer van die kant dreigt dan van mij. \" \n",
    "        \"Ik ga hem in zijn gezicht schieten, flitst het door mij heen. Ik ga dat onschuldige, nog bijna baardloze \" \n",
    "        \"gezicht openrijten. Ik glimlach hem toe en voel de tranen in mijn ogen branden.\")\n",
    "toks = re.findall('\\w+', text)\n",
    "\n",
    "for idx0,idx1,link,p_link in sem.all_candidates(toks):\n",
    "    if p_link>0.5:\n",
    "        print link,'%2.2f %%'%(p_link*100),toks[idx0:idx1]"
   ]
  },
  {
   "cell_type": "markdown",
   "metadata": {},
   "source": [
    "# Time trials\n",
    "Now lets load full books and take a look at how long it takes to semanticize a full book."
   ]
  },
  {
   "cell_type": "code",
   "execution_count": 4,
   "metadata": {
    "collapsed": false
   },
   "outputs": [],
   "source": [
    "import BeautifulSoup\n",
    "from collections import defaultdict"
   ]
  },
  {
   "cell_type": "code",
   "execution_count": 5,
   "metadata": {
    "collapsed": false
   },
   "outputs": [],
   "source": [
    "def semanticizeBook(bookXML):\n",
    "    soup = BeautifulSoup.BeautifulSoup(open(bookXML))\n",
    "    paragraphs = soup.findAll(['p','pb'])\n",
    "\n",
    "    pages = []\n",
    "\n",
    "    currPage = defaultdict(lambda: 0)\n",
    "    pages.append(currPage)\n",
    "\n",
    "    for p in paragraphs:\n",
    "        if p.name=='pb':\n",
    "            # New Page\n",
    "            currPage = defaultdict(lambda: 0)\n",
    "            pages.append(currPage)\n",
    "\n",
    "        toks = re.findall('\\w+', p.text)\n",
    "\n",
    "        for idx0,idx1,link,p_link in sem.all_candidates(toks):\n",
    "            if p_link>0.5:\n",
    "                currPage[link] += 1\n",
    "    return pages\n"
   ]
  },
  {
   "cell_type": "code",
   "execution_count": 7,
   "metadata": {
    "collapsed": false
   },
   "outputs": [
    {
     "name": "stdout",
     "output_type": "stream",
     "text": [
      "1 loops, best of 3: 999 ms per loop\n"
     ]
    }
   ],
   "source": [
    "%%timeit\n",
    "\n",
    "# Timeit one book from Karina corpus\n",
    "bookXML = \"../data/Dutch_literature_Karina/corpusHuygens/OR_Ferron_Stierenoffer_1975_pags.xml\"\n",
    "semanticizeBook(bookXML)"
   ]
  },
  {
   "cell_type": "markdown",
   "metadata": {},
   "source": [
    "Now lets have a look at all books of the Karina corpus and find the average time per book"
   ]
  },
  {
   "cell_type": "code",
   "execution_count": 13,
   "metadata": {
    "collapsed": true
   },
   "outputs": [],
   "source": [
    "import glob\n",
    "import timeit\n",
    "import numpy as np"
   ]
  },
  {
   "cell_type": "code",
   "execution_count": 10,
   "metadata": {
    "collapsed": false
   },
   "outputs": [],
   "source": [
    "books = glob.glob(\"../data/Dutch_literature_Karina/corpusHuygens/*.xml\")"
   ]
  },
  {
   "cell_type": "code",
   "execution_count": 11,
   "metadata": {
    "collapsed": false
   },
   "outputs": [],
   "source": [
    "times = []\n",
    "nRepeats = 10\n",
    "\n",
    "for book in books:\n",
    "    t = timeit.Timer(\"semanticizeBook('\" + book + \"')\", \"from __main__ import semanticizeBook\")\n",
    "    times.append(t.timeit(number=nRepeats))"
   ]
  },
  {
   "cell_type": "code",
   "execution_count": 14,
   "metadata": {
    "collapsed": false
   },
   "outputs": [
    {
     "name": "stdout",
     "output_type": "stream",
     "text": [
      "Average time per book: 1.2180 seconds per book\n"
     ]
    }
   ],
   "source": [
    "print 'Average time per book: %2.4f seconds per book'%(np.array(times)/nRepeats).mean()"
   ]
  }
 ],
 "metadata": {
  "kernelspec": {
   "display_name": "IPython (Python 2)",
   "name": "python2"
  },
  "language_info": {
   "codemirror_mode": {
    "name": "ipython",
    "version": 2
   },
   "file_extension": ".py",
   "mimetype": "text/x-python",
   "name": "python",
   "nbconvert_exporter": "python",
   "pygments_lexer": "ipython2",
   "version": "2.7.8"
  },
  "signature": "sha256:9560312c3cb8615994e088f1d788043c067fe98a7efff3683a2662d0bc54484a"
 },
 "nbformat": 4,
 "nbformat_minor": 0
}