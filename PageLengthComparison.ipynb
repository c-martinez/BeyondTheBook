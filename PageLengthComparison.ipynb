{
 "metadata": {
  "name": "",
  "signature": "sha256:9b945e0660ec9a163c02739b917b8aafed8b861bac5a67230409bcd67f0fe2c0"
 },
 "nbformat": 3,
 "nbformat_minor": 0,
 "worksheets": [
  {
   "cells": [
    {
     "cell_type": "code",
     "collapsed": false,
     "input": [
      "%pylab inline\n",
      "%load_ext autoreload\n",
      "%autoreload 2"
     ],
     "language": "python",
     "metadata": {},
     "outputs": [
      {
       "output_type": "stream",
       "stream": "stdout",
       "text": [
        "Populating the interactive namespace from numpy and matplotlib\n"
       ]
      }
     ],
     "prompt_number": 1
    },
    {
     "cell_type": "code",
     "collapsed": false,
     "input": [
      "import sys\n",
      "sys.path.append('../WikiDAT/')\n",
      "import btb.utils.tools as btbtools\n",
      "import btb.utils.wikiquery as wq\n",
      "\n",
      "import mwclient"
     ],
     "language": "python",
     "metadata": {},
     "outputs": [],
     "prompt_number": 2
    },
    {
     "cell_type": "markdown",
     "metadata": {},
     "source": [
      "# Wikipedia page comparison\n",
      "\n",
      "It is assumed that the length of a Wikipedia entry provides an indication of the level of interest users from that language have on the topic of that page.\n",
      "\n",
      "Based on this assumption, comparing the length of an entry in English wikipedia and Dutch wikipedia will provide an indication of the level of interest english speakers and Dutch speakers have on this topic.\n",
      "\n",
      "To verify this assumption, we will need access to both English and Dutch Wikipedias."
     ]
    },
    {
     "cell_type": "code",
     "collapsed": false,
     "input": [
      "enWiki = mwclient.Site('en.wikipedia.org')\n",
      "nlWiki = mwclient.Site('nl.wikipedia.org')"
     ],
     "language": "python",
     "metadata": {},
     "outputs": [],
     "prompt_number": 3
    },
    {
     "cell_type": "markdown",
     "metadata": {},
     "source": [
      "Given a page title (in English)..."
     ]
    },
    {
     "cell_type": "code",
     "collapsed": false,
     "input": [
      "pageTitle = 'Ice skating'\n",
      "\n",
      "enPageTitle = pageTitle\n",
      "enPage = enWiki.Pages[enPageTitle]\n",
      "if enPage.redirect:\n",
      "    enPage = enPage.redirects_to()"
     ],
     "language": "python",
     "metadata": {},
     "outputs": [],
     "prompt_number": 4
    },
    {
     "cell_type": "markdown",
     "metadata": {},
     "source": [
      "... we can find whether there is an entry for that title on Dutch wikipedia"
     ]
    },
    {
     "cell_type": "code",
     "collapsed": false,
     "input": [
      "nlPageTitle = None\n",
      "langs = enPage.langlinks()\n",
      "for lang,langTitle in langs:\n",
      "    if lang=='nl':\n",
      "        nlPageTitle = langTitle\n",
      "        print enPageTitle,' ==> ',nlPageTitle\n",
      "if nlPageTitle!=None:\n",
      "    nlPage = nlWiki.Pages[nlPageTitle]"
     ],
     "language": "python",
     "metadata": {},
     "outputs": [
      {
       "output_type": "stream",
       "stream": "stdout",
       "text": [
        "Ice skating  ==>  Schaatsen\n"
       ]
      }
     ],
     "prompt_number": 5
    },
    {
     "cell_type": "markdown",
     "metadata": {},
     "source": [
      "We can then calculate the ratio of length between Dutch and English entries"
     ]
    },
    {
     "cell_type": "code",
     "collapsed": false,
     "input": [
      "nlPage.length/enPage.length"
     ],
     "language": "python",
     "metadata": {},
     "outputs": [
      {
       "metadata": {},
       "output_type": "pyout",
       "prompt_number": 6,
       "text": [
        "0.8631531122217174"
       ]
      }
     ],
     "prompt_number": 6
    },
    {
     "cell_type": "markdown",
     "metadata": {},
     "source": [
      "Other topics which are less tipically Dutch, will have shorter entries and thus lower ratio."
     ]
    },
    {
     "cell_type": "code",
     "collapsed": false,
     "input": [
      "def getNLTitle(enPageTitle):\n",
      "    enPage = enWiki.Pages[enPageTitle]\n",
      "    if enPage.redirect:\n",
      "        enPage = enPage.redirects_to()\n",
      "\n",
      "    nlPageTitle = None\n",
      "    langs = enPage.langlinks()\n",
      "    for lang,langTitle in langs:\n",
      "        if lang=='nl':\n",
      "            nlPageTitle = langTitle\n",
      "            print enPageTitle,' ==> ',nlPageTitle\n",
      "\n",
      "    return nlPageTitle"
     ],
     "language": "python",
     "metadata": {},
     "outputs": [],
     "prompt_number": 7
    },
    {
     "cell_type": "code",
     "collapsed": false,
     "input": [
      "enPageTitle = 'Ice hockey'\n",
      "nlPageTitle = getNLTitle(enPageTitle)\n",
      "\n",
      "enPage = enWiki.Pages[enPageTitle]\n",
      "nlPage = nlWiki.Pages[nlPageTitle]\n",
      "\n",
      "nlPage.length/enPage.length"
     ],
     "language": "python",
     "metadata": {},
     "outputs": [
      {
       "output_type": "stream",
       "stream": "stdout",
       "text": [
        "Ice hockey  ==>  IJshockey\n"
       ]
      },
      {
       "metadata": {},
       "output_type": "pyout",
       "prompt_number": 8,
       "text": [
        "0.21581307420087376"
       ]
      }
     ],
     "prompt_number": 8
    },
    {
     "cell_type": "markdown",
     "metadata": {},
     "source": [
      "# Country considerations\n",
      "However, because we are interested in translation from one country to another, comparing the page length may be misleading: entries in Dutch Wikipedia will be edited (mostly) by users from the Netherlands; however English Wikipedia will contain a more diverse mixture from various countries.\n",
      "\n",
      "For this reason, perhaps it makes more sense to look at the countries which are making edits in both the English and Dutch Wikipedia. For English, we will concentrate on Canada; for Dutch, we will concentrate on the Netherlands."
     ]
    },
    {
     "cell_type": "code",
     "collapsed": false,
     "input": [
      "nlBots = wq.getAllBots(nlWiki)\n",
      "enBots = wq.getAllBots(enWiki)"
     ],
     "language": "python",
     "metadata": {},
     "outputs": [
      {
       "output_type": "stream",
       "stream": "stdout",
       "text": [
        "{'augroup': 'bot'}\n",
        "{'augroup': 'bot'}"
       ]
      },
      {
       "output_type": "stream",
       "stream": "stdout",
       "text": [
        "\n"
       ]
      }
     ],
     "prompt_number": 9
    },
    {
     "cell_type": "code",
     "collapsed": false,
     "input": [
      "enPageTitle = 'Ice hockey'\n",
      "nlPageTitle = getNLTitle(enPageTitle)"
     ],
     "language": "python",
     "metadata": {},
     "outputs": [
      {
       "output_type": "stream",
       "stream": "stdout",
       "text": [
        "Ice hockey  ==>  IJshockey\n"
       ]
      }
     ],
     "prompt_number": 10
    },
    {
     "cell_type": "code",
     "collapsed": false,
     "input": [
      "ips, usrs, nrevs = wq.getContributionsForPage(enWiki, enPageTitle)\n",
      "byCC, conf, nIP, nUsr, nBot, nUnkn = btbtools.prepareData(ips, usrs, enBots, lang='en')\n",
      "print enPageTitle,':',byCC['CA'],'Confidence: {:4.2f}'.format(conf)"
     ],
     "language": "python",
     "metadata": {},
     "outputs": [
      {
       "output_type": "stream",
       "stream": "stdout",
       "text": [
        "Ice hockey : 1756 Confidence: 0.60\n"
       ]
      }
     ],
     "prompt_number": 15
    },
    {
     "cell_type": "code",
     "collapsed": false,
     "input": [
      "# Post NL user resolver\n",
      "ips, usrs, nrevs = wq.getContributionsForPage(nlWiki, nlPageTitle)\n",
      "byCC, conf, nIP, nUsr, nBot, nUnkn = btbtools.prepareData(ips, usrs, nlBots, lang='nl')\n",
      "print nlPageTitle,':', byCC['NL'],'Confidence: {:4.2f}'.format(conf)"
     ],
     "language": "python",
     "metadata": {},
     "outputs": [
      {
       "output_type": "stream",
       "stream": "stdout",
       "text": [
        "IJshockey : 358 Confidence: 0.67\n"
       ]
      }
     ],
     "prompt_number": 16
    },
    {
     "cell_type": "markdown",
     "metadata": {},
     "source": [
      "This one makes sense, not so many edits from NL on IJshockey"
     ]
    },
    {
     "cell_type": "code",
     "collapsed": false,
     "input": [
      "enPageTitle = 'Ice skating'\n",
      "nlPageTitle = getNLTitle(enPageTitle)\n",
      "\n",
      "ips, usrs, nrevs = wq.getContributionsForPage(enWiki, enPageTitle)\n",
      "byCC, conf, nIP, nUsr, nBot, nUnkn = btbtools.prepareData(ips, usrs, enBots, lang='en')\n",
      "print enPageTitle,':',byCC['CA'],'Confidence: {:4.2f}'.format(conf)\n",
      "\n",
      "ips, usrs, nrevs = wq.getContributionsForPage(nlWiki, nlPageTitle)\n",
      "byCC, conf, nIP, nUsr, nBot, nUnkn = btbtools.prepareData(ips, usrs, nlBots, lang='nl')\n",
      "print nlPageTitle,':', byCC['NL'],'Confidence: {:4.2f}'.format(conf)"
     ],
     "language": "python",
     "metadata": {},
     "outputs": [
      {
       "output_type": "stream",
       "stream": "stdout",
       "text": [
        "Ice skating  ==>  Schaatsen\n",
        "Ice skating"
       ]
      },
      {
       "output_type": "stream",
       "stream": "stdout",
       "text": [
        " : 75 Confidence: 0.65\n",
        "Schaatsen"
       ]
      },
      {
       "output_type": "stream",
       "stream": "stdout",
       "text": [
        " : 249 Confidence: 0.55\n"
       ]
      }
     ],
     "prompt_number": 18
    },
    {
     "cell_type": "markdown",
     "metadata": {},
     "source": [
      "So maybe we should normalize these number of edits ? instead of the length ?\n",
      "\n",
      "Use ratio of lengths as\n",
      "length_NL * (edits_from_NL / edits_in_NL_WIKI) \n",
      "/ \n",
      "length_EN * (edits_from_CA / edits_in_EN_WIKI)\n",
      "?"
     ]
    }
   ],
   "metadata": {}
  }
 ]
}